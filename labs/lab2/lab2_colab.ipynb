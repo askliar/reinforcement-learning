{
  "nbformat": 4,
  "nbformat_minor": 0,
  "metadata": {
    "colab": {
      "name": "lab2.ipynb",
      "version": "0.3.2",
      "provenance": [],
      "toc_visible": true,
      "include_colab_link": true
    },
    "kernelspec": {
      "name": "python3",
      "display_name": "Python 3"
    },
    "accelerator": "GPU"
  },
  "cells": [
    {
      "cell_type": "markdown",
      "metadata": {
        "id": "view-in-github",
        "colab_type": "text"
      },
      "source": [
        "<a href=\"https://colab.research.google.com/github/askliar/reinforcement-learning/blob/master/lab2.ipynb\" target=\"_parent\"><img src=\"https://colab.research.google.com/assets/colab-badge.svg\" alt=\"Open In Colab\"/></a>"
      ]
    },
    {
      "metadata": {
        "id": "2fpU5Z1MBhpP",
        "colab_type": "text"
      },
      "cell_type": "markdown",
      "source": [
        "Parts of this assignment will be **automatically graded**. Please take note of the following:\n",
        "- Before you turn this problem in, make sure everything runs as expected. First, **restart the kernel** (in the menubar, select Kernel$\\rightarrow$Restart) and then **run all cells** (in the menubar, select Cell$\\rightarrow$Run All).\n",
        "- You can add additional cells, but it is not recommended to (re)move cells. Cells required for autograding cannot be moved and cells containing tests cannot be edited.\n",
        "- You are allowed to use a service such as [Google Colaboratory](https://colab.research.google.com/) to work together. However, you **cannot** hand in the notebook that was hosted on Google Colaboratory, but you need to copy your answers into the original notebook and verify that it runs succesfully offline. This is because Google Colaboratory destroys the metadata required for grading.\n",
        "- Name your notebook **exactly** `{TA_name}_{student1_id}_{student2_id}_lab{i}.ipynb`, for example `wouter_12345_67890_lab1.ipynb` (or elise or stephan, depending on your TA), **otherwise your submission will be skipped by our regex and you will get 0 points** (but no penalty as we cannot parse your student ids ;)).\n",
        "\n",
        "Make sure you fill in any place that says `YOUR CODE HERE` or \"YOUR ANSWER HERE\", as well as your names below:"
      ]
    },
    {
      "metadata": {
        "id": "nwo33uG6BhpS",
        "colab_type": "code",
        "colab": {}
      },
      "cell_type": "code",
      "source": [
        "NAMES = \"Andrii Skliar, Gabriele Bani\""
      ],
      "execution_count": 0,
      "outputs": []
    },
    {
      "metadata": {
        "id": "toAUFvhmBhpa",
        "colab_type": "text"
      },
      "cell_type": "markdown",
      "source": [
        "---"
      ]
    },
    {
      "metadata": {
        "id": "RPLAbs8YEXym",
        "colab_type": "code",
        "outputId": "da4e02d2-ab26-4275-b7ce-aad288b6c07f",
        "colab": {
          "base_uri": "https://localhost:8080/",
          "height": 1224
        }
      },
      "cell_type": "code",
      "source": [
        "### ONLY FOR COLAB\n",
        "!apt-get install -y cmake\n",
        "!apt-get install -y python-numpy python-dev zlib1g-dev libjpeg-dev xvfb libav-tools xorg-dev python-opengl libboost-all-dev libsdl2-dev swig\n",
        "!apt-get install ffmpeg\n",
        "!apt-get install python-opengl\n",
        "!pip install pyvirtualdisplay\n",
        "!pip install piglet\n",
        "!pip install gym\n",
        "\n",
        "# http://pytorch.org/\n",
        "from os.path import exists\n",
        "from wheel.pep425tags import get_abbr_impl, get_impl_ver, get_abi_tag\n",
        "platform = '{}{}-{}'.format(get_abbr_impl(), get_impl_ver(), get_abi_tag())\n",
        "cuda_output = !ldconfig -p|grep cudart.so|sed -e 's/.*\\.\\([0-9]*\\)\\.\\([0-9]*\\)$/cu\\1\\2/'\n",
        "accelerator = cuda_output[0] if exists('/dev/nvidia0') else 'cpu'\n",
        "\n",
        "!pip install -q http://download.pytorch.org/whl/{accelerator}/torch-0.4.1-{platform}-linux_x86_64.whl torchvision\n",
        "import torch\n",
        "\n",
        "###"
      ],
      "execution_count": 0,
      "outputs": [
        {
          "output_type": "stream",
          "text": [
            "Reading package lists... Done\n",
            "Building dependency tree       \n",
            "Reading state information... Done\n",
            "cmake is already the newest version (3.10.2-1ubuntu2).\n",
            "0 upgraded, 0 newly installed, 0 to remove and 5 not upgraded.\n",
            "Reading package lists... Done\n",
            "Building dependency tree       \n",
            "Reading state information... Done\n",
            "Package libav-tools is not available, but is referred to by another package.\n",
            "This may mean that the package is missing, has been obsoleted, or\n",
            "is only available from another source\n",
            "However the following packages replace it:\n",
            "  ffmpeg\n",
            "\n",
            "E: Package 'libav-tools' has no installation candidate\n",
            "Reading package lists... Done\n",
            "Building dependency tree       \n",
            "Reading state information... Done\n",
            "ffmpeg is already the newest version (7:3.4.4-0ubuntu0.18.04.1).\n",
            "0 upgraded, 0 newly installed, 0 to remove and 5 not upgraded.\n",
            "Reading package lists... Done\n",
            "Building dependency tree       \n",
            "Reading state information... Done\n",
            "The following additional packages will be installed:\n",
            "  freeglut3 libglu1-mesa\n",
            "Suggested packages:\n",
            "  python-numpy libgle3\n",
            "The following NEW packages will be installed:\n",
            "  freeglut3 libglu1-mesa python-opengl\n",
            "0 upgraded, 3 newly installed, 0 to remove and 5 not upgraded.\n",
            "Need to get 738 kB of archives.\n",
            "After this operation, 6,207 kB of additional disk space will be used.\n",
            "Get:1 http://archive.ubuntu.com/ubuntu bionic/universe amd64 freeglut3 amd64 2.8.1-3 [73.6 kB]\n",
            "Get:2 http://archive.ubuntu.com/ubuntu bionic/main amd64 libglu1-mesa amd64 9.0.0-2.1build1 [168 kB]\n",
            "Get:3 http://archive.ubuntu.com/ubuntu bionic/universe amd64 python-opengl all 3.1.0+dfsg-1 [496 kB]\n",
            "Fetched 738 kB in 1s (834 kB/s)\n",
            "Selecting previously unselected package freeglut3:amd64.\n",
            "(Reading database ... 26144 files and directories currently installed.)\n",
            "Preparing to unpack .../freeglut3_2.8.1-3_amd64.deb ...\n",
            "Unpacking freeglut3:amd64 (2.8.1-3) ...\n",
            "Selecting previously unselected package libglu1-mesa:amd64.\n",
            "Preparing to unpack .../libglu1-mesa_9.0.0-2.1build1_amd64.deb ...\n",
            "Unpacking libglu1-mesa:amd64 (9.0.0-2.1build1) ...\n",
            "Selecting previously unselected package python-opengl.\n",
            "Preparing to unpack .../python-opengl_3.1.0+dfsg-1_all.deb ...\n",
            "Unpacking python-opengl (3.1.0+dfsg-1) ...\n",
            "Setting up freeglut3:amd64 (2.8.1-3) ...\n",
            "Processing triggers for libc-bin (2.27-3ubuntu1) ...\n",
            "Setting up libglu1-mesa:amd64 (9.0.0-2.1build1) ...\n",
            "Setting up python-opengl (3.1.0+dfsg-1) ...\n",
            "Processing triggers for libc-bin (2.27-3ubuntu1) ...\n",
            "Requirement already satisfied: pyvirtualdisplay in /usr/local/lib/python3.6/dist-packages (0.2.1)\n",
            "Requirement already satisfied: EasyProcess in /usr/local/lib/python3.6/dist-packages (from pyvirtualdisplay) (0.2.3)\n",
            "Requirement already satisfied: piglet in /usr/local/lib/python3.6/dist-packages (0.4.4)\n",
            "Requirement already satisfied: Parsley in /usr/local/lib/python3.6/dist-packages (from piglet) (1.3)\n",
            "Requirement already satisfied: markupsafe in /usr/local/lib/python3.6/dist-packages (from piglet) (1.1.0)\n",
            "Requirement already satisfied: attrs in /usr/local/lib/python3.6/dist-packages (from piglet) (18.2.0)\n",
            "Requirement already satisfied: astunparse in /usr/local/lib/python3.6/dist-packages (from piglet) (1.6.1)\n",
            "Requirement already satisfied: wheel<1.0,>=0.23.0 in /usr/local/lib/python3.6/dist-packages (from astunparse->piglet) (0.32.3)\n",
            "Requirement already satisfied: six<2.0,>=1.6.1 in /usr/local/lib/python3.6/dist-packages (from astunparse->piglet) (1.11.0)\n",
            "Requirement already satisfied: gym in /usr/local/lib/python3.6/dist-packages (0.10.9)\n",
            "Requirement already satisfied: numpy>=1.10.4 in /usr/local/lib/python3.6/dist-packages (from gym) (1.14.6)\n",
            "Requirement already satisfied: requests>=2.0 in /usr/local/lib/python3.6/dist-packages (from gym) (2.18.4)\n",
            "Requirement already satisfied: pyglet>=1.2.0 in /usr/local/lib/python3.6/dist-packages (from gym) (1.3.2)\n",
            "Requirement already satisfied: scipy in /usr/local/lib/python3.6/dist-packages (from gym) (1.1.0)\n",
            "Requirement already satisfied: six in /usr/local/lib/python3.6/dist-packages (from gym) (1.11.0)\n",
            "Requirement already satisfied: idna<2.7,>=2.5 in /usr/local/lib/python3.6/dist-packages (from requests>=2.0->gym) (2.6)\n",
            "Requirement already satisfied: urllib3<1.23,>=1.21.1 in /usr/local/lib/python3.6/dist-packages (from requests>=2.0->gym) (1.22)\n",
            "Requirement already satisfied: chardet<3.1.0,>=3.0.2 in /usr/local/lib/python3.6/dist-packages (from requests>=2.0->gym) (3.0.4)\n",
            "Requirement already satisfied: certifi>=2017.4.17 in /usr/local/lib/python3.6/dist-packages (from requests>=2.0->gym) (2018.10.15)\n",
            "Requirement already satisfied: future in /usr/local/lib/python3.6/dist-packages (from pyglet>=1.2.0->gym) (0.16.0)\n"
          ],
          "name": "stdout"
        }
      ]
    },
    {
      "metadata": {
        "deletable": false,
        "editable": false,
        "nbgrader": {
          "checksum": "931b3dfcc3a02b92b499929fb27299cb",
          "grade": false,
          "grade_id": "cell-fc69f22067705372",
          "locked": true,
          "schema_version": 1,
          "solution": false
        },
        "id": "0NkUrphDBhpb",
        "colab_type": "code",
        "colab": {}
      },
      "cell_type": "code",
      "source": [
        "%matplotlib inline\n",
        "import os\n",
        "import numpy as np\n",
        "import matplotlib.pyplot as plt\n",
        "import sys\n",
        "import torch\n",
        "from torch import nn\n",
        "import torch.nn.functional as F\n",
        "from torch import optim\n",
        "from tqdm import tqdm as _tqdm\n",
        "\n",
        "def tqdm(*args, **kwargs):\n",
        "    return _tqdm(*args, **kwargs, mininterval=1)  # Safety, do not overflow buffer\n",
        "\n",
        "EPS = float(np.finfo(np.float32).eps)\n",
        "\n",
        "assert sys.version_info[:3] >= (3, 6, 0), \"Make sure you have Python 3.6 installed!\""
      ],
      "execution_count": 0,
      "outputs": []
    },
    {
      "metadata": {
        "deletable": false,
        "editable": false,
        "nbgrader": {
          "checksum": "e27fe8f72a248bbcf1f7a21e5550e657",
          "grade": true,
          "grade_id": "cell-39519f4ab05eb2a1",
          "locked": true,
          "points": 0,
          "schema_version": 1,
          "solution": false
        },
        "id": "Hk5P8dwLBhpi",
        "colab_type": "code",
        "outputId": "9d27942a-ad68-4cb2-bbc3-8d7e7d0ff6d9",
        "colab": {
          "base_uri": "https://localhost:8080/",
          "height": 71
        }
      },
      "cell_type": "code",
      "source": [
        "import gym\n",
        "env = gym.envs.make(\"CartPole-v0\")"
      ],
      "execution_count": 0,
      "outputs": [
        {
          "output_type": "stream",
          "text": [
            "/usr/local/lib/python3.6/dist-packages/gym/envs/registration.py:14: PkgResourcesDeprecationWarning: Parameters to load are deprecated.  Call .resolve and .require separately.\n",
            "  result = entry_point.load(False)\n"
          ],
          "name": "stderr"
        }
      ]
    },
    {
      "metadata": {
        "deletable": false,
        "editable": false,
        "nbgrader": {
          "checksum": "e83ecfc2751cf2e6ff05d0c01d311673",
          "grade": false,
          "grade_id": "cell-fef7e20e54e6243b",
          "locked": true,
          "schema_version": 1,
          "solution": false
        },
        "id": "jZNfjntlBhpg",
        "colab_type": "text"
      },
      "cell_type": "markdown",
      "source": [
        "---\n",
        "## 1. Deep Q-Network (DQN) (10 (+ 2 bonus) points)"
      ]
    },
    {
      "metadata": {
        "id": "MHweK4dnBhpn",
        "colab_type": "code",
        "colab": {}
      },
      "cell_type": "code",
      "source": [
        "# env is a TimeLimit wrapper around an env, so use env.env to look into the env (but otherwise you can forget about this)\n",
        "??env.env"
      ],
      "execution_count": 0,
      "outputs": []
    },
    {
      "metadata": {
        "id": "lDRpECt7Bhpr",
        "colab_type": "code",
        "outputId": "9e790e14-91aa-4af9-cd34-fd0475bb4eba",
        "colab": {
          "base_uri": "https://localhost:8080/",
          "height": 1475
        }
      },
      "cell_type": "code",
      "source": [
        "import time\n",
        "# The nice thing about the CARTPOLE is that it has very nice rendering functionality (if you are on a local environment). Let's have a look at an episode\n",
        "obs = env.reset()\n",
        "env.render()\n",
        "done = False\n",
        "while not done:\n",
        "    obs, reward, done, _ = env.step(env.action_space.sample())\n",
        "    env.render()\n",
        "    time.sleep(0.05)\n",
        "env.close()  # Close the environment or you will have a lot of render screens soon"
      ],
      "execution_count": 0,
      "outputs": [
        {
          "output_type": "error",
          "ename": "ReraisedException",
          "evalue": "ignored",
          "traceback": [
            "\u001b[0;31m---------------------------------------------------------------------------\u001b[0m",
            "\u001b[0;31mReraisedException\u001b[0m                         Traceback (most recent call last)",
            "\u001b[0;32m<ipython-input-14-8ff20755803d>\u001b[0m in \u001b[0;36m<module>\u001b[0;34m()\u001b[0m\n\u001b[1;32m      2\u001b[0m \u001b[0;31m# The nice thing about the CARTPOLE is that it has very nice rendering functionality (if you are on a local environment). Let's have a look at an episode\u001b[0m\u001b[0;34m\u001b[0m\u001b[0;34m\u001b[0m\u001b[0;34m\u001b[0m\u001b[0m\n\u001b[1;32m      3\u001b[0m \u001b[0mobs\u001b[0m \u001b[0;34m=\u001b[0m \u001b[0menv\u001b[0m\u001b[0;34m.\u001b[0m\u001b[0mreset\u001b[0m\u001b[0;34m(\u001b[0m\u001b[0;34m)\u001b[0m\u001b[0;34m\u001b[0m\u001b[0;34m\u001b[0m\u001b[0m\n\u001b[0;32m----> 4\u001b[0;31m \u001b[0menv\u001b[0m\u001b[0;34m.\u001b[0m\u001b[0mrender\u001b[0m\u001b[0;34m(\u001b[0m\u001b[0;34m)\u001b[0m\u001b[0;34m\u001b[0m\u001b[0;34m\u001b[0m\u001b[0m\n\u001b[0m\u001b[1;32m      5\u001b[0m \u001b[0mdone\u001b[0m \u001b[0;34m=\u001b[0m \u001b[0;32mFalse\u001b[0m\u001b[0;34m\u001b[0m\u001b[0;34m\u001b[0m\u001b[0m\n\u001b[1;32m      6\u001b[0m \u001b[0;32mwhile\u001b[0m \u001b[0;32mnot\u001b[0m \u001b[0mdone\u001b[0m\u001b[0;34m:\u001b[0m\u001b[0;34m\u001b[0m\u001b[0;34m\u001b[0m\u001b[0m\n",
            "\u001b[0;32m/usr/local/lib/python3.6/dist-packages/gym/core.py\u001b[0m in \u001b[0;36mrender\u001b[0;34m(self, mode, **kwargs)\u001b[0m\n\u001b[1;32m    273\u001b[0m \u001b[0;34m\u001b[0m\u001b[0m\n\u001b[1;32m    274\u001b[0m     \u001b[0;32mdef\u001b[0m \u001b[0mrender\u001b[0m\u001b[0;34m(\u001b[0m\u001b[0mself\u001b[0m\u001b[0;34m,\u001b[0m \u001b[0mmode\u001b[0m\u001b[0;34m=\u001b[0m\u001b[0;34m'human'\u001b[0m\u001b[0;34m,\u001b[0m \u001b[0;34m**\u001b[0m\u001b[0mkwargs\u001b[0m\u001b[0;34m)\u001b[0m\u001b[0;34m:\u001b[0m\u001b[0;34m\u001b[0m\u001b[0;34m\u001b[0m\u001b[0m\n\u001b[0;32m--> 275\u001b[0;31m         \u001b[0;32mreturn\u001b[0m \u001b[0mself\u001b[0m\u001b[0;34m.\u001b[0m\u001b[0menv\u001b[0m\u001b[0;34m.\u001b[0m\u001b[0mrender\u001b[0m\u001b[0;34m(\u001b[0m\u001b[0mmode\u001b[0m\u001b[0;34m,\u001b[0m \u001b[0;34m**\u001b[0m\u001b[0mkwargs\u001b[0m\u001b[0;34m)\u001b[0m\u001b[0;34m\u001b[0m\u001b[0;34m\u001b[0m\u001b[0m\n\u001b[0m\u001b[1;32m    276\u001b[0m \u001b[0;34m\u001b[0m\u001b[0m\n\u001b[1;32m    277\u001b[0m     \u001b[0;32mdef\u001b[0m \u001b[0mclose\u001b[0m\u001b[0;34m(\u001b[0m\u001b[0mself\u001b[0m\u001b[0;34m)\u001b[0m\u001b[0;34m:\u001b[0m\u001b[0;34m\u001b[0m\u001b[0;34m\u001b[0m\u001b[0m\n",
            "\u001b[0;32m/usr/local/lib/python3.6/dist-packages/gym/envs/classic_control/cartpole.py\u001b[0m in \u001b[0;36mrender\u001b[0;34m(self, mode)\u001b[0m\n\u001b[1;32m    148\u001b[0m \u001b[0;34m\u001b[0m\u001b[0m\n\u001b[1;32m    149\u001b[0m         \u001b[0;32mif\u001b[0m \u001b[0mself\u001b[0m\u001b[0;34m.\u001b[0m\u001b[0mviewer\u001b[0m \u001b[0;32mis\u001b[0m \u001b[0;32mNone\u001b[0m\u001b[0;34m:\u001b[0m\u001b[0;34m\u001b[0m\u001b[0;34m\u001b[0m\u001b[0m\n\u001b[0;32m--> 150\u001b[0;31m             \u001b[0;32mfrom\u001b[0m \u001b[0mgym\u001b[0m\u001b[0;34m.\u001b[0m\u001b[0menvs\u001b[0m\u001b[0;34m.\u001b[0m\u001b[0mclassic_control\u001b[0m \u001b[0;32mimport\u001b[0m \u001b[0mrendering\u001b[0m\u001b[0;34m\u001b[0m\u001b[0;34m\u001b[0m\u001b[0m\n\u001b[0m\u001b[1;32m    151\u001b[0m             \u001b[0mself\u001b[0m\u001b[0;34m.\u001b[0m\u001b[0mviewer\u001b[0m \u001b[0;34m=\u001b[0m \u001b[0mrendering\u001b[0m\u001b[0;34m.\u001b[0m\u001b[0mViewer\u001b[0m\u001b[0;34m(\u001b[0m\u001b[0mscreen_width\u001b[0m\u001b[0;34m,\u001b[0m \u001b[0mscreen_height\u001b[0m\u001b[0;34m)\u001b[0m\u001b[0;34m\u001b[0m\u001b[0;34m\u001b[0m\u001b[0m\n\u001b[1;32m    152\u001b[0m             \u001b[0ml\u001b[0m\u001b[0;34m,\u001b[0m\u001b[0mr\u001b[0m\u001b[0;34m,\u001b[0m\u001b[0mt\u001b[0m\u001b[0;34m,\u001b[0m\u001b[0mb\u001b[0m \u001b[0;34m=\u001b[0m \u001b[0;34m-\u001b[0m\u001b[0mcartwidth\u001b[0m\u001b[0;34m/\u001b[0m\u001b[0;36m2\u001b[0m\u001b[0;34m,\u001b[0m \u001b[0mcartwidth\u001b[0m\u001b[0;34m/\u001b[0m\u001b[0;36m2\u001b[0m\u001b[0;34m,\u001b[0m \u001b[0mcartheight\u001b[0m\u001b[0;34m/\u001b[0m\u001b[0;36m2\u001b[0m\u001b[0;34m,\u001b[0m \u001b[0;34m-\u001b[0m\u001b[0mcartheight\u001b[0m\u001b[0;34m/\u001b[0m\u001b[0;36m2\u001b[0m\u001b[0;34m\u001b[0m\u001b[0;34m\u001b[0m\u001b[0m\n",
            "\u001b[0;32m/usr/local/lib/python3.6/dist-packages/gym/envs/classic_control/rendering.py\u001b[0m in \u001b[0;36m<module>\u001b[0;34m()\u001b[0m\n\u001b[1;32m     23\u001b[0m     \u001b[0;32mfrom\u001b[0m \u001b[0mpyglet\u001b[0m\u001b[0;34m.\u001b[0m\u001b[0mgl\u001b[0m \u001b[0;32mimport\u001b[0m \u001b[0;34m*\u001b[0m\u001b[0;34m\u001b[0m\u001b[0;34m\u001b[0m\u001b[0m\n\u001b[1;32m     24\u001b[0m \u001b[0;32mexcept\u001b[0m \u001b[0mImportError\u001b[0m \u001b[0;32mas\u001b[0m \u001b[0me\u001b[0m\u001b[0;34m:\u001b[0m\u001b[0;34m\u001b[0m\u001b[0;34m\u001b[0m\u001b[0m\n\u001b[0;32m---> 25\u001b[0;31m     \u001b[0mreraise\u001b[0m\u001b[0;34m(\u001b[0m\u001b[0mprefix\u001b[0m\u001b[0;34m=\u001b[0m\u001b[0;34m\"Error occured while running `from pyglet.gl import *`\"\u001b[0m\u001b[0;34m,\u001b[0m\u001b[0msuffix\u001b[0m\u001b[0;34m=\u001b[0m\u001b[0;34m\"HINT: make sure you have OpenGL install. On Ubuntu, you can run 'apt-get install python-opengl'. If you're running on a server, you may need a virtual frame buffer; something like this should work: 'xvfb-run -s \\\"-screen 0 1400x900x24\\\" python <your_script.py>'\"\u001b[0m\u001b[0;34m)\u001b[0m\u001b[0;34m\u001b[0m\u001b[0;34m\u001b[0m\u001b[0m\n\u001b[0m\u001b[1;32m     26\u001b[0m \u001b[0;34m\u001b[0m\u001b[0m\n\u001b[1;32m     27\u001b[0m \u001b[0;32mimport\u001b[0m \u001b[0mmath\u001b[0m\u001b[0;34m\u001b[0m\u001b[0;34m\u001b[0m\u001b[0m\n",
            "\u001b[0;32m/usr/local/lib/python3.6/dist-packages/gym/utils/reraise.py\u001b[0m in \u001b[0;36mreraise\u001b[0;34m(prefix, suffix)\u001b[0m\n\u001b[1;32m     15\u001b[0m     \u001b[0me\u001b[0m \u001b[0;34m=\u001b[0m \u001b[0mReraisedException\u001b[0m\u001b[0;34m(\u001b[0m\u001b[0mold_exc_value\u001b[0m\u001b[0;34m,\u001b[0m \u001b[0mprefix\u001b[0m\u001b[0;34m,\u001b[0m \u001b[0msuffix\u001b[0m\u001b[0;34m)\u001b[0m\u001b[0;34m\u001b[0m\u001b[0;34m\u001b[0m\u001b[0m\n\u001b[1;32m     16\u001b[0m \u001b[0;34m\u001b[0m\u001b[0m\n\u001b[0;32m---> 17\u001b[0;31m     \u001b[0mreraise_impl\u001b[0m\u001b[0;34m(\u001b[0m\u001b[0me\u001b[0m\u001b[0;34m,\u001b[0m \u001b[0mtraceback\u001b[0m\u001b[0;34m)\u001b[0m\u001b[0;34m\u001b[0m\u001b[0;34m\u001b[0m\u001b[0m\n\u001b[0m\u001b[1;32m     18\u001b[0m \u001b[0;34m\u001b[0m\u001b[0m\n\u001b[1;32m     19\u001b[0m \u001b[0;31m# http://stackoverflow.com/a/13653312\u001b[0m\u001b[0;34m\u001b[0m\u001b[0;34m\u001b[0m\u001b[0;34m\u001b[0m\u001b[0m\n",
            "\u001b[0;32m/usr/local/lib/python3.6/dist-packages/gym/utils/reraise_impl_py3.py\u001b[0m in \u001b[0;36mreraise_impl\u001b[0;34m(e, traceback)\u001b[0m\n\u001b[1;32m      2\u001b[0m \u001b[0;31m# semi-smart exception chaining, which we don't want in this case.\u001b[0m\u001b[0;34m\u001b[0m\u001b[0;34m\u001b[0m\u001b[0;34m\u001b[0m\u001b[0m\n\u001b[1;32m      3\u001b[0m \u001b[0;32mdef\u001b[0m \u001b[0mreraise_impl\u001b[0m\u001b[0;34m(\u001b[0m\u001b[0me\u001b[0m\u001b[0;34m,\u001b[0m \u001b[0mtraceback\u001b[0m\u001b[0;34m)\u001b[0m\u001b[0;34m:\u001b[0m\u001b[0;34m\u001b[0m\u001b[0;34m\u001b[0m\u001b[0m\n\u001b[0;32m----> 4\u001b[0;31m     \u001b[0;32mraise\u001b[0m \u001b[0me\u001b[0m\u001b[0;34m.\u001b[0m\u001b[0mwith_traceback\u001b[0m\u001b[0;34m(\u001b[0m\u001b[0mtraceback\u001b[0m\u001b[0;34m)\u001b[0m \u001b[0;32mfrom\u001b[0m \u001b[0;32mNone\u001b[0m\u001b[0;34m\u001b[0m\u001b[0;34m\u001b[0m\u001b[0m\n\u001b[0m",
            "\u001b[0;32m/usr/local/lib/python3.6/dist-packages/gym/envs/classic_control/rendering.py\u001b[0m in \u001b[0;36m<module>\u001b[0;34m()\u001b[0m\n\u001b[1;32m     21\u001b[0m \u001b[0;34m\u001b[0m\u001b[0m\n\u001b[1;32m     22\u001b[0m \u001b[0;32mtry\u001b[0m\u001b[0;34m:\u001b[0m\u001b[0;34m\u001b[0m\u001b[0;34m\u001b[0m\u001b[0m\n\u001b[0;32m---> 23\u001b[0;31m     \u001b[0;32mfrom\u001b[0m \u001b[0mpyglet\u001b[0m\u001b[0;34m.\u001b[0m\u001b[0mgl\u001b[0m \u001b[0;32mimport\u001b[0m \u001b[0;34m*\u001b[0m\u001b[0;34m\u001b[0m\u001b[0;34m\u001b[0m\u001b[0m\n\u001b[0m\u001b[1;32m     24\u001b[0m \u001b[0;32mexcept\u001b[0m \u001b[0mImportError\u001b[0m \u001b[0;32mas\u001b[0m \u001b[0me\u001b[0m\u001b[0;34m:\u001b[0m\u001b[0;34m\u001b[0m\u001b[0;34m\u001b[0m\u001b[0m\n\u001b[1;32m     25\u001b[0m     \u001b[0mreraise\u001b[0m\u001b[0;34m(\u001b[0m\u001b[0mprefix\u001b[0m\u001b[0;34m=\u001b[0m\u001b[0;34m\"Error occured while running `from pyglet.gl import *`\"\u001b[0m\u001b[0;34m,\u001b[0m\u001b[0msuffix\u001b[0m\u001b[0;34m=\u001b[0m\u001b[0;34m\"HINT: make sure you have OpenGL install. On Ubuntu, you can run 'apt-get install python-opengl'. If you're running on a server, you may need a virtual frame buffer; something like this should work: 'xvfb-run -s \\\"-screen 0 1400x900x24\\\" python <your_script.py>'\"\u001b[0m\u001b[0;34m)\u001b[0m\u001b[0;34m\u001b[0m\u001b[0;34m\u001b[0m\u001b[0m\n",
            "\u001b[0;32m/usr/local/lib/python3.6/dist-packages/pyglet/gl/__init__.py\u001b[0m in \u001b[0;36m<module>\u001b[0;34m()\u001b[0m\n\u001b[1;32m     98\u001b[0m \u001b[0m__version__\u001b[0m \u001b[0;34m=\u001b[0m \u001b[0;34m'$Id$'\u001b[0m\u001b[0;34m\u001b[0m\u001b[0;34m\u001b[0m\u001b[0m\n\u001b[1;32m     99\u001b[0m \u001b[0;34m\u001b[0m\u001b[0m\n\u001b[0;32m--> 100\u001b[0;31m \u001b[0;32mfrom\u001b[0m \u001b[0mpyglet\u001b[0m\u001b[0;34m.\u001b[0m\u001b[0mgl\u001b[0m\u001b[0;34m.\u001b[0m\u001b[0mlib\u001b[0m \u001b[0;32mimport\u001b[0m \u001b[0mGLException\u001b[0m\u001b[0;34m\u001b[0m\u001b[0;34m\u001b[0m\u001b[0m\n\u001b[0m\u001b[1;32m    101\u001b[0m \u001b[0;32mfrom\u001b[0m \u001b[0mpyglet\u001b[0m\u001b[0;34m.\u001b[0m\u001b[0mgl\u001b[0m\u001b[0;34m.\u001b[0m\u001b[0mgl\u001b[0m \u001b[0;32mimport\u001b[0m \u001b[0;34m*\u001b[0m\u001b[0;34m\u001b[0m\u001b[0;34m\u001b[0m\u001b[0m\n\u001b[1;32m    102\u001b[0m \u001b[0;32mfrom\u001b[0m \u001b[0mpyglet\u001b[0m\u001b[0;34m.\u001b[0m\u001b[0mgl\u001b[0m\u001b[0;34m.\u001b[0m\u001b[0mglu\u001b[0m \u001b[0;32mimport\u001b[0m \u001b[0;34m*\u001b[0m\u001b[0;34m\u001b[0m\u001b[0;34m\u001b[0m\u001b[0m\n",
            "\u001b[0;32m/usr/local/lib/python3.6/dist-packages/pyglet/gl/lib.py\u001b[0m in \u001b[0;36m<module>\u001b[0;34m()\u001b[0m\n\u001b[1;32m    141\u001b[0m     \u001b[0;32mfrom\u001b[0m \u001b[0mpyglet\u001b[0m\u001b[0;34m.\u001b[0m\u001b[0mgl\u001b[0m\u001b[0;34m.\u001b[0m\u001b[0mlib_agl\u001b[0m \u001b[0;32mimport\u001b[0m \u001b[0mlink_GL\u001b[0m\u001b[0;34m,\u001b[0m \u001b[0mlink_GLU\u001b[0m\u001b[0;34m,\u001b[0m \u001b[0mlink_AGL\u001b[0m\u001b[0;34m\u001b[0m\u001b[0;34m\u001b[0m\u001b[0m\n\u001b[1;32m    142\u001b[0m \u001b[0;32melse\u001b[0m\u001b[0;34m:\u001b[0m\u001b[0;34m\u001b[0m\u001b[0;34m\u001b[0m\u001b[0m\n\u001b[0;32m--> 143\u001b[0;31m     \u001b[0;32mfrom\u001b[0m \u001b[0mpyglet\u001b[0m\u001b[0;34m.\u001b[0m\u001b[0mgl\u001b[0m\u001b[0;34m.\u001b[0m\u001b[0mlib_glx\u001b[0m \u001b[0;32mimport\u001b[0m \u001b[0mlink_GL\u001b[0m\u001b[0;34m,\u001b[0m \u001b[0mlink_GLU\u001b[0m\u001b[0;34m,\u001b[0m \u001b[0mlink_GLX\u001b[0m\u001b[0;34m\u001b[0m\u001b[0;34m\u001b[0m\u001b[0m\n\u001b[0m\u001b[1;32m    144\u001b[0m \u001b[0;34m\u001b[0m\u001b[0m\n",
            "\u001b[0;32m/usr/local/lib/python3.6/dist-packages/pyglet/gl/lib_glx.py\u001b[0m in \u001b[0;36m<module>\u001b[0;34m()\u001b[0m\n\u001b[1;32m     49\u001b[0m \u001b[0;34m\u001b[0m\u001b[0m\n\u001b[1;32m     50\u001b[0m \u001b[0mgl_lib\u001b[0m \u001b[0;34m=\u001b[0m \u001b[0mpyglet\u001b[0m\u001b[0;34m.\u001b[0m\u001b[0mlib\u001b[0m\u001b[0;34m.\u001b[0m\u001b[0mload_library\u001b[0m\u001b[0;34m(\u001b[0m\u001b[0;34m'GL'\u001b[0m\u001b[0;34m)\u001b[0m\u001b[0;34m\u001b[0m\u001b[0;34m\u001b[0m\u001b[0m\n\u001b[0;32m---> 51\u001b[0;31m \u001b[0mglu_lib\u001b[0m \u001b[0;34m=\u001b[0m \u001b[0mpyglet\u001b[0m\u001b[0;34m.\u001b[0m\u001b[0mlib\u001b[0m\u001b[0;34m.\u001b[0m\u001b[0mload_library\u001b[0m\u001b[0;34m(\u001b[0m\u001b[0;34m'GLU'\u001b[0m\u001b[0;34m)\u001b[0m\u001b[0;34m\u001b[0m\u001b[0;34m\u001b[0m\u001b[0m\n\u001b[0m\u001b[1;32m     52\u001b[0m \u001b[0;34m\u001b[0m\u001b[0m\n\u001b[1;32m     53\u001b[0m \u001b[0;31m# Look for glXGetProcAddressARB extension, use it as fallback (for\u001b[0m\u001b[0;34m\u001b[0m\u001b[0;34m\u001b[0m\u001b[0;34m\u001b[0m\u001b[0m\n",
            "\u001b[0;32m/usr/local/lib/python3.6/dist-packages/pyglet/lib.py\u001b[0m in \u001b[0;36mload_library\u001b[0;34m(self, *names, **kwargs)\u001b[0m\n\u001b[1;32m    156\u001b[0m                     \u001b[0;32mexcept\u001b[0m \u001b[0mOSError\u001b[0m\u001b[0;34m:\u001b[0m\u001b[0;34m\u001b[0m\u001b[0;34m\u001b[0m\u001b[0m\n\u001b[1;32m    157\u001b[0m                         \u001b[0;32mpass\u001b[0m\u001b[0;34m\u001b[0m\u001b[0;34m\u001b[0m\u001b[0m\n\u001b[0;32m--> 158\u001b[0;31m         \u001b[0;32mraise\u001b[0m \u001b[0mImportError\u001b[0m\u001b[0;34m(\u001b[0m\u001b[0;34m'Library \"%s\" not found.'\u001b[0m \u001b[0;34m%\u001b[0m \u001b[0mnames\u001b[0m\u001b[0;34m[\u001b[0m\u001b[0;36m0\u001b[0m\u001b[0;34m]\u001b[0m\u001b[0;34m)\u001b[0m\u001b[0;34m\u001b[0m\u001b[0;34m\u001b[0m\u001b[0m\n\u001b[0m\u001b[1;32m    159\u001b[0m \u001b[0;34m\u001b[0m\u001b[0m\n\u001b[1;32m    160\u001b[0m     \u001b[0mfind_library\u001b[0m \u001b[0;34m=\u001b[0m \u001b[0;32mlambda\u001b[0m \u001b[0mself\u001b[0m\u001b[0;34m,\u001b[0m \u001b[0mname\u001b[0m\u001b[0;34m:\u001b[0m \u001b[0mctypes\u001b[0m\u001b[0;34m.\u001b[0m\u001b[0mutil\u001b[0m\u001b[0;34m.\u001b[0m\u001b[0mfind_library\u001b[0m\u001b[0;34m(\u001b[0m\u001b[0mname\u001b[0m\u001b[0;34m)\u001b[0m\u001b[0;34m\u001b[0m\u001b[0;34m\u001b[0m\u001b[0m\n",
            "\u001b[0;31mReraisedException\u001b[0m: Error occured while running `from pyglet.gl import *`\nThe original exception was:\n\nImportError: Library \"GLU\" not found.\n\nHINT: make sure you have OpenGL install. On Ubuntu, you can run 'apt-get install python-opengl'. If you're running on a server, you may need a virtual frame buffer; something like this should work: 'xvfb-run -s \"-screen 0 1400x900x24\" python <your_script.py>'"
          ]
        }
      ]
    },
    {
      "metadata": {
        "deletable": false,
        "editable": false,
        "nbgrader": {
          "checksum": "11a9c014ee5fbe790ce999428cc22658",
          "grade": false,
          "grade_id": "cell-2d83f70e62b99520",
          "locked": true,
          "schema_version": 1,
          "solution": false
        },
        "id": "JhV_Cw42Bhpv",
        "colab_type": "text"
      },
      "cell_type": "markdown",
      "source": [
        "Remember from the previous lab, that in order to optimize a policy we need to estimate the Q-values (e.g. estimate the *action* values). In the CartPole problem, our state is current position of the cart, the current velocity of the cart, the current (angular) position of the pole and the (angular) speed of the pole. As these are continuous variables, we have an infinite number of states (ignoring the fact that a digital computer can only represent finitely many states in finite memory)."
      ]
    },
    {
      "metadata": {
        "deletable": false,
        "editable": false,
        "nbgrader": {
          "checksum": "9692b7acb09d018d9f80ce95685b81d5",
          "grade": false,
          "grade_id": "cell-bf2ac21267daffbb",
          "locked": true,
          "schema_version": 1,
          "solution": false
        },
        "id": "QYLRY8s_Bhpw",
        "colab_type": "text"
      },
      "cell_type": "markdown",
      "source": [
        "Can you think of a way in which we can still use a tabular approach? Why would this work and can you think of an example problem where this would not work?"
      ]
    },
    {
      "metadata": {
        "deletable": false,
        "nbgrader": {
          "checksum": "3ffce6fca4071a1b543186db1b74cc98",
          "grade": true,
          "grade_id": "cell-b0fa2cb0c2cd2a63",
          "locked": false,
          "points": 1,
          "schema_version": 1,
          "solution": true
        },
        "id": "bdkGJ-wHBhpy",
        "colab_type": "text"
      },
      "cell_type": "markdown",
      "source": [
        "YOUR ANSWER HERE"
      ]
    },
    {
      "metadata": {
        "deletable": false,
        "editable": false,
        "nbgrader": {
          "checksum": "cd66b44d93f348df1e0ef8353377c879",
          "grade": false,
          "grade_id": "cell-0b3162496f5e6cf5",
          "locked": true,
          "schema_version": 1,
          "solution": false
        },
        "id": "UbhnIhGRBhpz",
        "colab_type": "text"
      },
      "cell_type": "markdown",
      "source": [
        "### 1.1 Implement Q-Network"
      ]
    },
    {
      "metadata": {
        "deletable": false,
        "editable": false,
        "nbgrader": {
          "checksum": "84b9c38718c952ef8e62486fc9bf5e4a",
          "grade": false,
          "grade_id": "cell-96a86bcfa1ebc84a",
          "locked": true,
          "schema_version": 1,
          "solution": false
        },
        "id": "ziDUlKPZBhp1",
        "colab_type": "text"
      },
      "cell_type": "markdown",
      "source": [
        "We will not use the tabular approach but approximate the Q-value function by a general approximator function. We will skip the linear case and directly use a two layer Neural Network. We use [PyTorch](https://pytorch.org/) to implement the network, as this will allow us to train it easily later. We can implement a model using `torch.nn.Sequential`, but with PyTorch it is actually very easy to implement the model (e.g. the forward pass) from scratch. Now implement the `QNetwork.forward` function that uses one hidden layer with ReLU activation (no output activation)."
      ]
    },
    {
      "metadata": {
        "deletable": false,
        "nbgrader": {
          "checksum": "4ef7d14363dc2aa4beb638856c57a58c",
          "grade": false,
          "grade_id": "cell-216429a5dccf8a0e",
          "locked": false,
          "schema_version": 1,
          "solution": true
        },
        "id": "VGg-Vn7FBhp2",
        "colab_type": "code",
        "colab": {}
      },
      "cell_type": "code",
      "source": [
        "class QNetwork(nn.Module):\n",
        "    \n",
        "    def __init__(self, num_hidden=128):\n",
        "        nn.Module.__init__(self)\n",
        "        self.l1 = nn.Linear(4, num_hidden)\n",
        "        self.l2 = nn.Linear(num_hidden, 2)\n",
        "\n",
        "    def forward(self, x):\n",
        "        x = self.l1(x)\n",
        "        x = torch.relu(x)\n",
        "        out = self.l2(x)\n",
        "        \n",
        "        return out"
      ],
      "execution_count": 0,
      "outputs": []
    },
    {
      "metadata": {
        "deletable": false,
        "editable": false,
        "nbgrader": {
          "checksum": "2b9a48f9aee9ebc46da01c6f11cd789a",
          "grade": true,
          "grade_id": "cell-00ce108d640a5942",
          "locked": true,
          "points": 1,
          "schema_version": 1,
          "solution": false
        },
        "id": "IWI0OBriBhp7",
        "colab_type": "code",
        "colab": {}
      },
      "cell_type": "code",
      "source": [
        "# Let's instantiate and test if it works\n",
        "num_hidden = 128\n",
        "torch.manual_seed(1234)\n",
        "model = QNetwork(num_hidden)\n",
        "\n",
        "torch.manual_seed(1234)\n",
        "test_model = nn.Sequential(\n",
        "    nn.Linear(4, num_hidden), \n",
        "    nn.ReLU(), \n",
        "    nn.Linear(num_hidden, 2)\n",
        ")\n",
        "\n",
        "x = torch.rand(10, 4)\n",
        "\n",
        "# If you do not need backpropagation, wrap the computation in the torch.no_grad() context\n",
        "# This saves time and memory, and PyTorch complaints when converting to numpy\n",
        "with torch.no_grad():\n",
        "    assert np.allclose(model(x).numpy(), test_model(x).numpy())"
      ],
      "execution_count": 0,
      "outputs": []
    },
    {
      "metadata": {
        "deletable": false,
        "editable": false,
        "nbgrader": {
          "checksum": "7fc82889691dbd60ff9469b770744fcc",
          "grade": false,
          "grade_id": "cell-ca77eae2e62180cf",
          "locked": true,
          "schema_version": 1,
          "solution": false
        },
        "id": "LCWg5Lw0Bhp_",
        "colab_type": "text"
      },
      "cell_type": "markdown",
      "source": [
        "### 1.2 Experience Replay"
      ]
    },
    {
      "metadata": {
        "deletable": false,
        "editable": false,
        "nbgrader": {
          "checksum": "5b3265bef151a12fe6969c378af76be2",
          "grade": false,
          "grade_id": "cell-b5b012e42dd2029e",
          "locked": true,
          "schema_version": 1,
          "solution": false
        },
        "id": "EugwDtcrBhqA",
        "colab_type": "text"
      },
      "cell_type": "markdown",
      "source": [
        "What could be a problem with doing gradient updates on a sequence of state, action pairs $((s_t, a_t), (s_{t+1}, a_{t+1}) ...)$ observed while interacting with the environment? How will using *experience replay* help to overcome this (potential problem)?"
      ]
    },
    {
      "metadata": {
        "deletable": false,
        "nbgrader": {
          "checksum": "75e1a8b00b2bfa9b7dd8805b371c6a4e",
          "grade": true,
          "grade_id": "cell-70a2e59541668a25",
          "locked": false,
          "points": 1,
          "schema_version": 1,
          "solution": true
        },
        "id": "rs7_Hr6IBhqB",
        "colab_type": "text"
      },
      "cell_type": "markdown",
      "source": [
        "YOUR ANSWER HERE"
      ]
    },
    {
      "metadata": {
        "deletable": false,
        "editable": false,
        "nbgrader": {
          "checksum": "9b3bbd8aaf3aade515736d0d07917a61",
          "grade": false,
          "grade_id": "cell-2c1d117a1a75fd69",
          "locked": true,
          "schema_version": 1,
          "solution": false
        },
        "id": "D_GHjptMBhqD",
        "colab_type": "text"
      },
      "cell_type": "markdown",
      "source": [
        "Now implement the `push` function that adds a transition to the replay buffer, and the sample function that returns a batch of samples. It should keep at most the maximum number of transitions. Also implement the `sample` function that samples a (random!) batch of data, for use during training (hint: you can use the function `random.sample`)."
      ]
    },
    {
      "metadata": {
        "deletable": false,
        "nbgrader": {
          "checksum": "93a9f55f3950fe63b44aa84c5fd7f793",
          "grade": false,
          "grade_id": "cell-a3cc876e51eb157f",
          "locked": false,
          "schema_version": 1,
          "solution": true
        },
        "id": "lg-TH5TFBhqE",
        "colab_type": "code",
        "colab": {}
      },
      "cell_type": "code",
      "source": [
        "import random\n",
        "class ReplayMemory:\n",
        "    \n",
        "    def __init__(self, capacity):\n",
        "        self.capacity = capacity\n",
        "        self.memory = []\n",
        "\n",
        "    def push(self, transition):\n",
        "        self.memory.append(transition)\n",
        "        if len(self.memory) == self.capacity:\n",
        "            self.memory = self.memory[1:]\n",
        "            \n",
        "    def sample(self, batch_size):\n",
        "        sample = random.sample(self.memory, batch_size)\n",
        "        return sample\n",
        "    \n",
        "    def __len__(self):\n",
        "        return len(self.memory)"
      ],
      "execution_count": 0,
      "outputs": []
    },
    {
      "metadata": {
        "deletable": false,
        "editable": false,
        "nbgrader": {
          "checksum": "6865749b3a8810bdaaf1604a9cea42e7",
          "grade": true,
          "grade_id": "cell-3b90135921c4da76",
          "locked": true,
          "points": 1,
          "schema_version": 1,
          "solution": false
        },
        "id": "8EqgkyWGBhqH",
        "colab_type": "code",
        "outputId": "dfcd79ad-2f65-4025-9026-03d6bce7f02c",
        "colab": {}
      },
      "cell_type": "code",
      "source": [
        "capacity = 10\n",
        "memory = ReplayMemory(capacity)\n",
        "\n",
        "# Sample a transition\n",
        "s = env.reset()\n",
        "a = env.action_space.sample()\n",
        "s_next, r, done, _ = env.step(a)\n",
        "\n",
        "# Push a transition\n",
        "memory.push((s, a, r, s_next, done))\n",
        "\n",
        "# Sample a batch size of 1\n",
        "print(memory.sample(1))\n"
      ],
      "execution_count": 0,
      "outputs": [
        {
          "output_type": "stream",
          "text": [
            "[(array([-0.03015913, -0.04388127, -0.00473969,  0.00597009]), 1, 1.0, array([-0.03103676,  0.15130834, -0.00462029, -0.28820449]), False)]\n"
          ],
          "name": "stdout"
        }
      ]
    },
    {
      "metadata": {
        "deletable": false,
        "editable": false,
        "nbgrader": {
          "checksum": "3c742d499c0f9b7f10d1c0c3a085236a",
          "grade": false,
          "grade_id": "cell-88f67e3c051da6a9",
          "locked": true,
          "schema_version": 1,
          "solution": false
        },
        "id": "QR2Bc5z6BhqR",
        "colab_type": "text"
      },
      "cell_type": "markdown",
      "source": [
        "### 1.3 $\\epsilon$psilon greedy policy"
      ]
    },
    {
      "metadata": {
        "deletable": false,
        "editable": false,
        "nbgrader": {
          "checksum": "61d26d0dec0133f2aa737ed4711d6e08",
          "grade": false,
          "grade_id": "cell-aa3c7d1b3000f697",
          "locked": true,
          "schema_version": 1,
          "solution": false
        },
        "id": "kZchJus-BhqS",
        "colab_type": "text"
      },
      "cell_type": "markdown",
      "source": [
        "In order to learn a good policy, we need to explore quite a bit initially. As we start to learn a good policy, we want to decrease the exploration. As the amount of exploration using an $\\epsilon$-greedy policy is controlled by $\\epsilon$, we can define an 'exploration scheme' by writing $\\epsilon$ as a function of time. There are many possible schemes, but we will use a simple one: we will start with only exploring (so taking random actions) at iteration 0, and then in 1000 iterations linearly anneal $\\epsilon$ such that after 1000 iterations we take random (exploration) actions with 5\\% probability (forever, as you never know if the environment will change)."
      ]
    },
    {
      "metadata": {
        "deletable": false,
        "nbgrader": {
          "checksum": "270ab31d4bb29dc9a05223c16a4967a7",
          "grade": false,
          "grade_id": "cell-5789e7a792108576",
          "locked": false,
          "schema_version": 1,
          "solution": true
        },
        "id": "954Eh0wUBhqT",
        "colab_type": "code",
        "colab": {}
      },
      "cell_type": "code",
      "source": [
        "def get_epsilon(it):\n",
        "    return 1 if it < 1000 else 0.05"
      ],
      "execution_count": 0,
      "outputs": []
    },
    {
      "metadata": {
        "deletable": false,
        "editable": false,
        "nbgrader": {
          "checksum": "b1a81dd07e1b7a98d2cd06ebc171ebdd",
          "grade": true,
          "grade_id": "cell-40e66db45e742b2e",
          "locked": true,
          "points": 1,
          "schema_version": 1,
          "solution": false
        },
        "id": "wW5ExCX3BhqY",
        "colab_type": "code",
        "outputId": "deb0d8f2-e747-4d45-eea3-2326a4e2809d",
        "colab": {}
      },
      "cell_type": "code",
      "source": [
        "# So what's an easy way to check?\n",
        "plt.plot([get_epsilon(it) for it in range(5000)])\n"
      ],
      "execution_count": 0,
      "outputs": [
        {
          "output_type": "execute_result",
          "data": {
            "text/plain": [
              "[<matplotlib.lines.Line2D at 0x7f3272d56278>]"
            ]
          },
          "metadata": {
            "tags": []
          },
          "execution_count": 159
        },
        {
          "output_type": "display_data",
          "data": {
            "image/png": "[encoded data removed]",
            "text/plain": [
              "<Figure size 432x288 with 1 Axes>"
            ]
          },
          "metadata": {
            "tags": [],
            "needs_background": "light"
          }
        }
      ]
    },
    {
      "metadata": {
        "deletable": false,
        "editable": false,
        "nbgrader": {
          "checksum": "84685c23e4eb899d7fed3a87b7f8915e",
          "grade": false,
          "grade_id": "cell-a8b604c9998c6c3b",
          "locked": true,
          "schema_version": 1,
          "solution": false
        },
        "id": "aXaunyR7Bhqf",
        "colab_type": "text"
      },
      "cell_type": "markdown",
      "source": [
        "Now write a function that takes a state and uses the Q-network to select an ($\\epsilon$-greedy) action. It should return a random action with probability epsilon (which we will pass later). Note, you do not need to backpropagate through the model computations, so use `with torch.no_grad():` (see above for example). Unlike numpy, PyTorch has no argmax function, but Google is your friend... Note that to convert a PyTorch tensor with only 1 element (0 dimensional) to a simple python scalar (int or float), you can use the '.item()' function."
      ]
    },
    {
      "metadata": {
        "deletable": false,
        "nbgrader": {
          "checksum": "882f51819100c850120e73340aec387d",
          "grade": false,
          "grade_id": "cell-878ad3a637cfb51c",
          "locked": false,
          "schema_version": 1,
          "solution": true
        },
        "id": "VHN-vK_fBhqg",
        "colab_type": "code",
        "colab": {}
      },
      "cell_type": "code",
      "source": [
        "def select_action(model, state, epsilon):\n",
        "    with torch.no_grad():\n",
        "        actions = model(torch.FloatTensor(state))\n",
        "#         print(actions)\n",
        "        argmax = torch.max(actions, 0)[1]\n",
        "        action = np.random.choice(2,1, \n",
        "                                  p = [epsilon / 2 + ((1-epsilon) if i == argmax else 0) for i in range(2)])\n",
        "        \n",
        "#         p = [epsilon / 2 + ((1-epsilon) if i == argmax else 0) for i in range(2)]\n",
        "#         print(p)\n",
        "    return action[0]\n",
        "\n",
        "\n",
        "# def select_action(model, state, epsilon):\n",
        "#     with torch.no_grad():\n",
        "#         state = torch.FloatTensor(state).view(-1, 4)\n",
        "#         n = state.s\n",
        "#         actions = model(torch.FloatTensor(state))\n",
        "#         probs = torch.ones(state.shape[0], 2) * epsilon / 2\n",
        "#         argmax = torch.max(actions, 0)\n",
        "# #         action = np.random.choice(2,1, \n",
        "# #                                   p = [epsilon / 2 + ((1-epsilon) if i == argmax else 0) for i in range(2)])\n",
        "#         print(argmax)\n",
        "#         probs += argmax * (1 - epsilon)\n",
        "#         action = torch.multinomial(\n",
        "#             probs, 1\n",
        "#         )\n",
        "# #         p = [epsilon / 2 + ((1-epsilon) if i == argmax else 0) for i in range(2)]\n",
        "#         print(probs)\n",
        "#         print(action)\n",
        "#     return action[0]"
      ],
      "execution_count": 0,
      "outputs": []
    },
    {
      "metadata": {
        "deletable": false,
        "editable": false,
        "nbgrader": {
          "checksum": "21f939075cb0c8dde152dabf47568a9d",
          "grade": true,
          "grade_id": "cell-e895338d56bee477",
          "locked": true,
          "points": 1,
          "schema_version": 1,
          "solution": false
        },
        "id": "HhhLoy5LBhqk",
        "colab_type": "code",
        "outputId": "60a1a9f1-71c9-4799-ae81-afc292c73fe7",
        "colab": {}
      },
      "cell_type": "code",
      "source": [
        "s = env.reset()\n",
        "a = select_action(model, s, 0.05)\n",
        "assert not torch.is_tensor(a)\n",
        "print (a)\n"
      ],
      "execution_count": 0,
      "outputs": [
        {
          "output_type": "stream",
          "text": [
            "1\n"
          ],
          "name": "stdout"
        }
      ]
    },
    {
      "metadata": {
        "deletable": false,
        "editable": false,
        "nbgrader": {
          "checksum": "5d00ab2e5e0b39257771d0e778fda2d6",
          "grade": false,
          "grade_id": "cell-ec5e94e0b03f8aec",
          "locked": true,
          "schema_version": 1,
          "solution": false
        },
        "id": "OimCXVQ-Bhqw",
        "colab_type": "text"
      },
      "cell_type": "markdown",
      "source": [
        "### 1.4 Training function"
      ]
    },
    {
      "metadata": {
        "deletable": false,
        "editable": false,
        "nbgrader": {
          "checksum": "4839aac72a80552046ebecc40c1615cf",
          "grade": false,
          "grade_id": "cell-d1a12cc97386fe56",
          "locked": true,
          "schema_version": 1,
          "solution": false
        },
        "id": "jWKRLwvWBhqy",
        "colab_type": "text"
      },
      "cell_type": "markdown",
      "source": [
        "Now we will implement the function 'train' that samples a batch from the memory and performs a gradient step using some convenient PyTorch functionality. However, you still need to compute the Q-values for the (state, action) pairs in the experience, as well as their target (e.g. the value they should move towards). What is the target for a Q-learning update? What should be the target if `next_state` is terminal (e.g. `done`)?\n",
        "\n",
        "For computing the Q-values for the actions, note that the model returns all action values where you are only interested in a single action value. Because of the batch dimension, you can't use simple indexing, but you may want to have a look at [torch.gather](https://pytorch.org/docs/stable/torch.html?highlight=gather#torch.gather) or use [advanced indexing](https://docs.scipy.org/doc/numpy-1.13.0/reference/arrays.indexing.html) (numpy tutorial but works mostly the same in PyTorch). Note, you should NOT modify the function train. You can view the size of a tensor `x` with `x.size()` (similar to `x.shape` in numpy)."
      ]
    },
    {
      "metadata": {
        "deletable": false,
        "nbgrader": {
          "checksum": "c466ee49add35cb1ec6a3e4a85f733c9",
          "grade": false,
          "grade_id": "cell-6c45485324b40081",
          "locked": false,
          "schema_version": 1,
          "solution": true
        },
        "id": "Dm3vEDA4Bhqz",
        "colab_type": "code",
        "colab": {}
      },
      "cell_type": "code",
      "source": [
        "def compute_q_val(model, state, action):\n",
        "    actions = model(torch.FloatTensor(state))\n",
        "#     print(actions)\n",
        "    return actions[range(len(state)), action]\n",
        "    \n",
        "    \n",
        "def compute_target(model, reward, next_state, done, discount_factor):\n",
        "    # done is a boolean (vector) that indicates if next_state is terminal (episode is done)\n",
        "    # YOUR CODE HERE\n",
        "    # TODO (but not so much): do this ugly sht in batch, but have to change select_aciton to be batches.\n",
        "    #                         see attempt on commented code\n",
        "    best_action = [select_action(model, s, 0) for s in next_state]\n",
        "    # TODO: is it the correct way of handling done?\n",
        "    # i just say 0 if its terminal 1 oth\n",
        "    target = reward + discount_factor * compute_q_val(model, next_state, best_action) * (1- done.float())\n",
        "    return target\n",
        "\n",
        "def train(model, memory, optimizer, batch_size, discount_factor):\n",
        "    # DO NOT MODIFY THIS FUNCTION\n",
        "    \n",
        "    # don't learn without some decent experience\n",
        "    if len(memory) < batch_size:\n",
        "        return None\n",
        "\n",
        "    # random transition batch is taken from experience replay memory\n",
        "    transitions = memory.sample(batch_size)\n",
        "    \n",
        "    # transition is a list of 4-tuples, instead we want 4 vectors (as torch.Tensor's)\n",
        "    state, action, reward, next_state, done = zip(*transitions)\n",
        "    \n",
        "    # convert to PyTorch and define types\n",
        "    state = torch.tensor(state, dtype=torch.float)\n",
        "    action = torch.tensor(action, dtype=torch.int64)  # Need 64 bit to use them as index\n",
        "    next_state = torch.tensor(next_state, dtype=torch.float)\n",
        "    reward = torch.tensor(reward, dtype=torch.float)\n",
        "    done = torch.tensor(done, dtype=torch.uint8)  # Boolean\n",
        "    \n",
        "    # compute the q value\n",
        "    q_val = compute_q_val(model, state, action)\n",
        "    \n",
        "    with torch.no_grad():  # Don't compute gradient info for the target (semi-gradient)\n",
        "        target = compute_target(model, reward, next_state, done, discount_factor)\n",
        "    \n",
        "    # loss is measured from error between current and newly expected Q values\n",
        "    loss = F.smooth_l1_loss(q_val, target)\n",
        "\n",
        "    # backpropagation of loss to Neural Network (PyTorch magic)\n",
        "    optimizer.zero_grad()\n",
        "    loss.backward()\n",
        "    optimizer.step()\n",
        "    \n",
        "    return loss.item()  # Returns a Python scalar, and releases history (similar to .detach())"
      ],
      "execution_count": 0,
      "outputs": []
    },
    {
      "metadata": {
        "deletable": false,
        "editable": false,
        "nbgrader": {
          "checksum": "877c400001292b619e6871c1366524b9",
          "grade": true,
          "grade_id": "cell-b060b822eec4282f",
          "locked": true,
          "points": 2,
          "schema_version": 1,
          "solution": false
        },
        "id": "4JdUbeMfBhq4",
        "colab_type": "code",
        "outputId": "d91b122f-0122-4e46-d497-9acc0b29ee11",
        "colab": {}
      },
      "cell_type": "code",
      "source": [
        "# You may want to test your functions individually, but after you do so lets see if the method train works.\n",
        "batch_size = 64\n",
        "discount_factor = 0.8\n",
        "learn_rate = 1e-3\n",
        "# Simple gradient descent may take long, so we will use Adam\n",
        "optimizer = optim.Adam(model.parameters(), learn_rate)\n",
        "\n",
        "# We need a larger memory, fill with dummy data\n",
        "transition = memory.sample(1)[0]\n",
        "memory = ReplayMemory(10 * batch_size)\n",
        "for i in range(batch_size):\n",
        "    memory.push(transition)\n",
        "\n",
        "# Now let's see if it works\n",
        "loss = train(model, memory, optimizer, batch_size, discount_factor)\n",
        "\n",
        "print (loss)\n"
      ],
      "execution_count": 0,
      "outputs": [
        {
          "output_type": "stream",
          "text": [
            "0.5234223008155823\n"
          ],
          "name": "stdout"
        }
      ]
    },
    {
      "metadata": {
        "deletable": false,
        "editable": false,
        "nbgrader": {
          "checksum": "2057dee580a43fb0442fe52557c0ac64",
          "grade": false,
          "grade_id": "cell-3eafd0ab49103f3b",
          "locked": true,
          "schema_version": 1,
          "solution": false
        },
        "id": "Pl5Su__lBhq8",
        "colab_type": "text"
      },
      "cell_type": "markdown",
      "source": [
        "### 1.5 Put it all together"
      ]
    },
    {
      "metadata": {
        "deletable": false,
        "editable": false,
        "nbgrader": {
          "checksum": "06dd71aae5c3c699f2b707b348a88107",
          "grade": false,
          "grade_id": "cell-36b8a04b393d8104",
          "locked": true,
          "schema_version": 1,
          "solution": false
        },
        "id": "m4I3spTCBhq9",
        "colab_type": "text"
      },
      "cell_type": "markdown",
      "source": [
        "Now that you have implemented the training step, you should be able to put everything together. Implement the function `run_episodes` that runs a number of episodes of DQN training. It should return the durations (e.g. number of steps) of each episode. Note: we pass the train function as an argument such that we can swap it for a different training step later."
      ]
    },
    {
      "metadata": {
        "deletable": false,
        "nbgrader": {
          "checksum": "c3f61b2ca270d84ab9b28d989dd65d4c",
          "grade": false,
          "grade_id": "cell-540a7d50ecc1d046",
          "locked": false,
          "schema_version": 1,
          "solution": true
        },
        "id": "xf-BeXFNBhq-",
        "colab_type": "code",
        "colab": {}
      },
      "cell_type": "code",
      "source": [
        "def run_episodes(train, model, memory, env, num_episodes, batch_size, discount_factor, learn_rate):\n",
        "    \n",
        "    optimizer = optim.Adam(model.parameters(), learn_rate)\n",
        "    \n",
        "    global_steps = 0  # Count the steps (do not reset at episode start, to compute epsilon)\n",
        "    episode_durations = []  #\n",
        "    for i in range(num_episodes):\n",
        "        duration = 0\n",
        "        s = env.reset()\n",
        "        \n",
        "        while True: \n",
        "            epsilon = get_epsilon(i)\n",
        "            a = select_action(model, s, epsilon)\n",
        "\n",
        "            next_state, r, done, _ = env.step(a)\n",
        "            # TODO: is it correct to compute duration here and not after the break?\n",
        "            duration += 1\n",
        "            \n",
        "            memory.push((s, a, r, next_state, done))\n",
        "            \n",
        "            if done: \n",
        "                break\n",
        "                \n",
        "            s = next_state\n",
        "        \n",
        "        loss = train(model, memory, optimizer, batch_size, discount_factor)\n",
        "        \n",
        "        episode_durations.append(duration)\n",
        "        \n",
        "    return episode_durations"
      ],
      "execution_count": 0,
      "outputs": []
    },
    {
      "metadata": {
        "id": "2M1_xGZLBhrD",
        "colab_type": "code",
        "colab": {}
      },
      "cell_type": "code",
      "source": [
        "# Let's run it!\n",
        "num_episodes = 2000\n",
        "batch_size = 64\n",
        "discount_factor = 0.8\n",
        "learn_rate = 1e-3\n",
        "memory = ReplayMemory(10000)\n",
        "num_hidden = 128\n",
        "seed = 42  # This is not randomly chosen\n",
        "\n",
        "# We will seed the algorithm (before initializing QNetwork!) for reproducability\n",
        "random.seed(seed)\n",
        "torch.manual_seed(seed)\n",
        "env.seed(seed)\n",
        "\n",
        "model = QNetwork(num_hidden)\n",
        "\n",
        "episode_durations = run_episodes(train, model, memory, env, num_episodes, batch_size, discount_factor, learn_rate)"
      ],
      "execution_count": 0,
      "outputs": []
    },
    {
      "metadata": {
        "deletable": false,
        "editable": false,
        "nbgrader": {
          "checksum": "70d16eb61eae34605e8d7813a70a604a",
          "grade": true,
          "grade_id": "cell-928ecc11ed5c43d8",
          "locked": true,
          "points": 2,
          "schema_version": 1,
          "solution": false
        },
        "id": "U5eA1Ti6BhrH",
        "colab_type": "code",
        "outputId": "fdaac311-0f52-4766-a8af-0322670396af",
        "colab": {}
      },
      "cell_type": "code",
      "source": [
        "# And see the results\n",
        "def smooth(x, N):\n",
        "    cumsum = np.cumsum(np.insert(x, 0, 0)) \n",
        "    return (cumsum[N:] - cumsum[:-N]) / float(N)\n",
        "\n",
        "plt.plot(smooth(episode_durations, 10))\n",
        "plt.title('Episode durations per episode')\n"
      ],
      "execution_count": 0,
      "outputs": [
        {
          "output_type": "execute_result",
          "data": {
            "text/plain": [
              "Text(0.5,1,'Episode durations per episode')"
            ]
          },
          "metadata": {
            "tags": []
          },
          "execution_count": 173
        },
        {
          "output_type": "display_data",
          "data": {
            "image/png": "[encoded data removed]",
            "text/plain": [
              "<Figure size 432x288 with 1 Axes>"
            ]
          },
          "metadata": {
            "tags": [],
            "needs_background": "light"
          }
        }
      ]
    },
    {
      "metadata": {
        "deletable": false,
        "editable": false,
        "nbgrader": {
          "checksum": "1e106dba734da10d4d8b3bf90d6bb772",
          "grade": false,
          "grade_id": "cell-49e6bf74834a67ef",
          "locked": true,
          "schema_version": 1,
          "solution": false
        },
        "id": "-vURScBlBhrL",
        "colab_type": "text"
      },
      "cell_type": "markdown",
      "source": [
        "### 1.6 Semi-gradient vs. true gradient (bonus)"
      ]
    },
    {
      "metadata": {
        "deletable": false,
        "editable": false,
        "nbgrader": {
          "checksum": "acf155c686f3916453a3d11d95994987",
          "grade": false,
          "grade_id": "cell-fc30be2a6983bc77",
          "locked": true,
          "schema_version": 1,
          "solution": false
        },
        "id": "K5YX6qqtBhrM",
        "colab_type": "text"
      },
      "cell_type": "markdown",
      "source": [
        "Note that by using automatic differentiation in PyTorch, it is (relatively) easy to implement the true gradient method. Hint: PyTorch may complain about computing gradients for the target in [smooth_l1_loss](https://pytorch.org/docs/stable/nn.html?highlight=smooth_l1_loss#torch.nn.functional.smooth_l1_loss). How can you circumvent this problem? Implement the `train_true_gradient` method below."
      ]
    },
    {
      "metadata": {
        "deletable": false,
        "nbgrader": {
          "checksum": "3d1e72257ed8c59175352e163f1bfdaf",
          "grade": true,
          "grade_id": "cell-71707640573b23d1",
          "locked": false,
          "points": 1,
          "schema_version": 1,
          "solution": true
        },
        "id": "b_7fZisvBhrO",
        "colab_type": "code",
        "outputId": "aec313a1-b45d-4a3d-fcfd-c743e427890e",
        "colab": {}
      },
      "cell_type": "code",
      "source": [
        "def train_true_gradient(model, memory, optimizer, batch_size, discount_factor):\n",
        "    \n",
        "    # don't learn without some decent experience\n",
        "    if len(memory) < batch_size:\n",
        "        return None\n",
        "\n",
        "    # random transition batch is taken from experience replay memory\n",
        "    transitions = memory.sample(batch_size)\n",
        "    \n",
        "    # transition is a list of 4-tuples, instead we want 4 vectors (as torch.Tensor's)\n",
        "    state, action, reward, next_state, done = zip(*transitions)\n",
        "    \n",
        "    # convert to PyTorch and define types\n",
        "    state = torch.tensor(state, dtype=torch.float)\n",
        "    action = torch.tensor(action, dtype=torch.int64)  # Need 64 bit to use them as index\n",
        "    next_state = torch.tensor(next_state, dtype=torch.float)\n",
        "    reward = torch.tensor(reward, dtype=torch.float)\n",
        "    done = torch.tensor(done, dtype=torch.uint8)  # Boolean\n",
        "    \n",
        "    # compute the q value\n",
        "    q_val = compute_q_val(model, state, action)\n",
        "    \n",
        "#     with torch.no_grad():  # Don't compute gradient info for the target (semi-gradient)\n",
        "    target = compute_target(model, reward, next_state, done, discount_factor)\n",
        "    \n",
        "    # loss is measured from error between current and newly expected Q values\n",
        "    loss = F.smooth_l1_loss(q_val, target)\n",
        "\n",
        "    # backpropagation of loss to Neural Network (PyTorch magic)\n",
        "    optimizer.zero_grad()\n",
        "    loss.backward()\n",
        "    optimizer.step()\n",
        "    \n",
        "    return loss.item()  # Returns a Python scalar, and releases history (similar to .detach())\n",
        "\n",
        "random.seed(seed)\n",
        "torch.manual_seed(seed)\n",
        "env.seed(seed)\n",
        "\n",
        "model = QNetwork(num_hidden)\n",
        "\n",
        "episode_durations_true_gradient = run_episodes(\n",
        "    train_true_gradient, model, memory, env, num_episodes, batch_size, discount_factor, learn_rate)\n",
        "\n",
        "plt.plot(smooth(episode_durations, 10))\n",
        "plt.plot(smooth(episode_durations_true_gradient, 10))\n",
        "plt.title('Episode durations per episode')\n",
        "plt.legend(['Semi-gradient', 'True gradient'])"
      ],
      "execution_count": 0,
      "outputs": [
        {
          "output_type": "error",
          "ename": "RuntimeError",
          "evalue": "the derivative for 'target' is not implemented",
          "traceback": [
            "\u001b[0;31m---------------------------------------------------------------------------\u001b[0m",
            "\u001b[0;31mRuntimeError\u001b[0m                              Traceback (most recent call last)",
            "\u001b[0;32m<ipython-input-174-ad057c7ea115>\u001b[0m in \u001b[0;36m<module>\u001b[0;34m\u001b[0m\n\u001b[1;32m     41\u001b[0m \u001b[0;34m\u001b[0m\u001b[0m\n\u001b[1;32m     42\u001b[0m episode_durations_true_gradient = run_episodes(\n\u001b[0;32m---> 43\u001b[0;31m     train_true_gradient, model, memory, env, num_episodes, batch_size, discount_factor, learn_rate)\n\u001b[0m\u001b[1;32m     44\u001b[0m \u001b[0;34m\u001b[0m\u001b[0m\n\u001b[1;32m     45\u001b[0m \u001b[0mplt\u001b[0m\u001b[0;34m.\u001b[0m\u001b[0mplot\u001b[0m\u001b[0;34m(\u001b[0m\u001b[0msmooth\u001b[0m\u001b[0;34m(\u001b[0m\u001b[0mepisode_durations\u001b[0m\u001b[0;34m,\u001b[0m \u001b[0;36m10\u001b[0m\u001b[0;34m)\u001b[0m\u001b[0;34m)\u001b[0m\u001b[0;34m\u001b[0m\u001b[0m\n",
            "\u001b[0;32m<ipython-input-169-349c29001e55>\u001b[0m in \u001b[0;36mrun_episodes\u001b[0;34m(train, model, memory, env, num_episodes, batch_size, discount_factor, learn_rate)\u001b[0m\n\u001b[1;32m     38\u001b[0m             \u001b[0ms\u001b[0m \u001b[0;34m=\u001b[0m \u001b[0mnext_state\u001b[0m\u001b[0;34m\u001b[0m\u001b[0m\n\u001b[1;32m     39\u001b[0m \u001b[0;34m\u001b[0m\u001b[0m\n\u001b[0;32m---> 40\u001b[0;31m         \u001b[0mloss\u001b[0m \u001b[0;34m=\u001b[0m \u001b[0mtrain\u001b[0m\u001b[0;34m(\u001b[0m\u001b[0mmodel\u001b[0m\u001b[0;34m,\u001b[0m \u001b[0mmemory\u001b[0m\u001b[0;34m,\u001b[0m \u001b[0moptimizer\u001b[0m\u001b[0;34m,\u001b[0m \u001b[0mbatch_size\u001b[0m\u001b[0;34m,\u001b[0m \u001b[0mdiscount_factor\u001b[0m\u001b[0;34m)\u001b[0m\u001b[0;34m\u001b[0m\u001b[0m\n\u001b[0m\u001b[1;32m     41\u001b[0m \u001b[0;34m\u001b[0m\u001b[0m\n\u001b[1;32m     42\u001b[0m         \u001b[0mepisode_durations\u001b[0m\u001b[0;34m.\u001b[0m\u001b[0mappend\u001b[0m\u001b[0;34m(\u001b[0m\u001b[0mduration\u001b[0m\u001b[0;34m)\u001b[0m\u001b[0;34m\u001b[0m\u001b[0m\n",
            "\u001b[0;32m<ipython-input-174-ad057c7ea115>\u001b[0m in \u001b[0;36mtrain_true_gradient\u001b[0;34m(model, memory, optimizer, batch_size, discount_factor)\u001b[0m\n\u001b[1;32m     25\u001b[0m \u001b[0;34m\u001b[0m\u001b[0m\n\u001b[1;32m     26\u001b[0m     \u001b[0;31m# loss is measured from error between current and newly expected Q values\u001b[0m\u001b[0;34m\u001b[0m\u001b[0;34m\u001b[0m\u001b[0m\n\u001b[0;32m---> 27\u001b[0;31m     \u001b[0mloss\u001b[0m \u001b[0;34m=\u001b[0m \u001b[0mF\u001b[0m\u001b[0;34m.\u001b[0m\u001b[0msmooth_l1_loss\u001b[0m\u001b[0;34m(\u001b[0m\u001b[0mq_val\u001b[0m\u001b[0;34m,\u001b[0m \u001b[0mtarget\u001b[0m\u001b[0;34m)\u001b[0m\u001b[0;34m\u001b[0m\u001b[0m\n\u001b[0m\u001b[1;32m     28\u001b[0m \u001b[0;34m\u001b[0m\u001b[0m\n\u001b[1;32m     29\u001b[0m     \u001b[0;31m# backpropagation of loss to Neural Network (PyTorch magic)\u001b[0m\u001b[0;34m\u001b[0m\u001b[0;34m\u001b[0m\u001b[0m\n",
            "\u001b[0;32m~/anaconda3/envs/torch4/lib/python3.6/site-packages/torch/nn/functional.py\u001b[0m in \u001b[0;36msmooth_l1_loss\u001b[0;34m(input, target, size_average, reduce, reduction)\u001b[0m\n\u001b[1;32m   1685\u001b[0m     \u001b[0;32melse\u001b[0m\u001b[0;34m:\u001b[0m\u001b[0;34m\u001b[0m\u001b[0m\n\u001b[1;32m   1686\u001b[0m         \u001b[0mreduction\u001b[0m \u001b[0;34m=\u001b[0m \u001b[0m_Reduction\u001b[0m\u001b[0;34m.\u001b[0m\u001b[0mget_enum\u001b[0m\u001b[0;34m(\u001b[0m\u001b[0mreduction\u001b[0m\u001b[0;34m)\u001b[0m\u001b[0;34m\u001b[0m\u001b[0m\n\u001b[0;32m-> 1687\u001b[0;31m     \u001b[0;32mreturn\u001b[0m \u001b[0mtorch\u001b[0m\u001b[0;34m.\u001b[0m\u001b[0m_C\u001b[0m\u001b[0;34m.\u001b[0m\u001b[0m_nn\u001b[0m\u001b[0;34m.\u001b[0m\u001b[0msmooth_l1_loss\u001b[0m\u001b[0;34m(\u001b[0m\u001b[0minput\u001b[0m\u001b[0;34m,\u001b[0m \u001b[0mtarget\u001b[0m\u001b[0;34m,\u001b[0m \u001b[0mreduction\u001b[0m\u001b[0;34m)\u001b[0m\u001b[0;34m\u001b[0m\u001b[0m\n\u001b[0m\u001b[1;32m   1688\u001b[0m \u001b[0;34m\u001b[0m\u001b[0m\n\u001b[1;32m   1689\u001b[0m \u001b[0;34m\u001b[0m\u001b[0m\n",
            "\u001b[0;31mRuntimeError\u001b[0m: the derivative for 'target' is not implemented"
          ]
        }
      ]
    },
    {
      "metadata": {
        "deletable": false,
        "editable": false,
        "nbgrader": {
          "checksum": "95b462060bc00fccd7e8bc2ccc857215",
          "grade": false,
          "grade_id": "cell-b6fb5a1b0894fb4e",
          "locked": true,
          "schema_version": 1,
          "solution": false
        },
        "id": "I4UPQmtdBhrU",
        "colab_type": "text"
      },
      "cell_type": "markdown",
      "source": [
        "Which algorithm performs better? Is this what you would expect? Can you explain this?\n",
        "\n",
        "Note: you may want to play around with the number of episodes to answer this question, but please reset it to 100 before handing in the notebook."
      ]
    },
    {
      "metadata": {
        "deletable": false,
        "nbgrader": {
          "checksum": "b2e5712195d20cce7d1a6afb34e24a41",
          "grade": true,
          "grade_id": "cell-d99dae457ea5bde6",
          "locked": false,
          "points": 1,
          "schema_version": 1,
          "solution": true
        },
        "id": "xwIhc0WaBhrW",
        "colab_type": "text"
      },
      "cell_type": "markdown",
      "source": [
        "YOUR ANSWER HERE"
      ]
    },
    {
      "metadata": {
        "deletable": false,
        "editable": false,
        "nbgrader": {
          "checksum": "de7203182e41f55f391af5892477e89d",
          "grade": false,
          "grade_id": "cell-6607b79e73a101a9",
          "locked": true,
          "schema_version": 1,
          "solution": false
        },
        "id": "8zPXOQUJBhrY",
        "colab_type": "text"
      },
      "cell_type": "markdown",
      "source": [
        "---\n",
        "\n",
        "## 2. Policy Gradient (8 points)"
      ]
    },
    {
      "metadata": {
        "deletable": false,
        "editable": false,
        "nbgrader": {
          "checksum": "951b88e9cd8396d088d3f80e6da9690c",
          "grade": false,
          "grade_id": "cell-083fe71da94aa7aa",
          "locked": true,
          "schema_version": 1,
          "solution": false
        },
        "id": "ZJcvp_hsBhra",
        "colab_type": "text"
      },
      "cell_type": "markdown",
      "source": [
        "So we have spent a lot of time working on *value based* methods. We will now switch to *policy based* methods, i.e. learn a policy directly rather than learn a value function from which the policy follows. Mention two advantages of using a policy based method."
      ]
    },
    {
      "metadata": {
        "deletable": false,
        "nbgrader": {
          "checksum": "a5c1f505cb22eca6eb3b8213ff23e60f",
          "grade": true,
          "grade_id": "cell-134510705650d5ac",
          "locked": false,
          "points": 2,
          "schema_version": 1,
          "solution": true
        },
        "id": "ED2jct3aBhrb",
        "colab_type": "text"
      },
      "cell_type": "markdown",
      "source": [
        "YOUR ANSWER HERE"
      ]
    },
    {
      "metadata": {
        "deletable": false,
        "editable": false,
        "nbgrader": {
          "checksum": "174629c02b62968e23fa6088c4d5763b",
          "grade": false,
          "grade_id": "cell-76a10fe31897025f",
          "locked": true,
          "schema_version": 1,
          "solution": false
        },
        "id": "OZVXY8JgBhre",
        "colab_type": "text"
      },
      "cell_type": "markdown",
      "source": [
        "### 2.1 Policy Network"
      ]
    },
    {
      "metadata": {
        "deletable": false,
        "editable": false,
        "nbgrader": {
          "checksum": "2bc16b45e6145226b8a6f5117003b7f5",
          "grade": false,
          "grade_id": "cell-34f0712f792bbcca",
          "locked": true,
          "schema_version": 1,
          "solution": false
        },
        "id": "xJywTym0Bhri",
        "colab_type": "text"
      },
      "cell_type": "markdown",
      "source": [
        "In order to do so, we will implement a Policy network. Although in general this does not have to be the case, we will use an architecture very similar to the Q-network (two layers with ReLU activation for the hidden layer). Since we have discrete actions, our model will output one value per action, where each value represents the (normalized!) log-probability of selecting that action. *Use the (log-)softmax activation function.*"
      ]
    },
    {
      "metadata": {
        "collapsed": true,
        "deletable": false,
        "nbgrader": {
          "checksum": "155baf230fd6deb5f6ccf93138fa3419",
          "grade": false,
          "grade_id": "cell-6a31440f9477f963",
          "locked": false,
          "schema_version": 1,
          "solution": true
        },
        "id": "A_rJN8gNBhrk",
        "colab_type": "code",
        "colab": {}
      },
      "cell_type": "code",
      "source": [
        "class PolicyNetwork(nn.Module):\n",
        "    \n",
        "    def __init__(self, num_hidden=128):\n",
        "        nn.Module.__init__(self)\n",
        "        self.l1 = nn.Linear(4, num_hidden)\n",
        "        self.l2 = nn.Linear(num_hidden, 2)\n",
        "\n",
        "    def forward(self, x):\n",
        "        # YOUR CODE HERE\n",
        "        raise NotImplementedError()"
      ],
      "execution_count": 0,
      "outputs": []
    },
    {
      "metadata": {
        "collapsed": true,
        "deletable": false,
        "editable": false,
        "nbgrader": {
          "checksum": "3cb94e04b03fa4b663bcf38a96ef656d",
          "grade": true,
          "grade_id": "cell-9d280fe6520edc91",
          "locked": true,
          "points": 1,
          "schema_version": 1,
          "solution": false
        },
        "id": "esntmFFnBhrq",
        "colab_type": "code",
        "colab": {}
      },
      "cell_type": "code",
      "source": [
        "# Let's instantiate and test if it works\n",
        "num_hidden = 128\n",
        "torch.manual_seed(1234)\n",
        "model = PolicyNetwork(num_hidden)\n",
        "\n",
        "x = torch.rand(10, 4)\n",
        "\n",
        "log_p = model(x)\n",
        "\n",
        "# Does the outcome make sense?\n",
        "print(log_p.exp())\n"
      ],
      "execution_count": 0,
      "outputs": []
    },
    {
      "metadata": {
        "deletable": false,
        "editable": false,
        "nbgrader": {
          "checksum": "619c714e930c0d167304597d188f229b",
          "grade": false,
          "grade_id": "cell-35294ca4eda15b11",
          "locked": true,
          "schema_version": 1,
          "solution": false
        },
        "id": "BRTfIvDpBhru",
        "colab_type": "text"
      },
      "cell_type": "markdown",
      "source": [
        "### 2.2 Monte Carlo REINFORCE"
      ]
    },
    {
      "metadata": {
        "deletable": false,
        "editable": false,
        "nbgrader": {
          "checksum": "93ed9cbcf70541f5a04709ee89a16e78",
          "grade": false,
          "grade_id": "cell-44f33e587542974d",
          "locked": true,
          "schema_version": 1,
          "solution": false
        },
        "id": "TfQAtEWABhrw",
        "colab_type": "text"
      },
      "cell_type": "markdown",
      "source": [
        "Now we will implement the *Monte Carlo* policy gradient algorithm. Remember from lab 1 that this means that we will estimate returns for states by sample episodes. Compared to DQN, this means that we do *not* perform an update step at every environment step, but only at the end of each episode. This means that we should generate an episode of data, compute the REINFORCE loss (which requires computing the returns) and then perform a gradient step.\n",
        "\n",
        "To help you, we already implemented a few functions that you can (but do not have to) use.\n",
        "\n",
        "* You can use `torch.multinomial` to sample from a categorical distribution.\n",
        "* The REINFORCE loss is defined as $- \\sum_t \\log \\pi_\\theta(a_t|s_t) G_t$, which means that you should compute the (discounted) return $G_t$ for all $t$. Make sure that you do this in **linear time**, otherwise your algorithm will be very slow! Note the - (minus) since you want to maximize return while you want to minimize the loss.\n",
        "* Importantly, you should **normalize the returns** (not the rewards!, e.g. subtract mean and divide by standard deviation within the episode) before computing the loss, or your estimator will have very high variance."
      ]
    },
    {
      "metadata": {
        "collapsed": true,
        "deletable": false,
        "nbgrader": {
          "checksum": "3b2c75181678fed25fcc7c8b39bb7de3",
          "grade": true,
          "grade_id": "cell-3f6e32c4931392bf",
          "locked": false,
          "points": 5,
          "schema_version": 1,
          "solution": true
        },
        "id": "biDJx3CCBhrx",
        "colab_type": "code",
        "colab": {}
      },
      "cell_type": "code",
      "source": [
        "def select_action(model, state):\n",
        "    # Samples an action according to the probability distribution induced by the model\n",
        "    # Also returns the log_probability\n",
        "    # YOUR CODE HERE\n",
        "    raise NotImplementedError()\n",
        "    \n",
        "    return action, log_p[action]\n",
        "\n",
        "def run_episode(env, model):\n",
        "    # YOUR CODE HERE\n",
        "    raise NotImplementedError()\n",
        "    return episode\n",
        "\n",
        "def compute_reinforce_loss(episode, discount_factor):\n",
        "    # Compute the reinforce loss\n",
        "    # Make sure that your function runs in LINEAR TIME\n",
        "    # Don't forget to normalize your RETURNS (not rewards)\n",
        "    # Note that the rewards/returns should be maximized \n",
        "    # while the loss should be minimized so you need a - somewhere\n",
        "    \n",
        "    # YOUR CODE HERE\n",
        "    raise NotImplementedError()\n",
        "    return loss\n",
        "\n",
        "def run_episodes_policy_gradient(model, env, num_episodes, discount_factor, learn_rate):\n",
        "    \n",
        "    optimizer = optim.Adam(model.parameters(), learn_rate)\n",
        "    \n",
        "    episode_durations = []\n",
        "    for i in range(num_episodes):\n",
        "        \n",
        "        # YOUR CODE HERE\n",
        "        raise NotImplementedError()\n",
        "                           \n",
        "        if i % 10 == 0:\n",
        "            print(\"{2} Episode {0} finished after {1} steps\"\n",
        "                  .format(i, len(episode), '\\033[92m' if len(episode) >= 195 else '\\033[99m'))\n",
        "        episode_durations.append(len(episode))\n",
        "        \n",
        "    return episode_durations"
      ],
      "execution_count": 0,
      "outputs": []
    },
    {
      "metadata": {
        "collapsed": true,
        "id": "9LhyztIpBhr0",
        "colab_type": "code",
        "colab": {}
      },
      "cell_type": "code",
      "source": [
        "# Feel free to play around with the parameters!\n",
        "num_episodes = 200\n",
        "discount_factor = 0.99\n",
        "learn_rate = 0.01\n",
        "seed = 42\n",
        "random.seed(seed)\n",
        "torch.manual_seed(seed)\n",
        "env.seed(seed)\n",
        "\n",
        "model = PolicyNetwork(num_hidden)\n",
        "\n",
        "episode_durations_policy_gradient = run_episodes_policy_gradient(\n",
        "    model, env, num_episodes, discount_factor, learn_rate)\n",
        "\n",
        "plt.plot(smooth(episode_durations_policy_gradient, 10))\n",
        "plt.title('Episode durations per episode')\n",
        "plt.legend(['Policy gradient'])"
      ],
      "execution_count": 0,
      "outputs": []
    },
    {
      "metadata": {
        "deletable": false,
        "editable": false,
        "nbgrader": {
          "checksum": "b9fe846472bc09094ba671593c4b40b4",
          "grade": false,
          "grade_id": "cell-af9c49b396393dc0",
          "locked": true,
          "schema_version": 1,
          "solution": false
        },
        "id": "7115fmuBBhr3",
        "colab_type": "text"
      },
      "cell_type": "markdown",
      "source": [
        "---\n",
        "## Actor-Critic (7 points)"
      ]
    },
    {
      "metadata": {
        "deletable": false,
        "editable": false,
        "nbgrader": {
          "checksum": "ff32c0931b08aa9a5719639105a7b3e5",
          "grade": false,
          "grade_id": "cell-7eabad968ce02adf",
          "locked": true,
          "schema_version": 1,
          "solution": false
        },
        "id": "RHV-24ioBhr5",
        "colab_type": "text"
      },
      "cell_type": "markdown",
      "source": [
        "We will now implement the basic Actor-Critic algorithm, which means that instead of using Monte Carlo returns, we will bootstrap (1-step) returns using a critic (state-value function), so $G_t = R_t + \\gamma V(s_{t+1})$. What happens at the end of the episode? Hint: you may find it useful to have a look at the `train` method for DQN.\n",
        "\n",
        "* Note that we now have to train an actor (policy) and a critic (value network).\n",
        "* We will do this using a single optimizer, which means that we have to sum the loss for the actor and the critic into a single loss term. \n",
        "* For the critic, use the `smooth_l1_loss` like with DQN.\n",
        "* For the actor, the loss should be the REINFORCE loss, but with two differences:\n",
        "    - Instead of the Monte Carlo return $G_t$, use the one step return $G_{t:t+1}$ where the critic is used to bootstrap the value of $s_{t+1}$.\n",
        "    - Instead of normalizing the returns (which can be viewed as using the average as baseline and then scaling), we will use the estimated value $V(s_t)$ as baseline.\n",
        "* **Important**: note that you cannot use `with torch.no_grad():` to compute the critic value (for the current state) since you need gradients to train the critic! However, when using the value to compute the actor loss, you do not want to get gradients of the critic parameters w.r.t. the actor loss (e.g. your target and baseline must be constant)! Therefore, use `v.detach()` on the output of the critic when it is used in the loss term for the actor, this will make sure the value(s) are treated as a constant and no gradients will be backpropagated."
      ]
    },
    {
      "metadata": {
        "deletable": false,
        "nbgrader": {
          "checksum": "3b649f137296d2c6e9ac367781f1b04e",
          "grade": true,
          "grade_id": "cell-5a7326fd2ab9349c",
          "locked": false,
          "points": 5,
          "schema_version": 1,
          "solution": true
        },
        "id": "w98emy0LBhr6",
        "colab_type": "code",
        "colab": {}
      },
      "cell_type": "code",
      "source": [
        "class ValueNetwork(nn.Module):\n",
        "    \n",
        "    def __init__(self, num_hidden=128):\n",
        "        nn.Module.__init__(self)\n",
        "        # YOUR CODE HERE\n",
        "        raise NotImplementedError()\n",
        "\n",
        "    def forward(self, x):\n",
        "        # YOUR CODE HERE\n",
        "        raise NotImplementedError()\n",
        "    \n",
        "\n",
        "def select_action(model, state):\n",
        "    # Samples an action according to the probability distribution induced by the model\n",
        "    # Also returns the log_probability\n",
        "    # YOUR CODE HERE\n",
        "    raise NotImplementedError()\n",
        "    # action and log_p should be a 1 dimensional vector\n",
        "    n = len(state)\n",
        "    assert action.size() == (n, )\n",
        "    assert log_p.size() == (n, )\n",
        "    return action, log_p\n",
        "\n",
        "def train_actor_critic(actor, critic, optimizer, log_ps, state, reward, next_state, done, discount_factor):\n",
        "    \n",
        "    # YOUR CODE HERE\n",
        "    raise NotImplementedError()\n",
        "    \n",
        "    # The loss is composed of the value_loss (for the critic) and the actor_loss\n",
        "    loss = value_loss + actor_loss\n",
        "\n",
        "    # backpropagation of loss to Neural Network (PyTorch magic)\n",
        "    optimizer.zero_grad()\n",
        "    loss.backward()\n",
        "    optimizer.step()\n",
        "    \n",
        "    return loss.item(), value_loss.item(), actor_loss.item()  # Returns a Python scalar, and releases history (similar to .detach())\n",
        "\n",
        "def run_episodes_actor_critic(actor, critic, envs, max_episodes, max_steps, discount_factor, actor_learn_rate, critic_learn_rate):\n",
        "    \n",
        "    # We can use a single optimizer for both the actor and the critic, even with separate learn rates\n",
        "    optimizer = optim.Adam([\n",
        "        {'params': actor.parameters(), 'lr': actor_learn_rate},\n",
        "        {'params': critic.parameters(), 'lr': critic_learn_rate}\n",
        "    ])\n",
        "    \n",
        "    episode_durations = []\n",
        "    state = torch.tensor([env.reset() for env in envs], dtype=torch.float)\n",
        "    current_episode_lengths = torch.zeros(len(envs), dtype=torch.int64)\n",
        "    step_losses = []  # Keep track of losses for plotting\n",
        "    for i in range(max_steps):\n",
        "        \n",
        "        if i % 100 == 0:\n",
        "            print(f\"Step {i}, finished {len(episode_durations)} / {num_episodes} episodes, average episode duration of last 100 episodes: {np.mean(episode_durations[-100:])}\")\n",
        "        \n",
        "        action, log_ps = select_action(actor, state)\n",
        "        next_state, reward, done, _ = zip(*[env.step(a.item()) for env, a in zip(envs, action)])\n",
        "        \n",
        "        next_state = torch.tensor(next_state, dtype=torch.float)\n",
        "        reward = torch.tensor(reward, dtype=torch.float)\n",
        "        done = torch.tensor(done, dtype=torch.uint8)  # Boolean\n",
        "        current_episode_lengths += 1\n",
        "        \n",
        "        losses = train_actor_critic(actor, critic, optimizer, log_ps, state, reward, next_state, done, discount_factor)\n",
        "        \n",
        "        step_losses.append(losses)\n",
        "        \n",
        "        # Reset envs that are done\n",
        "        next_state = torch.tensor([\n",
        "            env.reset() if d else s.tolist()\n",
        "            for env, s, d in zip(envs, next_state, done)\n",
        "        ], dtype=torch.float)\n",
        "        \n",
        "        episode_durations.extend(current_episode_lengths[done])\n",
        "        current_episode_lengths[done] = 0  # PyTorch can also work in place\n",
        "        \n",
        "        state = next_state\n",
        "        \n",
        "        # Check if we have finished sufficiently many episodes\n",
        "        if len(episode_durations) >= max_episodes:\n",
        "            break\n",
        "        \n",
        "    return episode_durations[:max_episodes], step_losses  # In case we want exactly num_episodes returned\n",
        "\n",
        "\n",
        "num_envs = 16\n",
        "max_steps = 10000\n",
        "max_episodes = 10000\n",
        "discount_factor = 0.8\n",
        "lr_actor = 1e-3\n",
        "lr_critic = 1e-3\n",
        "seed = 42\n",
        "\n",
        "actor = PolicyNetwork(num_hidden)\n",
        "critic = ValueNetwork(num_hidden)\n",
        "\n",
        "envs = [gym.envs.make(\"CartPole-v0\") for i in range(num_envs)]\n",
        "\n",
        "for i, env in enumerate(envs):\n",
        "    env.seed(seed + i)\n",
        "torch.manual_seed(seed)\n",
        "\n",
        "episode_durations, step_losses = run_episodes_actor_critic(actor, critic, envs, max_episodes, max_steps, discount_factor, lr_actor, lr_critic)"
      ],
      "execution_count": 0,
      "outputs": []
    },
    {
      "metadata": {
        "id": "pEvlFwc3Bhr-",
        "colab_type": "code",
        "colab": {}
      },
      "cell_type": "code",
      "source": [
        "plt.plot(smooth(episode_durations, 100))\n",
        "plt.title('Episode durations')\n",
        "plt.show()\n",
        "loss, v_loss, a_loss = zip(*step_losses)\n",
        "\n",
        "plt.plot(smooth(v_loss, 100))\n",
        "plt.title('Value loss')\n",
        "plt.show()\n",
        "plt.plot(smooth(a_loss, 100))\n",
        "plt.title('Actor loss')\n",
        "plt.show()"
      ],
      "execution_count": 0,
      "outputs": []
    },
    {
      "metadata": {
        "deletable": false,
        "editable": false,
        "nbgrader": {
          "checksum": "de8c4cba2ebd1a8bba2236f92a0b550c",
          "grade": false,
          "grade_id": "cell-8d15d4c9c0310bec",
          "locked": true,
          "schema_version": 1,
          "solution": false
        },
        "id": "Fdjak6jdBhsB",
        "colab_type": "text"
      },
      "cell_type": "markdown",
      "source": [
        "What is the difficulty of training AC algorithms? What could you try to do to overcome these difficulties? Hint: look at some online implementations."
      ]
    },
    {
      "metadata": {
        "deletable": false,
        "nbgrader": {
          "checksum": "1e51e82a7730101dfd07b2f0e470d1b4",
          "grade": true,
          "grade_id": "cell-f68c6134a9df40b9",
          "locked": false,
          "points": 2,
          "schema_version": 1,
          "solution": true
        },
        "id": "IKxePk9wBhsC",
        "colab_type": "text"
      },
      "cell_type": "markdown",
      "source": [
        "YOUR ANSWER HERE"
      ]
    },
    {
      "metadata": {
        "deletable": false,
        "editable": false,
        "nbgrader": {
          "checksum": "5947c1e643f533003715ae8da659af9e",
          "grade": false,
          "grade_id": "cell-ad1138b69e6728a0",
          "locked": true,
          "schema_version": 1,
          "solution": false
        },
        "id": "gPOKwd9LBhsD",
        "colab_type": "text"
      },
      "cell_type": "markdown",
      "source": [
        "## Deep Reinforcement Learning (5 bonus points)\n",
        "Note that so far we used the state variables as input. However, the true power of Deep Learning is that we can directly learn from raw inputs, e.g. we can learn to balance the cart pole *by just looking at the screen*. This probably means that you need a deep(er) (convolutional) network, as well as tweaking some parameters, running for more iterations (perhaps on GPU) and do other tricks to stabilize learning. Can you get this to work? This will earn you bonus points!\n",
        "\n",
        "Hints:\n",
        "* You may want to use [Google Colab](https://colab.research.google.com/) such that you can benefit from GPU acceleration.\n",
        "* Even if you don't use Colab, save the weights of your final model and load it in the code here (see example below). Hand in the model file with the .ipynb in a .zip. We likely won't be able to run your training code during grading!\n",
        "* To run the code below, you need to install `torchvision`, for this uncomment the two lines in the cell below or run the command in a terminal. Note: you may need to restart the terminal after installing.\n",
        "* Preprocessing is already done for you, and the observation is the difference between two consequtive frames such that the model can 'see' (angular) speed from a single image. Now do you see why we (sometimes) use the word observation (and not state)?"
      ]
    },
    {
      "metadata": {
        "id": "1bWaim2aBhsF",
        "colab_type": "code",
        "colab": {}
      },
      "cell_type": "code",
      "source": [
        "# %%bash\n",
        "# conda install torchvision -c pytorch"
      ],
      "execution_count": 0,
      "outputs": []
    },
    {
      "metadata": {
        "deletable": false,
        "editable": false,
        "nbgrader": {
          "checksum": "f660e1484fe2bf60d66467326eacb1ba",
          "grade": false,
          "grade_id": "cell-9c9dfa80827c5680",
          "locked": true,
          "schema_version": 1,
          "solution": false
        },
        "id": "lCHmEyOMBhsS",
        "colab_type": "code",
        "colab": {}
      },
      "cell_type": "code",
      "source": [
        "import torchvision.transforms as T\n",
        "from PIL import Image\n",
        "\n",
        "\n",
        "resize = T.Compose([T.ToPILImage(),\n",
        "                    T.Resize(40, interpolation=Image.CUBIC),\n",
        "                    T.ToTensor()])\n",
        "\n",
        "class CartPoleRawEnv(gym.Env):\n",
        "    \n",
        "    def __init__(self, *args, **kwargs):\n",
        "        self._env = gym.make('CartPole-v0', *args, **kwargs)  #.unwrapped\n",
        "        self.action_space = self._env.action_space\n",
        "        screen_height, screen_width = 40, 80  # TODO\n",
        "        self.observation_space = gym.spaces.Box(\n",
        "            low=0, high=255, \n",
        "            shape=(screen_height, screen_width, 3), dtype=np.uint8)\n",
        "    \n",
        "    def seed(self, seed=None):\n",
        "        return self._env.seed(seed)\n",
        "    \n",
        "    def reset(self):\n",
        "        s = self._env.reset()\n",
        "        self.prev_screen = self.screen = self.get_screen()\n",
        "        return self._get_observation()\n",
        "    \n",
        "    def step(self, action):\n",
        "        s, r, done, info = self._env.step(action)\n",
        "        self.prev_screen = self.screen\n",
        "        self.screen = self.get_screen()\n",
        "        return self._get_observation(), r, done, info\n",
        "    \n",
        "    def _get_observation(self):\n",
        "        return self.screen - self.prev_screen\n",
        "    \n",
        "    def _get_cart_location(self, screen_width):\n",
        "        _env = self._env.unwrapped\n",
        "        world_width = _env.x_threshold * 2\n",
        "        scale = screen_width / world_width\n",
        "        return int(_env.state[0] * scale + screen_width / 2.0)  # MIDDLE OF CART\n",
        "\n",
        "    def get_screen(self):\n",
        "        screen = self._env.unwrapped.render(mode='rgb_array').transpose(\n",
        "            (2, 0, 1))  # transpose into torch order (CHW)\n",
        "        # Strip off the top and bottom of the screen\n",
        "        _, screen_height, screen_width = screen.shape\n",
        "        screen = screen[:, screen_height * 4 // 10:screen_height * 8 // 10]\n",
        "        view_width = screen_height * 8 // 10\n",
        "        cart_location = self._get_cart_location(screen_width)\n",
        "        if cart_location < view_width // 2:\n",
        "            slice_range = slice(view_width)\n",
        "        elif cart_location > (screen_width - view_width // 2):\n",
        "            slice_range = slice(-view_width, None)\n",
        "        else:\n",
        "            slice_range = slice(cart_location - view_width // 2,\n",
        "                                cart_location + view_width // 2)\n",
        "        # Strip off the edges, so that we have a square image centered on a cart\n",
        "        screen = screen[:, :, slice_range]\n",
        "        # Convert to float, rescare, convert to torch tensor\n",
        "        # (this doesn't require a copy)\n",
        "        screen = np.ascontiguousarray(screen, dtype=np.float32) / 255\n",
        "        screen = torch.from_numpy(screen)\n",
        "        # Resize, and add a batch dimension (BCHW)\n",
        "        #return screen.unsqueeze(0).to(device)\n",
        "        return resize(screen).unsqueeze(0)\n",
        "    \n",
        "    def close(self):\n",
        "        return self._env.close()\n",
        "\n",
        "raw_env = CartPoleRawEnv()\n",
        "s = raw_env.reset()\n",
        "\n",
        "# \n",
        "s, r, done, _ = raw_env.step(env.action_space.sample())\n",
        "\n",
        "raw_env.reset()\n",
        "plt.figure()\n",
        "plt.imshow(raw_env.get_screen().cpu().squeeze(0).permute(1, 2, 0).numpy(),\n",
        "           interpolation='none')\n",
        "plt.title('Example extracted screen')\n",
        "plt.show()\n",
        "\n",
        "# Observations are (-1, 1) while we need to plot (0, 1) so show (rgb + 1) / 2\n",
        "plt.figure()\n",
        "plt.imshow((s.cpu().squeeze(0).permute(1, 2, 0).numpy() + 1) / 2,\n",
        "           interpolation='none')\n",
        "plt.title('Example observation')\n",
        "plt.show()\n",
        "raw_env.close()"
      ],
      "execution_count": 0,
      "outputs": []
    },
    {
      "metadata": {
        "id": "B-4k-695BhsY",
        "colab_type": "code",
        "colab": {}
      },
      "cell_type": "code",
      "source": [
        "# Maybe you should make it a bit deeper?\n",
        "class DeepPolicy(nn.Module):\n",
        "    def __init__(self):\n",
        "        nn.Module.__init__(self)\n",
        "        self.l1 = nn.Linear(40 * 80 * 3, 2)\n",
        "\n",
        "    def forward(self, x):\n",
        "        # Flatten\n",
        "        return F.log_softmax(self.l1(x.view(x.size(0), -1)), -1)\n",
        "    \n",
        "policy = DeepPolicy()\n",
        "filename = 'weights.pt'\n",
        "\n",
        "if os.path.isfile(filename):\n",
        "    print(f\"Loading weights from {filename}\")\n",
        "    weights = torch.load(filename)\n",
        "    \n",
        "    policy.load_state_dict(weights['policy'])\n",
        "    \n",
        "else:\n",
        "    # Train\n",
        "    \n",
        "    ### TODO some training here, maybe? Or run this on a different machine?\n",
        "    torch.manual_seed(42)\n",
        "    \n",
        "    print(f\"Saving weights to {filename}\")\n",
        "    torch.save({\n",
        "        # You can add more here if you need, e.g. critic\n",
        "        'policy': policy.state_dict()  # Always save weights rather than objects\n",
        "    },\n",
        "    filename)\n",
        "    \n",
        "def bonus_get_action(x):\n",
        "    return policy(x).exp().multinomial(1)[:, 0]"
      ],
      "execution_count": 0,
      "outputs": []
    },
    {
      "metadata": {
        "deletable": false,
        "editable": false,
        "nbgrader": {
          "checksum": "b800bfb91f987f14e0c35bc0c41d538b",
          "grade": true,
          "grade_id": "cell-0d7bd58a23fdfabb",
          "locked": true,
          "points": 5,
          "schema_version": 1,
          "solution": false
        },
        "id": "TgDvaJexBhsf",
        "colab_type": "code",
        "colab": {}
      },
      "cell_type": "code",
      "source": [
        "seed = 42\n",
        "episode_durations = []\n",
        "for i in range(20):  # Not too many since it may take forever to render\n",
        "    test_env = CartPoleRawEnv()\n",
        "    test_env.seed(seed + i)\n",
        "    state = test_env.reset()\n",
        "    done = False\n",
        "    steps = 0\n",
        "    while not done:\n",
        "        steps += 1\n",
        "        with torch.no_grad():\n",
        "            action = bonus_get_action(state).item()\n",
        "        state, reward, done, _ = test_env.step(action)\n",
        "    episode_durations.append(steps)\n",
        "    test_env.close()\n",
        "    \n",
        "plt.plot(smooth(episode_durations, 100))\n",
        "plt.title('Episode durations')\n",
        "plt.show()\n"
      ],
      "execution_count": 0,
      "outputs": []
    },
    {
      "metadata": {
        "id": "XZBy1uROBhsn",
        "colab_type": "code",
        "colab": {}
      },
      "cell_type": "code",
      "source": [
        ""
      ],
      "execution_count": 0,
      "outputs": []
    }
  ]
}