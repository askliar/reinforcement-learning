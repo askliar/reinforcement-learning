{
  "nbformat": 4,
  "nbformat_minor": 0,
  "metadata": {
    "colab": {
      "name": "lab2.ipynb",
      "version": "0.3.2",
      "provenance": [],
      "collapsed_sections": [
        "LCWg5Lw0Bhp_",
        "QR2Bc5z6BhqR",
        "OimCXVQ-Bhqw",
        "Pl5Su__lBhq8",
        "-vURScBlBhrL",
        "OZVXY8JgBhre"
      ],
      "toc_visible": true,
      "include_colab_link": true
    },
    "kernelspec": {
      "name": "python3",
      "display_name": "Python 3"
    },
    "accelerator": "GPU"
  },
  "cells": [
    {
      "cell_type": "markdown",
      "metadata": {
        "id": "view-in-github",
        "colab_type": "text"
      },
      "source": [
        "<a href=\"https://colab.research.google.com/github/askliar/reinforcement-learning/blob/master/labs/lab2/lab2_colab.ipynb\" target=\"_parent\"><img src=\"https://colab.research.google.com/assets/colab-badge.svg\" alt=\"Open In Colab\"/></a>"
      ]
    },
    {
      "metadata": {
        "id": "2fpU5Z1MBhpP",
        "colab_type": "text"
      },
      "cell_type": "markdown",
      "source": [
        "Parts of this assignment will be **automatically graded**. Please take note of the following:\n",
        "- Before you turn this problem in, make sure everything runs as expected. First, **restart the kernel** (in the menubar, select Kernel$\\rightarrow$Restart) and then **run all cells** (in the menubar, select Cell$\\rightarrow$Run All).\n",
        "- You can add additional cells, but it is not recommended to (re)move cells. Cells required for autograding cannot be moved and cells containing tests cannot be edited.\n",
        "- You are allowed to use a service such as [Google Colaboratory](https://colab.research.google.com/) to work together. However, you **cannot** hand in the notebook that was hosted on Google Colaboratory, but you need to copy your answers into the original notebook and verify that it runs succesfully offline. This is because Google Colaboratory destroys the metadata required for grading.\n",
        "- Name your notebook **exactly** `{TA_name}_{student1_id}_{student2_id}_lab{i}.ipynb`, for example `wouter_12345_67890_lab1.ipynb` (or elise or stephan, depending on your TA), **otherwise your submission will be skipped by our regex and you will get 0 points** (but no penalty as we cannot parse your student ids ;)).\n",
        "\n",
        "Make sure you fill in any place that says `YOUR CODE HERE` or \"YOUR ANSWER HERE\", as well as your names below:"
      ]
    },
    {
      "metadata": {
        "id": "nwo33uG6BhpS",
        "colab_type": "code",
        "colab": {}
      },
      "cell_type": "code",
      "source": [
        "NAMES = \"Andrii Skliar, Gabriele Bani\""
      ],
      "execution_count": 0,
      "outputs": []
    },
    {
      "metadata": {
        "id": "toAUFvhmBhpa",
        "colab_type": "text"
      },
      "cell_type": "markdown",
      "source": [
        "---"
      ]
    },
    {
      "metadata": {
        "id": "RPLAbs8YEXym",
        "colab_type": "code",
        "outputId": "3fc12ce1-b6b2-43e8-f8f6-17e165a26797",
        "colab": {
          "base_uri": "https://localhost:8080/",
          "height": 16975
        }
      },
      "cell_type": "code",
      "source": [
        "### ONLY FOR COLAB\n",
        "!apt-get install -y cmake\n",
        "!apt-get install -y python-numpy python-dev zlib1g-dev libjpeg-dev xvfb libav-tools xorg-dev python-opengl libboost-all-dev libsdl2-dev swig\n",
        "!apt-get install ffmpeg\n",
        "!apt-get install xvfb\n",
        "!apt-get install python-opengl\n",
        "!pip install pyvirtualdisplay\n",
        "!pip install piglet\n",
        "!pip install gym\n",
        "!pip install pyopengl\n",
        "\n",
        "# http://pytorch.org/\n",
        "from os.path import exists\n",
        "from wheel.pep425tags import get_abbr_impl, get_impl_ver, get_abi_tag\n",
        "platform = '{}{}-{}'.format(get_abbr_impl(), get_impl_ver(), get_abi_tag())\n",
        "cuda_output = !ldconfig -p|grep cudart.so|sed -e 's/.*\\.\\([0-9]*\\)\\.\\([0-9]*\\)$/cu\\1\\2/'\n",
        "accelerator = cuda_output[0] if exists('/dev/nvidia0') else 'cpu'\n",
        "\n",
        "!pip install -q http://download.pytorch.org/whl/{accelerator}/torch-0.4.1-{platform}-linux_x86_64.whl torchvision\n",
        "import torch\n",
        "\n",
        "# Start virtual display\n",
        "from pyvirtualdisplay import Display\n",
        "display = Display(visible=0, size=(1024, 768))\n",
        "display.start()\n",
        "import os\n",
        "os.environ[\"DISPLAY\"] = \":\" + str(display.display) + \".\" + str(display.screen)\n",
        "\n",
        "###"
      ],
      "execution_count": 2,
      "outputs": [
        {
          "output_type": "stream",
          "text": [
            "Reading package lists... Done\n",
            "Building dependency tree       \n",
            "Reading state information... Done\n",
            "The following additional packages will be installed:\n",
            "  cmake-data libarchive13 libjsoncpp1 liblzo2-2 librhash0 libuv1\n",
            "Suggested packages:\n",
            "  cmake-doc ninja-build lrzip\n",
            "The following NEW packages will be installed:\n",
            "  cmake cmake-data libarchive13 libjsoncpp1 liblzo2-2 librhash0 libuv1\n",
            "0 upgraded, 7 newly installed, 0 to remove and 5 not upgraded.\n",
            "Need to get 5,023 kB of archives.\n",
            "After this operation, 25.6 MB of additional disk space will be used.\n",
            "Get:1 http://archive.ubuntu.com/ubuntu bionic/main amd64 liblzo2-2 amd64 2.08-1.2 [48.7 kB]\n",
            "Get:2 http://archive.ubuntu.com/ubuntu bionic/main amd64 cmake-data all 3.10.2-1ubuntu2 [1,331 kB]\n",
            "Get:3 http://archive.ubuntu.com/ubuntu bionic-updates/main amd64 libarchive13 amd64 3.2.2-3.1ubuntu0.1 [289 kB]\n",
            "Get:4 http://archive.ubuntu.com/ubuntu bionic/main amd64 libjsoncpp1 amd64 1.7.4-3 [73.6 kB]\n",
            "Get:5 http://archive.ubuntu.com/ubuntu bionic/main amd64 librhash0 amd64 1.3.6-2 [78.1 kB]\n",
            "Get:6 http://archive.ubuntu.com/ubuntu bionic/main amd64 libuv1 amd64 1.18.0-3 [64.4 kB]\n",
            "Get:7 http://archive.ubuntu.com/ubuntu bionic/main amd64 cmake amd64 3.10.2-1ubuntu2 [3,138 kB]\n",
            "Fetched 5,023 kB in 0s (33.6 MB/s)\n",
            "Selecting previously unselected package liblzo2-2:amd64.\n",
            "(Reading database ... 22298 files and directories currently installed.)\n",
            "Preparing to unpack .../0-liblzo2-2_2.08-1.2_amd64.deb ...\n",
            "Unpacking liblzo2-2:amd64 (2.08-1.2) ...\n",
            "Selecting previously unselected package cmake-data.\n",
            "Preparing to unpack .../1-cmake-data_3.10.2-1ubuntu2_all.deb ...\n",
            "Unpacking cmake-data (3.10.2-1ubuntu2) ...\n",
            "Selecting previously unselected package libarchive13:amd64.\n",
            "Preparing to unpack .../2-libarchive13_3.2.2-3.1ubuntu0.1_amd64.deb ...\n",
            "Unpacking libarchive13:amd64 (3.2.2-3.1ubuntu0.1) ...\n",
            "Selecting previously unselected package libjsoncpp1:amd64.\n",
            "Preparing to unpack .../3-libjsoncpp1_1.7.4-3_amd64.deb ...\n",
            "Unpacking libjsoncpp1:amd64 (1.7.4-3) ...\n",
            "Selecting previously unselected package librhash0:amd64.\n",
            "Preparing to unpack .../4-librhash0_1.3.6-2_amd64.deb ...\n",
            "Unpacking librhash0:amd64 (1.3.6-2) ...\n",
            "Selecting previously unselected package libuv1:amd64.\n",
            "Preparing to unpack .../5-libuv1_1.18.0-3_amd64.deb ...\n",
            "Unpacking libuv1:amd64 (1.18.0-3) ...\n",
            "Selecting previously unselected package cmake.\n",
            "Preparing to unpack .../6-cmake_3.10.2-1ubuntu2_amd64.deb ...\n",
            "Unpacking cmake (3.10.2-1ubuntu2) ...\n",
            "Setting up libuv1:amd64 (1.18.0-3) ...\n",
            "Setting up cmake-data (3.10.2-1ubuntu2) ...\n",
            "Setting up librhash0:amd64 (1.3.6-2) ...\n",
            "Processing triggers for libc-bin (2.27-3ubuntu1) ...\n",
            "Setting up liblzo2-2:amd64 (2.08-1.2) ...\n",
            "Setting up libjsoncpp1:amd64 (1.7.4-3) ...\n",
            "Setting up libarchive13:amd64 (3.2.2-3.1ubuntu0.1) ...\n",
            "Setting up cmake (3.10.2-1ubuntu2) ...\n",
            "Processing triggers for libc-bin (2.27-3ubuntu1) ...\n",
            "Reading package lists... Done\n",
            "Building dependency tree       \n",
            "Reading state information... Done\n",
            "Package libav-tools is not available, but is referred to by another package.\n",
            "This may mean that the package is missing, has been obsoleted, or\n",
            "is only available from another source\n",
            "However the following packages replace it:\n",
            "  ffmpeg\n",
            "\n",
            "E: Package 'libav-tools' has no installation candidate\n",
            "Reading package lists... Done\n",
            "Building dependency tree       \n",
            "Reading state information... Done\n",
            "The following additional packages will be installed:\n",
            "  fontconfig i965-va-driver libaacs0 libasound2 libasound2-data libass9\n",
            "  libasyncns0 libavc1394-0 libavcodec57 libavdevice57 libavfilter6\n",
            "  libavformat57 libavresample3 libavutil55 libbdplus0 libbluray2 libbs2b0\n",
            "  libcaca0 libcairo2 libcdio-cdda2 libcdio-paranoia2 libcdio17 libchromaprint1\n",
            "  libcroco3 libcrystalhd3 libdatrie1 libdc1394-22 libdrm-amdgpu1 libdrm-intel1\n",
            "  libdrm-nouveau2 libdrm-radeon1 libfftw3-double3 libflac8 libflite1\n",
            "  libfribidi0 libgdk-pixbuf2.0-0 libgdk-pixbuf2.0-bin libgdk-pixbuf2.0-common\n",
            "  libgl1 libgl1-mesa-dri libglx-mesa0 libglx0 libgme0 libgsm1 libiec61883-0\n",
            "  libjack-jackd2-0 libjbig0 libllvm6.0 libmp3lame0 libmpg123-0 libmysofa0\n",
            "  libnuma1 libogg0 libopenal-data libopenal1 libopenjp2-7 libopenmpt0 libopus0\n",
            "  libpango-1.0-0 libpangocairo-1.0-0 libpangoft2-1.0-0 libpciaccess0\n",
            "  libpixman-1-0 libpostproc54 libpulse0 libraw1394-11 librsvg2-2\n",
            "  librsvg2-common librubberband2 libsamplerate0 libsdl2-2.0-0 libsensors4\n",
            "  libshine3 libslang2 libsnappy1v5 libsndfile1 libsndio6.1 libsoxr0 libspeex1\n",
            "  libssh-gcrypt-4 libswresample2 libswscale4 libthai-data libthai0 libtheora0\n",
            "  libtiff5 libtwolame0 libusb-1.0-0 libva-drm2 libva-x11-2 libva2 libvdpau1\n",
            "  libvorbis0a libvorbisenc2 libvorbisfile3 libvpx5 libwavpack1\n",
            "  libwayland-cursor0 libwayland-egl1-mesa libwebp6 libwebpmux3 libwrap0\n",
            "  libx264-152 libx265-146 libxcb-glx0 libxcb-render0 libxcb-shape0 libxcb-shm0\n",
            "  libxcursor1 libxdamage1 libxfixes3 libxi6 libxinerama1 libxkbcommon0\n",
            "  libxrandr2 libxv1 libxvidcore4 libxxf86vm1 libzvbi-common libzvbi0\n",
            "  mesa-va-drivers mesa-vdpau-drivers shared-mime-info va-driver-all\n",
            "  vdpau-driver-all xkb-data\n",
            "Suggested packages:\n",
            "  ffmpeg-doc i965-va-driver-shaders libasound2-plugins alsa-utils\n",
            "  libbluray-bdj firmware-crystalhd libfftw3-bin libfftw3-dev jackd2\n",
            "  libportaudio2 opus-tools pciutils pulseaudio libraw1394-doc librsvg2-bin\n",
            "  lm-sensors sndiod speex libvdpau-va-gl1 nvidia-vdpau-driver\n",
            "  nvidia-legacy-340xx-vdpau-driver\n",
            "The following NEW packages will be installed:\n",
            "  ffmpeg fontconfig i965-va-driver libaacs0 libasound2 libasound2-data libass9\n",
            "  libasyncns0 libavc1394-0 libavcodec57 libavdevice57 libavfilter6\n",
            "  libavformat57 libavresample3 libavutil55 libbdplus0 libbluray2 libbs2b0\n",
            "  libcaca0 libcairo2 libcdio-cdda2 libcdio-paranoia2 libcdio17 libchromaprint1\n",
            "  libcroco3 libcrystalhd3 libdatrie1 libdc1394-22 libdrm-amdgpu1 libdrm-intel1\n",
            "  libdrm-nouveau2 libdrm-radeon1 libfftw3-double3 libflac8 libflite1\n",
            "  libfribidi0 libgdk-pixbuf2.0-0 libgdk-pixbuf2.0-bin libgdk-pixbuf2.0-common\n",
            "  libgl1 libgl1-mesa-dri libglx-mesa0 libglx0 libgme0 libgsm1 libiec61883-0\n",
            "  libjack-jackd2-0 libjbig0 libllvm6.0 libmp3lame0 libmpg123-0 libmysofa0\n",
            "  libnuma1 libogg0 libopenal-data libopenal1 libopenjp2-7 libopenmpt0 libopus0\n",
            "  libpango-1.0-0 libpangocairo-1.0-0 libpangoft2-1.0-0 libpciaccess0\n",
            "  libpixman-1-0 libpostproc54 libpulse0 libraw1394-11 librsvg2-2\n",
            "  librsvg2-common librubberband2 libsamplerate0 libsdl2-2.0-0 libsensors4\n",
            "  libshine3 libslang2 libsnappy1v5 libsndfile1 libsndio6.1 libsoxr0 libspeex1\n",
            "  libssh-gcrypt-4 libswresample2 libswscale4 libthai-data libthai0 libtheora0\n",
            "  libtiff5 libtwolame0 libusb-1.0-0 libva-drm2 libva-x11-2 libva2 libvdpau1\n",
            "  libvorbis0a libvorbisenc2 libvorbisfile3 libvpx5 libwavpack1\n",
            "  libwayland-cursor0 libwayland-egl1-mesa libwebp6 libwebpmux3 libwrap0\n",
            "  libx264-152 libx265-146 libxcb-glx0 libxcb-render0 libxcb-shape0 libxcb-shm0\n",
            "  libxcursor1 libxdamage1 libxfixes3 libxi6 libxinerama1 libxkbcommon0\n",
            "  libxrandr2 libxv1 libxvidcore4 libxxf86vm1 libzvbi-common libzvbi0\n",
            "  mesa-va-drivers mesa-vdpau-drivers shared-mime-info va-driver-all\n",
            "  vdpau-driver-all xkb-data\n",
            "0 upgraded, 127 newly installed, 0 to remove and 5 not upgraded.\n",
            "Need to get 60.5 MB of archives.\n",
            "After this operation, 355 MB of additional disk space will be used.\n",
            "Get:1 http://archive.ubuntu.com/ubuntu bionic/main amd64 fontconfig amd64 2.12.6-0ubuntu2 [169 kB]\n",
            "Get:2 http://archive.ubuntu.com/ubuntu bionic/main amd64 libogg0 amd64 1.3.2-1 [17.2 kB]\n",
            "Get:3 http://archive.ubuntu.com/ubuntu bionic/main amd64 libxinerama1 amd64 2:1.1.3-1 [7,908 B]\n",
            "Get:4 http://archive.ubuntu.com/ubuntu bionic/main amd64 libxxf86vm1 amd64 1:1.1.4-1 [10.6 kB]\n",
            "Get:5 http://archive.ubuntu.com/ubuntu bionic/main amd64 libfribidi0 amd64 0.19.7-2 [24.9 kB]\n",
            "Get:6 http://archive.ubuntu.com/ubuntu bionic/main amd64 libslang2 amd64 2.3.1a-3ubuntu1 [424 kB]\n",
            "Get:7 http://archive.ubuntu.com/ubuntu bionic/main amd64 shared-mime-info amd64 1.9-2 [426 kB]\n",
            "Get:8 http://archive.ubuntu.com/ubuntu bionic/main amd64 xkb-data all 2.23.1-1ubuntu1 [325 kB]\n",
            "Get:9 http://archive.ubuntu.com/ubuntu bionic/main amd64 libnuma1 amd64 2.0.11-2.1 [21.6 kB]\n",
            "Get:10 http://archive.ubuntu.com/ubuntu bionic/main amd64 libusb-1.0-0 amd64 2:1.0.21-2 [43.3 kB]\n",
            "Get:11 http://archive.ubuntu.com/ubuntu bionic/universe amd64 libva2 amd64 2.1.0-3 [47.6 kB]\n",
            "Get:12 http://archive.ubuntu.com/ubuntu bionic/universe amd64 libva-drm2 amd64 2.1.0-3 [6,880 B]\n",
            "Get:13 http://archive.ubuntu.com/ubuntu bionic/main amd64 libxfixes3 amd64 1:5.0.3-1 [10.8 kB]\n",
            "Get:14 http://archive.ubuntu.com/ubuntu bionic/universe amd64 libva-x11-2 amd64 2.1.0-3 [11.5 kB]\n",
            "Get:15 http://archive.ubuntu.com/ubuntu bionic/main amd64 libvdpau1 amd64 1.1.1-3ubuntu1 [25.5 kB]\n",
            "Get:16 http://archive.ubuntu.com/ubuntu bionic-updates/universe amd64 libavutil55 amd64 7:3.4.4-0ubuntu0.18.04.1 [190 kB]\n",
            "Get:17 http://archive.ubuntu.com/ubuntu bionic/main amd64 libpixman-1-0 amd64 0.34.0-2 [229 kB]\n",
            "Get:18 http://archive.ubuntu.com/ubuntu bionic/main amd64 libxcb-render0 amd64 1.13-1 [14.7 kB]\n",
            "Get:19 http://archive.ubuntu.com/ubuntu bionic/main amd64 libxcb-shm0 amd64 1.13-1 [5,572 B]\n",
            "Get:20 http://archive.ubuntu.com/ubuntu bionic/main amd64 libcairo2 amd64 1.15.10-2 [580 kB]\n",
            "Get:21 http://archive.ubuntu.com/ubuntu bionic/universe amd64 libcrystalhd3 amd64 1:0.0~git20110715.fdd2f19-12 [45.8 kB]\n",
            "Get:22 http://archive.ubuntu.com/ubuntu bionic/universe amd64 libgsm1 amd64 1.0.13-4build1 [22.4 kB]\n",
            "Get:23 http://archive.ubuntu.com/ubuntu bionic/main amd64 libmp3lame0 amd64 3.100-2 [136 kB]\n",
            "Get:24 http://archive.ubuntu.com/ubuntu bionic/universe amd64 libopenjp2-7 amd64 2.3.0-1 [145 kB]\n",
            "Get:25 http://archive.ubuntu.com/ubuntu bionic/main amd64 libopus0 amd64 1.1.2-1ubuntu1 [159 kB]\n",
            "Get:26 http://archive.ubuntu.com/ubuntu bionic/main amd64 libcroco3 amd64 0.6.12-2 [81.3 kB]\n",
            "Get:27 http://archive.ubuntu.com/ubuntu bionic/main amd64 libjbig0 amd64 2.1-3.1build1 [26.7 kB]\n",
            "Get:28 http://archive.ubuntu.com/ubuntu bionic/main amd64 libtiff5 amd64 4.0.9-5 [152 kB]\n",
            "Get:29 http://archive.ubuntu.com/ubuntu bionic/main amd64 libgdk-pixbuf2.0-common all 2.36.11-2 [4,536 B]\n",
            "Get:30 http://archive.ubuntu.com/ubuntu bionic/main amd64 libgdk-pixbuf2.0-0 amd64 2.36.11-2 [165 kB]\n",
            "Get:31 http://archive.ubuntu.com/ubuntu bionic/main amd64 libthai-data all 0.1.27-2 [133 kB]\n",
            "Get:32 http://archive.ubuntu.com/ubuntu bionic/main amd64 libdatrie1 amd64 0.2.10-7 [17.8 kB]\n",
            "Get:33 http://archive.ubuntu.com/ubuntu bionic/main amd64 libthai0 amd64 0.1.27-2 [18.0 kB]\n",
            "Get:34 http://archive.ubuntu.com/ubuntu bionic-updates/main amd64 libpango-1.0-0 amd64 1.40.14-1ubuntu0.1 [153 kB]\n",
            "Get:35 http://archive.ubuntu.com/ubuntu bionic-updates/main amd64 libpangoft2-1.0-0 amd64 1.40.14-1ubuntu0.1 [33.2 kB]\n",
            "Get:36 http://archive.ubuntu.com/ubuntu bionic-updates/main amd64 libpangocairo-1.0-0 amd64 1.40.14-1ubuntu0.1 [20.8 kB]\n",
            "Get:37 http://archive.ubuntu.com/ubuntu bionic/main amd64 librsvg2-2 amd64 2.40.20-2 [98.6 kB]\n",
            "Get:38 http://archive.ubuntu.com/ubuntu bionic/universe amd64 libshine3 amd64 3.1.1-1 [22.9 kB]\n",
            "Get:39 http://archive.ubuntu.com/ubuntu bionic/main amd64 libsnappy1v5 amd64 1.1.7-1 [16.0 kB]\n",
            "Get:40 http://archive.ubuntu.com/ubuntu bionic/main amd64 libspeex1 amd64 1.2~rc1.2-1ubuntu2 [52.1 kB]\n",
            "Get:41 http://archive.ubuntu.com/ubuntu bionic/universe amd64 libsoxr0 amd64 0.1.2-3 [65.9 kB]\n",
            "Get:42 http://archive.ubuntu.com/ubuntu bionic-updates/universe amd64 libswresample2 amd64 7:3.4.4-0ubuntu0.18.04.1 [55.2 kB]\n",
            "Get:43 http://archive.ubuntu.com/ubuntu bionic/main amd64 libtheora0 amd64 1.1.1+dfsg.1-14 [170 kB]\n",
            "Get:44 http://archive.ubuntu.com/ubuntu bionic/main amd64 libtwolame0 amd64 0.3.13-3 [46.7 kB]\n",
            "Get:45 http://archive.ubuntu.com/ubuntu bionic/main amd64 libvorbis0a amd64 1.3.5-4.2 [86.4 kB]\n",
            "Get:46 http://archive.ubuntu.com/ubuntu bionic/main amd64 libvorbisenc2 amd64 1.3.5-4.2 [70.7 kB]\n",
            "Get:47 http://archive.ubuntu.com/ubuntu bionic/main amd64 libvpx5 amd64 1.7.0-3 [798 kB]\n",
            "Get:48 http://archive.ubuntu.com/ubuntu bionic-updates/main amd64 libwavpack1 amd64 5.1.0-2ubuntu1.1 [76.6 kB]\n",
            "Get:49 http://archive.ubuntu.com/ubuntu bionic/main amd64 libwebp6 amd64 0.6.1-2 [185 kB]\n",
            "Get:50 http://archive.ubuntu.com/ubuntu bionic/main amd64 libwebpmux3 amd64 0.6.1-2 [19.6 kB]\n",
            "Get:51 http://archive.ubuntu.com/ubuntu bionic/universe amd64 libx264-152 amd64 2:0.152.2854+gite9a5903-2 [609 kB]\n",
            "Get:52 http://archive.ubuntu.com/ubuntu bionic/universe amd64 libx265-146 amd64 2.6-3 [1,026 kB]\n",
            "Get:53 http://archive.ubuntu.com/ubuntu bionic/universe amd64 libxvidcore4 amd64 2:1.3.5-1 [200 kB]\n",
            "Get:54 http://archive.ubuntu.com/ubuntu bionic/universe amd64 libzvbi-common all 0.2.35-13 [32.1 kB]\n",
            "Get:55 http://archive.ubuntu.com/ubuntu bionic/universe amd64 libzvbi0 amd64 0.2.35-13 [235 kB]\n",
            "Get:56 http://archive.ubuntu.com/ubuntu bionic-updates/universe amd64 libavcodec57 amd64 7:3.4.4-0ubuntu0.18.04.1 [4,592 kB]\n",
            "Get:57 http://archive.ubuntu.com/ubuntu bionic-updates/main amd64 libasound2-data all 1.1.3-5ubuntu0.1 [36.3 kB]\n",
            "Get:58 http://archive.ubuntu.com/ubuntu bionic-updates/main amd64 libasound2 amd64 1.1.3-5ubuntu0.1 [359 kB]\n",
            "Get:59 http://archive.ubuntu.com/ubuntu bionic/main amd64 libraw1394-11 amd64 2.1.2-1 [30.7 kB]\n",
            "Get:60 http://archive.ubuntu.com/ubuntu bionic/main amd64 libavc1394-0 amd64 0.5.4-4build1 [16.1 kB]\n",
            "Get:61 http://archive.ubuntu.com/ubuntu bionic/universe amd64 libass9 amd64 1:0.14.0-1 [88.2 kB]\n",
            "Get:62 http://archive.ubuntu.com/ubuntu bionic/universe amd64 libbluray2 amd64 1:1.0.2-3 [141 kB]\n",
            "Get:63 http://archive.ubuntu.com/ubuntu bionic/universe amd64 libchromaprint1 amd64 1.4.3-1 [36.8 kB]\n",
            "Get:64 http://archive.ubuntu.com/ubuntu bionic/universe amd64 libgme0 amd64 0.6.2-1 [121 kB]\n",
            "Get:65 http://archive.ubuntu.com/ubuntu bionic/main amd64 libmpg123-0 amd64 1.25.10-1 [125 kB]\n",
            "Get:66 http://archive.ubuntu.com/ubuntu bionic/main amd64 libvorbisfile3 amd64 1.3.5-4.2 [16.0 kB]\n",
            "Get:67 http://archive.ubuntu.com/ubuntu bionic/universe amd64 libopenmpt0 amd64 0.3.6-1 [561 kB]\n",
            "Get:68 http://archive.ubuntu.com/ubuntu bionic-updates/main amd64 libssh-gcrypt-4 amd64 0.8.0~20170825.94fa1e38-1ubuntu0.1 [171 kB]\n",
            "Get:69 http://archive.ubuntu.com/ubuntu bionic-updates/universe amd64 libavformat57 amd64 7:3.4.4-0ubuntu0.18.04.1 [949 kB]\n",
            "Get:70 http://archive.ubuntu.com/ubuntu bionic-updates/universe amd64 libavresample3 amd64 7:3.4.4-0ubuntu0.18.04.1 [52.6 kB]\n",
            "Get:71 http://archive.ubuntu.com/ubuntu bionic/universe amd64 libbs2b0 amd64 3.1.0+dfsg-2.2 [10.5 kB]\n",
            "Get:72 http://archive.ubuntu.com/ubuntu bionic/universe amd64 libflite1 amd64 2.1-release-1 [12.8 MB]\n",
            "Get:73 http://archive.ubuntu.com/ubuntu bionic/universe amd64 libmysofa0 amd64 0.6~dfsg0-2 [37.8 kB]\n",
            "Get:74 http://archive.ubuntu.com/ubuntu bionic-updates/universe amd64 libpostproc54 amd64 7:3.4.4-0ubuntu0.18.04.1 [50.4 kB]\n",
            "Get:75 http://archive.ubuntu.com/ubuntu bionic/main amd64 libfftw3-double3 amd64 3.3.7-1 [735 kB]\n",
            "Get:76 http://archive.ubuntu.com/ubuntu bionic/main amd64 libsamplerate0 amd64 0.1.9-1 [938 kB]\n",
            "Get:77 http://archive.ubuntu.com/ubuntu bionic/universe amd64 librubberband2 amd64 1.8.1-7ubuntu2 [86.7 kB]\n",
            "Get:78 http://archive.ubuntu.com/ubuntu bionic-updates/universe amd64 libswscale4 amd64 7:3.4.4-0ubuntu0.18.04.1 [150 kB]\n",
            "Get:79 http://archive.ubuntu.com/ubuntu bionic-updates/universe amd64 libavfilter6 amd64 7:3.4.4-0ubuntu0.18.04.1 [874 kB]\n",
            "Get:80 http://archive.ubuntu.com/ubuntu bionic/main amd64 libcaca0 amd64 0.99.beta19-2build2~gcc5.3 [202 kB]\n",
            "Get:81 http://archive.ubuntu.com/ubuntu bionic/main amd64 libcdio17 amd64 1.0.0-2ubuntu2 [58.8 kB]\n",
            "Get:82 http://archive.ubuntu.com/ubuntu bionic/main amd64 libcdio-cdda2 amd64 10.2+0.94+2-2build1 [17.7 kB]\n",
            "Get:83 http://archive.ubuntu.com/ubuntu bionic/main amd64 libcdio-paranoia2 amd64 10.2+0.94+2-2build1 [17.2 kB]\n",
            "Get:84 http://archive.ubuntu.com/ubuntu bionic/universe amd64 libdc1394-22 amd64 2.2.5-1 [77.5 kB]\n",
            "Get:85 http://archive.ubuntu.com/ubuntu bionic/main amd64 libxcb-glx0 amd64 1.13-1 [22.0 kB]\n",
            "Get:86 http://archive.ubuntu.com/ubuntu bionic/main amd64 libxdamage1 amd64 1:1.1.4-3 [6,934 B]\n",
            "Get:87 http://archive.ubuntu.com/ubuntu bionic/main amd64 libdrm-amdgpu1 amd64 2.4.91-2 [19.0 kB]\n",
            "Get:88 http://archive.ubuntu.com/ubuntu bionic/main amd64 libpciaccess0 amd64 0.14-1 [17.9 kB]\n",
            "Get:89 http://archive.ubuntu.com/ubuntu bionic/main amd64 libdrm-intel1 amd64 2.4.91-2 [59.8 kB]\n",
            "Get:90 http://archive.ubuntu.com/ubuntu bionic/main amd64 libdrm-nouveau2 amd64 2.4.91-2 [16.5 kB]\n",
            "Get:91 http://archive.ubuntu.com/ubuntu bionic/main amd64 libdrm-radeon1 amd64 2.4.91-2 [21.7 kB]\n",
            "Get:92 http://archive.ubuntu.com/ubuntu bionic/main amd64 libllvm6.0 amd64 1:6.0-1ubuntu2 [14.5 MB]\n",
            "Get:93 http://archive.ubuntu.com/ubuntu bionic/main amd64 libsensors4 amd64 1:3.4.0-4 [28.8 kB]\n",
            "Get:94 http://archive.ubuntu.com/ubuntu bionic-updates/main amd64 libgl1-mesa-dri amd64 18.0.5-0ubuntu0~18.04.1 [6,011 kB]\n",
            "Get:95 http://archive.ubuntu.com/ubuntu bionic-updates/main amd64 libglx-mesa0 amd64 18.0.5-0ubuntu0~18.04.1 [132 kB]\n",
            "Get:96 http://archive.ubuntu.com/ubuntu bionic-updates/main amd64 libglx0 amd64 1.0.0-2ubuntu2.2 [28.1 kB]\n",
            "Get:97 http://archive.ubuntu.com/ubuntu bionic-updates/main amd64 libgl1 amd64 1.0.0-2ubuntu2.2 [84.8 kB]\n",
            "Get:98 http://archive.ubuntu.com/ubuntu bionic/main amd64 libiec61883-0 amd64 1.2.0-2 [23.5 kB]\n",
            "Get:99 http://archive.ubuntu.com/ubuntu bionic/main amd64 libjack-jackd2-0 amd64 1.9.12~dfsg-2 [263 kB]\n",
            "Get:100 http://archive.ubuntu.com/ubuntu bionic/universe amd64 libopenal-data all 1:1.18.2-2 [102 kB]\n",
            "Get:101 http://archive.ubuntu.com/ubuntu bionic/universe amd64 libsndio6.1 amd64 1.1.0-3 [23.4 kB]\n",
            "Get:102 http://archive.ubuntu.com/ubuntu bionic/universe amd64 libopenal1 amd64 1:1.18.2-2 [266 kB]\n",
            "Get:103 http://archive.ubuntu.com/ubuntu bionic/main amd64 libasyncns0 amd64 0.8-6 [12.1 kB]\n",
            "Get:104 http://archive.ubuntu.com/ubuntu bionic/main amd64 libflac8 amd64 1.3.2-1 [213 kB]\n",
            "Get:105 http://archive.ubuntu.com/ubuntu bionic/main amd64 libsndfile1 amd64 1.0.28-4 [169 kB]\n",
            "Get:106 http://archive.ubuntu.com/ubuntu bionic/main amd64 libwrap0 amd64 7.6.q-27 [46.3 kB]\n",
            "Get:107 http://archive.ubuntu.com/ubuntu bionic-updates/main amd64 libpulse0 amd64 1:11.1-1ubuntu7.1 [265 kB]\n",
            "Get:108 http://archive.ubuntu.com/ubuntu bionic/main amd64 libwayland-cursor0 amd64 1.14.0-2 [9,976 B]\n",
            "Get:109 http://archive.ubuntu.com/ubuntu bionic-updates/main amd64 libwayland-egl1-mesa amd64 18.0.5-0ubuntu0~18.04.1 [7,148 B]\n",
            "Get:110 http://archive.ubuntu.com/ubuntu bionic/main amd64 libxcursor1 amd64 1:1.1.15-1 [19.8 kB]\n",
            "Get:111 http://archive.ubuntu.com/ubuntu bionic/main amd64 libxi6 amd64 2:1.7.9-1 [29.2 kB]\n",
            "Get:112 http://archive.ubuntu.com/ubuntu bionic-updates/main amd64 libxkbcommon0 amd64 0.8.0-1ubuntu0.1 [97.9 kB]\n",
            "Get:113 http://archive.ubuntu.com/ubuntu bionic/main amd64 libxrandr2 amd64 2:1.5.1-1 [18.1 kB]\n",
            "Get:114 http://archive.ubuntu.com/ubuntu bionic-updates/universe amd64 libsdl2-2.0-0 amd64 2.0.8+dfsg1-1ubuntu1.18.04.1 [378 kB]\n",
            "Get:115 http://archive.ubuntu.com/ubuntu bionic/main amd64 libxcb-shape0 amd64 1.13-1 [5,964 B]\n",
            "Get:116 http://archive.ubuntu.com/ubuntu bionic/main amd64 libxv1 amd64 2:1.0.11-1 [10.7 kB]\n",
            "Get:117 http://archive.ubuntu.com/ubuntu bionic-updates/universe amd64 libavdevice57 amd64 7:3.4.4-0ubuntu0.18.04.1 [74.9 kB]\n",
            "Get:118 http://archive.ubuntu.com/ubuntu bionic-updates/universe amd64 ffmpeg amd64 7:3.4.4-0ubuntu0.18.04.1 [1,587 kB]\n",
            "Get:119 http://archive.ubuntu.com/ubuntu bionic/universe amd64 libaacs0 amd64 0.9.0-1 [51.4 kB]\n",
            "Get:120 http://archive.ubuntu.com/ubuntu bionic/universe amd64 libbdplus0 amd64 0.1.2-2 [46.6 kB]\n",
            "Get:121 http://archive.ubuntu.com/ubuntu bionic/main amd64 libgdk-pixbuf2.0-bin amd64 2.36.11-2 [7,864 B]\n",
            "Get:122 http://archive.ubuntu.com/ubuntu bionic/main amd64 librsvg2-common amd64 2.40.20-2 [5,124 B]\n",
            "Get:123 http://archive.ubuntu.com/ubuntu bionic-updates/universe amd64 mesa-va-drivers amd64 18.0.5-0ubuntu0~18.04.1 [1,778 kB]\n",
            "Get:124 http://archive.ubuntu.com/ubuntu bionic-updates/main amd64 mesa-vdpau-drivers amd64 18.0.5-0ubuntu0~18.04.1 [1,902 kB]\n",
            "Get:125 http://archive.ubuntu.com/ubuntu bionic/universe amd64 i965-va-driver amd64 2.1.0-0ubuntu1 [925 kB]\n",
            "Get:126 http://archive.ubuntu.com/ubuntu bionic/universe amd64 va-driver-all amd64 2.1.0-3 [4,376 B]\n",
            "Get:127 http://archive.ubuntu.com/ubuntu bionic/main amd64 vdpau-driver-all amd64 1.1.1-3ubuntu1 [4,674 B]\n",
            "Fetched 60.5 MB in 1s (52.5 MB/s)\n",
            "Extracting templates from packages: 100%\n",
            "Selecting previously unselected package fontconfig.\n",
            "(Reading database ... 24714 files and directories currently installed.)\n",
            "Preparing to unpack .../000-fontconfig_2.12.6-0ubuntu2_amd64.deb ...\n",
            "Unpacking fontconfig (2.12.6-0ubuntu2) ...\n",
            "Selecting previously unselected package libogg0:amd64.\n",
            "Preparing to unpack .../001-libogg0_1.3.2-1_amd64.deb ...\n",
            "Unpacking libogg0:amd64 (1.3.2-1) ...\n",
            "Selecting previously unselected package libxinerama1:amd64.\n",
            "Preparing to unpack .../002-libxinerama1_2%3a1.1.3-1_amd64.deb ...\n",
            "Unpacking libxinerama1:amd64 (2:1.1.3-1) ...\n",
            "Selecting previously unselected package libxxf86vm1:amd64.\n",
            "Preparing to unpack .../003-libxxf86vm1_1%3a1.1.4-1_amd64.deb ...\n",
            "Unpacking libxxf86vm1:amd64 (1:1.1.4-1) ...\n",
            "Selecting previously unselected package libfribidi0:amd64.\n",
            "Preparing to unpack .../004-libfribidi0_0.19.7-2_amd64.deb ...\n",
            "Unpacking libfribidi0:amd64 (0.19.7-2) ...\n",
            "Selecting previously unselected package libslang2:amd64.\n",
            "Preparing to unpack .../005-libslang2_2.3.1a-3ubuntu1_amd64.deb ...\n",
            "Unpacking libslang2:amd64 (2.3.1a-3ubuntu1) ...\n",
            "Selecting previously unselected package shared-mime-info.\n",
            "Preparing to unpack .../006-shared-mime-info_1.9-2_amd64.deb ...\n",
            "Unpacking shared-mime-info (1.9-2) ...\n",
            "Selecting previously unselected package xkb-data.\n",
            "Preparing to unpack .../007-xkb-data_2.23.1-1ubuntu1_all.deb ...\n",
            "Unpacking xkb-data (2.23.1-1ubuntu1) ...\n",
            "Selecting previously unselected package libnuma1:amd64.\n",
            "Preparing to unpack .../008-libnuma1_2.0.11-2.1_amd64.deb ...\n",
            "Unpacking libnuma1:amd64 (2.0.11-2.1) ...\n",
            "Selecting previously unselected package libusb-1.0-0:amd64.\n",
            "Preparing to unpack .../009-libusb-1.0-0_2%3a1.0.21-2_amd64.deb ...\n",
            "Unpacking libusb-1.0-0:amd64 (2:1.0.21-2) ...\n",
            "Selecting previously unselected package libva2:amd64.\n",
            "Preparing to unpack .../010-libva2_2.1.0-3_amd64.deb ...\n",
            "Unpacking libva2:amd64 (2.1.0-3) ...\n",
            "Selecting previously unselected package libva-drm2:amd64.\n",
            "Preparing to unpack .../011-libva-drm2_2.1.0-3_amd64.deb ...\n",
            "Unpacking libva-drm2:amd64 (2.1.0-3) ...\n",
            "Selecting previously unselected package libxfixes3:amd64.\n",
            "Preparing to unpack .../012-libxfixes3_1%3a5.0.3-1_amd64.deb ...\n",
            "Unpacking libxfixes3:amd64 (1:5.0.3-1) ...\n",
            "Selecting previously unselected package libva-x11-2:amd64.\n",
            "Preparing to unpack .../013-libva-x11-2_2.1.0-3_amd64.deb ...\n",
            "Unpacking libva-x11-2:amd64 (2.1.0-3) ...\n",
            "Selecting previously unselected package libvdpau1:amd64.\n",
            "Preparing to unpack .../014-libvdpau1_1.1.1-3ubuntu1_amd64.deb ...\n",
            "Unpacking libvdpau1:amd64 (1.1.1-3ubuntu1) ...\n",
            "Selecting previously unselected package libavutil55:amd64.\n",
            "Preparing to unpack .../015-libavutil55_7%3a3.4.4-0ubuntu0.18.04.1_amd64.deb ...\n",
            "Unpacking libavutil55:amd64 (7:3.4.4-0ubuntu0.18.04.1) ...\n",
            "Selecting previously unselected package libpixman-1-0:amd64.\n",
            "Preparing to unpack .../016-libpixman-1-0_0.34.0-2_amd64.deb ...\n",
            "Unpacking libpixman-1-0:amd64 (0.34.0-2) ...\n",
            "Selecting previously unselected package libxcb-render0:amd64.\n",
            "Preparing to unpack .../017-libxcb-render0_1.13-1_amd64.deb ...\n",
            "Unpacking libxcb-render0:amd64 (1.13-1) ...\n",
            "Selecting previously unselected package libxcb-shm0:amd64.\n",
            "Preparing to unpack .../018-libxcb-shm0_1.13-1_amd64.deb ...\n",
            "Unpacking libxcb-shm0:amd64 (1.13-1) ...\n",
            "Selecting previously unselected package libcairo2:amd64.\n",
            "Preparing to unpack .../019-libcairo2_1.15.10-2_amd64.deb ...\n",
            "Unpacking libcairo2:amd64 (1.15.10-2) ...\n",
            "Selecting previously unselected package libcrystalhd3:amd64.\n",
            "Preparing to unpack .../020-libcrystalhd3_1%3a0.0~git20110715.fdd2f19-12_amd64.deb ...\n",
            "Unpacking libcrystalhd3:amd64 (1:0.0~git20110715.fdd2f19-12) ...\n",
            "Selecting previously unselected package libgsm1:amd64.\n",
            "Preparing to unpack .../021-libgsm1_1.0.13-4build1_amd64.deb ...\n",
            "Unpacking libgsm1:amd64 (1.0.13-4build1) ...\n",
            "Selecting previously unselected package libmp3lame0:amd64.\n",
            "Preparing to unpack .../022-libmp3lame0_3.100-2_amd64.deb ...\n",
            "Unpacking libmp3lame0:amd64 (3.100-2) ...\n",
            "Selecting previously unselected package libopenjp2-7:amd64.\n",
            "Preparing to unpack .../023-libopenjp2-7_2.3.0-1_amd64.deb ...\n",
            "Unpacking libopenjp2-7:amd64 (2.3.0-1) ...\n",
            "Selecting previously unselected package libopus0:amd64.\n",
            "Preparing to unpack .../024-libopus0_1.1.2-1ubuntu1_amd64.deb ...\n",
            "Unpacking libopus0:amd64 (1.1.2-1ubuntu1) ...\n",
            "Selecting previously unselected package libcroco3:amd64.\n",
            "Preparing to unpack .../025-libcroco3_0.6.12-2_amd64.deb ...\n",
            "Unpacking libcroco3:amd64 (0.6.12-2) ...\n",
            "Selecting previously unselected package libjbig0:amd64.\n",
            "Preparing to unpack .../026-libjbig0_2.1-3.1build1_amd64.deb ...\n",
            "Unpacking libjbig0:amd64 (2.1-3.1build1) ...\n",
            "Selecting previously unselected package libtiff5:amd64.\n",
            "Preparing to unpack .../027-libtiff5_4.0.9-5_amd64.deb ...\n",
            "Unpacking libtiff5:amd64 (4.0.9-5) ...\n",
            "Selecting previously unselected package libgdk-pixbuf2.0-common.\n",
            "Preparing to unpack .../028-libgdk-pixbuf2.0-common_2.36.11-2_all.deb ...\n",
            "Unpacking libgdk-pixbuf2.0-common (2.36.11-2) ...\n",
            "Selecting previously unselected package libgdk-pixbuf2.0-0:amd64.\n",
            "Preparing to unpack .../029-libgdk-pixbuf2.0-0_2.36.11-2_amd64.deb ...\n",
            "Unpacking libgdk-pixbuf2.0-0:amd64 (2.36.11-2) ...\n",
            "Selecting previously unselected package libthai-data.\n",
            "Preparing to unpack .../030-libthai-data_0.1.27-2_all.deb ...\n",
            "Unpacking libthai-data (0.1.27-2) ...\n",
            "Selecting previously unselected package libdatrie1:amd64.\n",
            "Preparing to unpack .../031-libdatrie1_0.2.10-7_amd64.deb ...\n",
            "Unpacking libdatrie1:amd64 (0.2.10-7) ...\n",
            "Selecting previously unselected package libthai0:amd64.\n",
            "Preparing to unpack .../032-libthai0_0.1.27-2_amd64.deb ...\n",
            "Unpacking libthai0:amd64 (0.1.27-2) ...\n",
            "Selecting previously unselected package libpango-1.0-0:amd64.\n",
            "Preparing to unpack .../033-libpango-1.0-0_1.40.14-1ubuntu0.1_amd64.deb ...\n",
            "Unpacking libpango-1.0-0:amd64 (1.40.14-1ubuntu0.1) ...\n",
            "Selecting previously unselected package libpangoft2-1.0-0:amd64.\n",
            "Preparing to unpack .../034-libpangoft2-1.0-0_1.40.14-1ubuntu0.1_amd64.deb ...\n",
            "Unpacking libpangoft2-1.0-0:amd64 (1.40.14-1ubuntu0.1) ...\n",
            "Selecting previously unselected package libpangocairo-1.0-0:amd64.\n",
            "Preparing to unpack .../035-libpangocairo-1.0-0_1.40.14-1ubuntu0.1_amd64.deb ...\n",
            "Unpacking libpangocairo-1.0-0:amd64 (1.40.14-1ubuntu0.1) ...\n",
            "Selecting previously unselected package librsvg2-2:amd64.\n",
            "Preparing to unpack .../036-librsvg2-2_2.40.20-2_amd64.deb ...\n",
            "Unpacking librsvg2-2:amd64 (2.40.20-2) ...\n",
            "Selecting previously unselected package libshine3:amd64.\n",
            "Preparing to unpack .../037-libshine3_3.1.1-1_amd64.deb ...\n",
            "Unpacking libshine3:amd64 (3.1.1-1) ...\n",
            "Selecting previously unselected package libsnappy1v5:amd64.\n",
            "Preparing to unpack .../038-libsnappy1v5_1.1.7-1_amd64.deb ...\n",
            "Unpacking libsnappy1v5:amd64 (1.1.7-1) ...\n",
            "Selecting previously unselected package libspeex1:amd64.\n",
            "Preparing to unpack .../039-libspeex1_1.2~rc1.2-1ubuntu2_amd64.deb ...\n",
            "Unpacking libspeex1:amd64 (1.2~rc1.2-1ubuntu2) ...\n",
            "Selecting previously unselected package libsoxr0:amd64.\n",
            "Preparing to unpack .../040-libsoxr0_0.1.2-3_amd64.deb ...\n",
            "Unpacking libsoxr0:amd64 (0.1.2-3) ...\n",
            "Selecting previously unselected package libswresample2:amd64.\n",
            "Preparing to unpack .../041-libswresample2_7%3a3.4.4-0ubuntu0.18.04.1_amd64.deb ...\n",
            "Unpacking libswresample2:amd64 (7:3.4.4-0ubuntu0.18.04.1) ...\n",
            "Selecting previously unselected package libtheora0:amd64.\n",
            "Preparing to unpack .../042-libtheora0_1.1.1+dfsg.1-14_amd64.deb ...\n",
            "Unpacking libtheora0:amd64 (1.1.1+dfsg.1-14) ...\n",
            "Selecting previously unselected package libtwolame0:amd64.\n",
            "Preparing to unpack .../043-libtwolame0_0.3.13-3_amd64.deb ...\n",
            "Unpacking libtwolame0:amd64 (0.3.13-3) ...\n",
            "Selecting previously unselected package libvorbis0a:amd64.\n",
            "Preparing to unpack .../044-libvorbis0a_1.3.5-4.2_amd64.deb ...\n",
            "Unpacking libvorbis0a:amd64 (1.3.5-4.2) ...\n",
            "Selecting previously unselected package libvorbisenc2:amd64.\n",
            "Preparing to unpack .../045-libvorbisenc2_1.3.5-4.2_amd64.deb ...\n",
            "Unpacking libvorbisenc2:amd64 (1.3.5-4.2) ...\n",
            "Selecting previously unselected package libvpx5:amd64.\n",
            "Preparing to unpack .../046-libvpx5_1.7.0-3_amd64.deb ...\n",
            "Unpacking libvpx5:amd64 (1.7.0-3) ...\n",
            "Selecting previously unselected package libwavpack1:amd64.\n",
            "Preparing to unpack .../047-libwavpack1_5.1.0-2ubuntu1.1_amd64.deb ...\n",
            "Unpacking libwavpack1:amd64 (5.1.0-2ubuntu1.1) ...\n",
            "Selecting previously unselected package libwebp6:amd64.\n",
            "Preparing to unpack .../048-libwebp6_0.6.1-2_amd64.deb ...\n",
            "Unpacking libwebp6:amd64 (0.6.1-2) ...\n",
            "Selecting previously unselected package libwebpmux3:amd64.\n",
            "Preparing to unpack .../049-libwebpmux3_0.6.1-2_amd64.deb ...\n",
            "Unpacking libwebpmux3:amd64 (0.6.1-2) ...\n",
            "Selecting previously unselected package libx264-152:amd64.\n",
            "Preparing to unpack .../050-libx264-152_2%3a0.152.2854+gite9a5903-2_amd64.deb ...\n",
            "Unpacking libx264-152:amd64 (2:0.152.2854+gite9a5903-2) ...\n",
            "Selecting previously unselected package libx265-146:amd64.\n",
            "Preparing to unpack .../051-libx265-146_2.6-3_amd64.deb ...\n",
            "Unpacking libx265-146:amd64 (2.6-3) ...\n",
            "Selecting previously unselected package libxvidcore4:amd64.\n",
            "Preparing to unpack .../052-libxvidcore4_2%3a1.3.5-1_amd64.deb ...\n",
            "Unpacking libxvidcore4:amd64 (2:1.3.5-1) ...\n",
            "Selecting previously unselected package libzvbi-common.\n",
            "Preparing to unpack .../053-libzvbi-common_0.2.35-13_all.deb ...\n",
            "Unpacking libzvbi-common (0.2.35-13) ...\n",
            "Selecting previously unselected package libzvbi0:amd64.\n",
            "Preparing to unpack .../054-libzvbi0_0.2.35-13_amd64.deb ...\n",
            "Unpacking libzvbi0:amd64 (0.2.35-13) ...\n",
            "Selecting previously unselected package libavcodec57:amd64.\n",
            "Preparing to unpack .../055-libavcodec57_7%3a3.4.4-0ubuntu0.18.04.1_amd64.deb ...\n",
            "Unpacking libavcodec57:amd64 (7:3.4.4-0ubuntu0.18.04.1) ...\n",
            "Selecting previously unselected package libasound2-data.\n",
            "Preparing to unpack .../056-libasound2-data_1.1.3-5ubuntu0.1_all.deb ...\n",
            "Unpacking libasound2-data (1.1.3-5ubuntu0.1) ...\n",
            "Selecting previously unselected package libasound2:amd64.\n",
            "Preparing to unpack .../057-libasound2_1.1.3-5ubuntu0.1_amd64.deb ...\n",
            "Unpacking libasound2:amd64 (1.1.3-5ubuntu0.1) ...\n",
            "Selecting previously unselected package libraw1394-11:amd64.\n",
            "Preparing to unpack .../058-libraw1394-11_2.1.2-1_amd64.deb ...\n",
            "Unpacking libraw1394-11:amd64 (2.1.2-1) ...\n",
            "Selecting previously unselected package libavc1394-0:amd64.\n",
            "Preparing to unpack .../059-libavc1394-0_0.5.4-4build1_amd64.deb ...\n",
            "Unpacking libavc1394-0:amd64 (0.5.4-4build1) ...\n",
            "Selecting previously unselected package libass9:amd64.\n",
            "Preparing to unpack .../060-libass9_1%3a0.14.0-1_amd64.deb ...\n",
            "Unpacking libass9:amd64 (1:0.14.0-1) ...\n",
            "Selecting previously unselected package libbluray2:amd64.\n",
            "Preparing to unpack .../061-libbluray2_1%3a1.0.2-3_amd64.deb ...\n",
            "Unpacking libbluray2:amd64 (1:1.0.2-3) ...\n",
            "Selecting previously unselected package libchromaprint1:amd64.\n",
            "Preparing to unpack .../062-libchromaprint1_1.4.3-1_amd64.deb ...\n",
            "Unpacking libchromaprint1:amd64 (1.4.3-1) ...\n",
            "Selecting previously unselected package libgme0:amd64.\n",
            "Preparing to unpack .../063-libgme0_0.6.2-1_amd64.deb ...\n",
            "Unpacking libgme0:amd64 (0.6.2-1) ...\n",
            "Selecting previously unselected package libmpg123-0:amd64.\n",
            "Preparing to unpack .../064-libmpg123-0_1.25.10-1_amd64.deb ...\n",
            "Unpacking libmpg123-0:amd64 (1.25.10-1) ...\n",
            "Selecting previously unselected package libvorbisfile3:amd64.\n",
            "Preparing to unpack .../065-libvorbisfile3_1.3.5-4.2_amd64.deb ...\n",
            "Unpacking libvorbisfile3:amd64 (1.3.5-4.2) ...\n",
            "Selecting previously unselected package libopenmpt0:amd64.\n",
            "Preparing to unpack .../066-libopenmpt0_0.3.6-1_amd64.deb ...\n",
            "Unpacking libopenmpt0:amd64 (0.3.6-1) ...\n",
            "Selecting previously unselected package libssh-gcrypt-4:amd64.\n",
            "Preparing to unpack .../067-libssh-gcrypt-4_0.8.0~20170825.94fa1e38-1ubuntu0.1_amd64.deb ...\n",
            "Unpacking libssh-gcrypt-4:amd64 (0.8.0~20170825.94fa1e38-1ubuntu0.1) ...\n",
            "Selecting previously unselected package libavformat57:amd64.\n",
            "Preparing to unpack .../068-libavformat57_7%3a3.4.4-0ubuntu0.18.04.1_amd64.deb ...\n",
            "Unpacking libavformat57:amd64 (7:3.4.4-0ubuntu0.18.04.1) ...\n",
            "Selecting previously unselected package libavresample3:amd64.\n",
            "Preparing to unpack .../069-libavresample3_7%3a3.4.4-0ubuntu0.18.04.1_amd64.deb ...\n",
            "Unpacking libavresample3:amd64 (7:3.4.4-0ubuntu0.18.04.1) ...\n",
            "Selecting previously unselected package libbs2b0:amd64.\n",
            "Preparing to unpack .../070-libbs2b0_3.1.0+dfsg-2.2_amd64.deb ...\n",
            "Unpacking libbs2b0:amd64 (3.1.0+dfsg-2.2) ...\n",
            "Selecting previously unselected package libflite1:amd64.\n",
            "Preparing to unpack .../071-libflite1_2.1-release-1_amd64.deb ...\n",
            "Unpacking libflite1:amd64 (2.1-release-1) ...\n",
            "Selecting previously unselected package libmysofa0:amd64.\n",
            "Preparing to unpack .../072-libmysofa0_0.6~dfsg0-2_amd64.deb ...\n",
            "Unpacking libmysofa0:amd64 (0.6~dfsg0-2) ...\n",
            "Selecting previously unselected package libpostproc54:amd64.\n",
            "Preparing to unpack .../073-libpostproc54_7%3a3.4.4-0ubuntu0.18.04.1_amd64.deb ...\n",
            "Unpacking libpostproc54:amd64 (7:3.4.4-0ubuntu0.18.04.1) ...\n",
            "Selecting previously unselected package libfftw3-double3:amd64.\n",
            "Preparing to unpack .../074-libfftw3-double3_3.3.7-1_amd64.deb ...\n",
            "Unpacking libfftw3-double3:amd64 (3.3.7-1) ...\n",
            "Selecting previously unselected package libsamplerate0:amd64.\n",
            "Preparing to unpack .../075-libsamplerate0_0.1.9-1_amd64.deb ...\n",
            "Unpacking libsamplerate0:amd64 (0.1.9-1) ...\n",
            "Selecting previously unselected package librubberband2:amd64.\n",
            "Preparing to unpack .../076-librubberband2_1.8.1-7ubuntu2_amd64.deb ...\n",
            "Unpacking librubberband2:amd64 (1.8.1-7ubuntu2) ...\n",
            "Selecting previously unselected package libswscale4:amd64.\n",
            "Preparing to unpack .../077-libswscale4_7%3a3.4.4-0ubuntu0.18.04.1_amd64.deb ...\n",
            "Unpacking libswscale4:amd64 (7:3.4.4-0ubuntu0.18.04.1) ...\n",
            "Selecting previously unselected package libavfilter6:amd64.\n",
            "Preparing to unpack .../078-libavfilter6_7%3a3.4.4-0ubuntu0.18.04.1_amd64.deb ...\n",
            "Unpacking libavfilter6:amd64 (7:3.4.4-0ubuntu0.18.04.1) ...\n",
            "Selecting previously unselected package libcaca0:amd64.\n",
            "Preparing to unpack .../079-libcaca0_0.99.beta19-2build2~gcc5.3_amd64.deb ...\n",
            "Unpacking libcaca0:amd64 (0.99.beta19-2build2~gcc5.3) ...\n",
            "Selecting previously unselected package libcdio17:amd64.\n",
            "Preparing to unpack .../080-libcdio17_1.0.0-2ubuntu2_amd64.deb ...\n",
            "Unpacking libcdio17:amd64 (1.0.0-2ubuntu2) ...\n",
            "Selecting previously unselected package libcdio-cdda2:amd64.\n",
            "Preparing to unpack .../081-libcdio-cdda2_10.2+0.94+2-2build1_amd64.deb ...\n",
            "Unpacking libcdio-cdda2:amd64 (10.2+0.94+2-2build1) ...\n",
            "Selecting previously unselected package libcdio-paranoia2:amd64.\n",
            "Preparing to unpack .../082-libcdio-paranoia2_10.2+0.94+2-2build1_amd64.deb ...\n",
            "Unpacking libcdio-paranoia2:amd64 (10.2+0.94+2-2build1) ...\n",
            "Selecting previously unselected package libdc1394-22:amd64.\n",
            "Preparing to unpack .../083-libdc1394-22_2.2.5-1_amd64.deb ...\n",
            "Unpacking libdc1394-22:amd64 (2.2.5-1) ...\n",
            "Selecting previously unselected package libxcb-glx0:amd64.\n",
            "Preparing to unpack .../084-libxcb-glx0_1.13-1_amd64.deb ...\n",
            "Unpacking libxcb-glx0:amd64 (1.13-1) ...\n",
            "Selecting previously unselected package libxdamage1:amd64.\n",
            "Preparing to unpack .../085-libxdamage1_1%3a1.1.4-3_amd64.deb ...\n",
            "Unpacking libxdamage1:amd64 (1:1.1.4-3) ...\n",
            "Selecting previously unselected package libdrm-amdgpu1:amd64.\n",
            "Preparing to unpack .../086-libdrm-amdgpu1_2.4.91-2_amd64.deb ...\n",
            "Unpacking libdrm-amdgpu1:amd64 (2.4.91-2) ...\n",
            "Selecting previously unselected package libpciaccess0:amd64.\n",
            "Preparing to unpack .../087-libpciaccess0_0.14-1_amd64.deb ...\n",
            "Unpacking libpciaccess0:amd64 (0.14-1) ...\n",
            "Selecting previously unselected package libdrm-intel1:amd64.\n",
            "Preparing to unpack .../088-libdrm-intel1_2.4.91-2_amd64.deb ...\n",
            "Unpacking libdrm-intel1:amd64 (2.4.91-2) ...\n",
            "Selecting previously unselected package libdrm-nouveau2:amd64.\n",
            "Preparing to unpack .../089-libdrm-nouveau2_2.4.91-2_amd64.deb ...\n",
            "Unpacking libdrm-nouveau2:amd64 (2.4.91-2) ...\n",
            "Selecting previously unselected package libdrm-radeon1:amd64.\n",
            "Preparing to unpack .../090-libdrm-radeon1_2.4.91-2_amd64.deb ...\n",
            "Unpacking libdrm-radeon1:amd64 (2.4.91-2) ...\n",
            "Selecting previously unselected package libllvm6.0:amd64.\n",
            "Preparing to unpack .../091-libllvm6.0_1%3a6.0-1ubuntu2_amd64.deb ...\n",
            "Unpacking libllvm6.0:amd64 (1:6.0-1ubuntu2) ...\n",
            "Selecting previously unselected package libsensors4:amd64.\n",
            "Preparing to unpack .../092-libsensors4_1%3a3.4.0-4_amd64.deb ...\n",
            "Unpacking libsensors4:amd64 (1:3.4.0-4) ...\n",
            "Selecting previously unselected package libgl1-mesa-dri:amd64.\n",
            "Preparing to unpack .../093-libgl1-mesa-dri_18.0.5-0ubuntu0~18.04.1_amd64.deb ...\n",
            "Unpacking libgl1-mesa-dri:amd64 (18.0.5-0ubuntu0~18.04.1) ...\n",
            "Selecting previously unselected package libglx-mesa0:amd64.\n",
            "Preparing to unpack .../094-libglx-mesa0_18.0.5-0ubuntu0~18.04.1_amd64.deb ...\n",
            "Unpacking libglx-mesa0:amd64 (18.0.5-0ubuntu0~18.04.1) ...\n",
            "Selecting previously unselected package libglx0:amd64.\n",
            "Preparing to unpack .../095-libglx0_1.0.0-2ubuntu2.2_amd64.deb ...\n",
            "Unpacking libglx0:amd64 (1.0.0-2ubuntu2.2) ...\n",
            "Selecting previously unselected package libgl1:amd64.\n",
            "Preparing to unpack .../096-libgl1_1.0.0-2ubuntu2.2_amd64.deb ...\n",
            "Unpacking libgl1:amd64 (1.0.0-2ubuntu2.2) ...\n",
            "Selecting previously unselected package libiec61883-0:amd64.\n",
            "Preparing to unpack .../097-libiec61883-0_1.2.0-2_amd64.deb ...\n",
            "Unpacking libiec61883-0:amd64 (1.2.0-2) ...\n",
            "Selecting previously unselected package libjack-jackd2-0:amd64.\n",
            "Preparing to unpack .../098-libjack-jackd2-0_1.9.12~dfsg-2_amd64.deb ...\n",
            "Unpacking libjack-jackd2-0:amd64 (1.9.12~dfsg-2) ...\n",
            "Selecting previously unselected package libopenal-data.\n",
            "Preparing to unpack .../099-libopenal-data_1%3a1.18.2-2_all.deb ...\n",
            "Unpacking libopenal-data (1:1.18.2-2) ...\n",
            "Selecting previously unselected package libsndio6.1:amd64.\n",
            "Preparing to unpack .../100-libsndio6.1_1.1.0-3_amd64.deb ...\n",
            "Unpacking libsndio6.1:amd64 (1.1.0-3) ...\n",
            "Selecting previously unselected package libopenal1:amd64.\n",
            "Preparing to unpack .../101-libopenal1_1%3a1.18.2-2_amd64.deb ...\n",
            "Unpacking libopenal1:amd64 (1:1.18.2-2) ...\n",
            "Selecting previously unselected package libasyncns0:amd64.\n",
            "Preparing to unpack .../102-libasyncns0_0.8-6_amd64.deb ...\n",
            "Unpacking libasyncns0:amd64 (0.8-6) ...\n",
            "Selecting previously unselected package libflac8:amd64.\n",
            "Preparing to unpack .../103-libflac8_1.3.2-1_amd64.deb ...\n",
            "Unpacking libflac8:amd64 (1.3.2-1) ...\n",
            "Selecting previously unselected package libsndfile1:amd64.\n",
            "Preparing to unpack .../104-libsndfile1_1.0.28-4_amd64.deb ...\n",
            "Unpacking libsndfile1:amd64 (1.0.28-4) ...\n",
            "Selecting previously unselected package libwrap0:amd64.\n",
            "Preparing to unpack .../105-libwrap0_7.6.q-27_amd64.deb ...\n",
            "Unpacking libwrap0:amd64 (7.6.q-27) ...\n",
            "Selecting previously unselected package libpulse0:amd64.\n",
            "Preparing to unpack .../106-libpulse0_1%3a11.1-1ubuntu7.1_amd64.deb ...\n",
            "Unpacking libpulse0:amd64 (1:11.1-1ubuntu7.1) ...\n",
            "Selecting previously unselected package libwayland-cursor0:amd64.\n",
            "Preparing to unpack .../107-libwayland-cursor0_1.14.0-2_amd64.deb ...\n",
            "Unpacking libwayland-cursor0:amd64 (1.14.0-2) ...\n",
            "Selecting previously unselected package libwayland-egl1-mesa:amd64.\n",
            "Preparing to unpack .../108-libwayland-egl1-mesa_18.0.5-0ubuntu0~18.04.1_amd64.deb ...\n",
            "Unpacking libwayland-egl1-mesa:amd64 (18.0.5-0ubuntu0~18.04.1) ...\n",
            "Selecting previously unselected package libxcursor1:amd64.\n",
            "Preparing to unpack .../109-libxcursor1_1%3a1.1.15-1_amd64.deb ...\n",
            "Unpacking libxcursor1:amd64 (1:1.1.15-1) ...\n",
            "Selecting previously unselected package libxi6:amd64.\n",
            "Preparing to unpack .../110-libxi6_2%3a1.7.9-1_amd64.deb ...\n",
            "Unpacking libxi6:amd64 (2:1.7.9-1) ...\n",
            "Selecting previously unselected package libxkbcommon0:amd64.\n",
            "Preparing to unpack .../111-libxkbcommon0_0.8.0-1ubuntu0.1_amd64.deb ...\n",
            "Unpacking libxkbcommon0:amd64 (0.8.0-1ubuntu0.1) ...\n",
            "Selecting previously unselected package libxrandr2:amd64.\n",
            "Preparing to unpack .../112-libxrandr2_2%3a1.5.1-1_amd64.deb ...\n",
            "Unpacking libxrandr2:amd64 (2:1.5.1-1) ...\n",
            "Selecting previously unselected package libsdl2-2.0-0:amd64.\n",
            "Preparing to unpack .../113-libsdl2-2.0-0_2.0.8+dfsg1-1ubuntu1.18.04.1_amd64.deb ...\n",
            "Unpacking libsdl2-2.0-0:amd64 (2.0.8+dfsg1-1ubuntu1.18.04.1) ...\n",
            "Selecting previously unselected package libxcb-shape0:amd64.\n",
            "Preparing to unpack .../114-libxcb-shape0_1.13-1_amd64.deb ...\n",
            "Unpacking libxcb-shape0:amd64 (1.13-1) ...\n",
            "Selecting previously unselected package libxv1:amd64.\n",
            "Preparing to unpack .../115-libxv1_2%3a1.0.11-1_amd64.deb ...\n",
            "Unpacking libxv1:amd64 (2:1.0.11-1) ...\n",
            "Selecting previously unselected package libavdevice57:amd64.\n",
            "Preparing to unpack .../116-libavdevice57_7%3a3.4.4-0ubuntu0.18.04.1_amd64.deb ...\n",
            "Unpacking libavdevice57:amd64 (7:3.4.4-0ubuntu0.18.04.1) ...\n",
            "Selecting previously unselected package ffmpeg.\n",
            "Preparing to unpack .../117-ffmpeg_7%3a3.4.4-0ubuntu0.18.04.1_amd64.deb ...\n",
            "Unpacking ffmpeg (7:3.4.4-0ubuntu0.18.04.1) ...\n",
            "Selecting previously unselected package libaacs0:amd64.\n",
            "Preparing to unpack .../118-libaacs0_0.9.0-1_amd64.deb ...\n",
            "Unpacking libaacs0:amd64 (0.9.0-1) ...\n",
            "Selecting previously unselected package libbdplus0:amd64.\n",
            "Preparing to unpack .../119-libbdplus0_0.1.2-2_amd64.deb ...\n",
            "Unpacking libbdplus0:amd64 (0.1.2-2) ...\n",
            "Selecting previously unselected package libgdk-pixbuf2.0-bin.\n",
            "Preparing to unpack .../120-libgdk-pixbuf2.0-bin_2.36.11-2_amd64.deb ...\n",
            "Unpacking libgdk-pixbuf2.0-bin (2.36.11-2) ...\n",
            "Selecting previously unselected package librsvg2-common:amd64.\n",
            "Preparing to unpack .../121-librsvg2-common_2.40.20-2_amd64.deb ...\n",
            "Unpacking librsvg2-common:amd64 (2.40.20-2) ...\n",
            "Selecting previously unselected package mesa-va-drivers:amd64.\n",
            "Preparing to unpack .../122-mesa-va-drivers_18.0.5-0ubuntu0~18.04.1_amd64.deb ...\n",
            "Unpacking mesa-va-drivers:amd64 (18.0.5-0ubuntu0~18.04.1) ...\n",
            "Selecting previously unselected package mesa-vdpau-drivers:amd64.\n",
            "Preparing to unpack .../123-mesa-vdpau-drivers_18.0.5-0ubuntu0~18.04.1_amd64.deb ...\n",
            "Unpacking mesa-vdpau-drivers:amd64 (18.0.5-0ubuntu0~18.04.1) ...\n",
            "Selecting previously unselected package i965-va-driver:amd64.\n",
            "Preparing to unpack .../124-i965-va-driver_2.1.0-0ubuntu1_amd64.deb ...\n",
            "Unpacking i965-va-driver:amd64 (2.1.0-0ubuntu1) ...\n",
            "Selecting previously unselected package va-driver-all:amd64.\n",
            "Preparing to unpack .../125-va-driver-all_2.1.0-3_amd64.deb ...\n",
            "Unpacking va-driver-all:amd64 (2.1.0-3) ...\n",
            "Selecting previously unselected package vdpau-driver-all:amd64.\n",
            "Preparing to unpack .../126-vdpau-driver-all_1.1.1-3ubuntu1_amd64.deb ...\n",
            "Unpacking vdpau-driver-all:amd64 (1.1.1-3ubuntu1) ...\n",
            "Setting up libxi6:amd64 (2:1.7.9-1) ...\n",
            "Setting up libxinerama1:amd64 (2:1.1.3-1) ...\n",
            "Setting up libxcb-glx0:amd64 (1.13-1) ...\n",
            "Setting up libtwolame0:amd64 (0.3.13-3) ...\n",
            "Setting up libraw1394-11:amd64 (2.1.2-1) ...\n",
            "Setting up libx264-152:amd64 (2:0.152.2854+gite9a5903-2) ...\n",
            "Setting up libxcb-render0:amd64 (1.13-1) ...\n",
            "Setting up libopenjp2-7:amd64 (2.3.0-1) ...\n",
            "Setting up libasyncns0:amd64 (0.8-6) ...\n",
            "Setting up libxdamage1:amd64 (1:1.1.4-3) ...\n",
            "Setting up libxfixes3:amd64 (1:5.0.3-1) ...\n",
            "Setting up libdrm-amdgpu1:amd64 (2.4.91-2) ...\n",
            "Setting up libllvm6.0:amd64 (1:6.0-1ubuntu2) ...\n",
            "Setting up libwavpack1:amd64 (5.1.0-2ubuntu1.1) ...\n",
            "Setting up libjbig0:amd64 (2.1-3.1build1) ...\n",
            "Setting up libaacs0:amd64 (0.9.0-1) ...\n",
            "Setting up libnuma1:amd64 (2.0.11-2.1) ...\n",
            "Setting up libsoxr0:amd64 (0.1.2-3) ...\n",
            "Setting up libssh-gcrypt-4:amd64 (0.8.0~20170825.94fa1e38-1ubuntu0.1) ...\n",
            "Setting up libasound2-data (1.1.3-5ubuntu0.1) ...\n",
            "Setting up xkb-data (2.23.1-1ubuntu1) ...\n",
            "Setting up libbluray2:amd64 (1:1.0.2-3) ...\n",
            "Setting up libvdpau1:amd64 (1.1.1-3ubuntu1) ...\n",
            "Setting up libgdk-pixbuf2.0-common (2.36.11-2) ...\n",
            "Setting up libdatrie1:amd64 (0.2.10-7) ...\n",
            "Setting up libtiff5:amd64 (4.0.9-5) ...\n",
            "Setting up libshine3:amd64 (3.1.1-1) ...\n",
            "Setting up libva2:amd64 (2.1.0-3) ...\n",
            "Setting up libiec61883-0:amd64 (1.2.0-2) ...\n",
            "Setting up libspeex1:amd64 (1.2~rc1.2-1ubuntu2) ...\n",
            "Setting up libfftw3-double3:amd64 (3.3.7-1) ...\n",
            "Setting up libxvidcore4:amd64 (2:1.3.5-1) ...\n",
            "Setting up libopus0:amd64 (1.1.2-1ubuntu1) ...\n",
            "Setting up libx265-146:amd64 (2.6-3) ...\n",
            "Setting up libasound2:amd64 (1.1.3-5ubuntu0.1) ...\n",
            "Setting up libopenal-data (1:1.18.2-2) ...\n",
            "Setting up libbs2b0:amd64 (3.1.0+dfsg-2.2) ...\n",
            "Setting up libcroco3:amd64 (0.6.12-2) ...\n",
            "Setting up libogg0:amd64 (1.3.2-1) ...\n",
            "Setting up libpixman-1-0:amd64 (0.34.0-2) ...\n",
            "Setting up libmp3lame0:amd64 (3.100-2) ...\n",
            "Setting up libxcursor1:amd64 (1:1.1.15-1) ...\n",
            "Setting up libusb-1.0-0:amd64 (2:1.0.21-2) ...\n",
            "Setting up libcrystalhd3:amd64 (1:0.0~git20110715.fdd2f19-12) ...\n",
            "Processing triggers for libc-bin (2.27-3ubuntu1) ...\n",
            "Setting up libsnappy1v5:amd64 (1.1.7-1) ...\n",
            "Setting up libwayland-egl1-mesa:amd64 (18.0.5-0ubuntu0~18.04.1) ...\n",
            "Setting up libva-drm2:amd64 (2.1.0-3) ...\n",
            "Setting up libavc1394-0:amd64 (0.5.4-4build1) ...\n",
            "Setting up libzvbi-common (0.2.35-13) ...\n",
            "Setting up libfribidi0:amd64 (0.19.7-2) ...\n",
            "Setting up libxcb-shm0:amd64 (1.13-1) ...\n",
            "Setting up libxcb-shape0:amd64 (1.13-1) ...\n",
            "Setting up libpciaccess0:amd64 (0.14-1) ...\n",
            "Setting up libxv1:amd64 (2:1.0.11-1) ...\n",
            "Setting up libsensors4:amd64 (1:3.4.0-4) ...\n",
            "Setting up shared-mime-info (1.9-2) ...\n",
            "Setting up libxkbcommon0:amd64 (0.8.0-1ubuntu0.1) ...\n",
            "Setting up libvpx5:amd64 (1.7.0-3) ...\n",
            "Setting up libdrm-radeon1:amd64 (2.4.91-2) ...\n",
            "Setting up libgme0:amd64 (0.6.2-1) ...\n",
            "Setting up libthai-data (0.1.27-2) ...\n",
            "Setting up libbdplus0:amd64 (0.1.2-2) ...\n",
            "Setting up libxxf86vm1:amd64 (1:1.1.4-1) ...\n",
            "Setting up libzvbi0:amd64 (0.2.35-13) ...\n",
            "Setting up libva-x11-2:amd64 (2.1.0-3) ...\n",
            "Setting up libdrm-nouveau2:amd64 (2.4.91-2) ...\n",
            "Setting up libsamplerate0:amd64 (0.1.9-1) ...\n",
            "Setting up libsndio6.1:amd64 (1.1.0-3) ...\n",
            "Setting up libvorbis0a:amd64 (1.3.5-4.2) ...\n",
            "Setting up libmpg123-0:amd64 (1.25.10-1) ...\n",
            "Setting up libslang2:amd64 (2.3.1a-3ubuntu1) ...\n",
            "Setting up libwayland-cursor0:amd64 (1.14.0-2) ...\n",
            "Setting up libgsm1:amd64 (1.0.13-4build1) ...\n",
            "Setting up libmysofa0:amd64 (0.6~dfsg0-2) ...\n",
            "Setting up libcdio17:amd64 (1.0.0-2ubuntu2) ...\n",
            "Setting up libxrandr2:amd64 (2:1.5.1-1) ...\n",
            "Setting up fontconfig (2.12.6-0ubuntu2) ...\n",
            "Regenerating fonts cache... done.\n",
            "Setting up libwrap0:amd64 (7.6.q-27) ...\n",
            "Setting up libwebp6:amd64 (0.6.1-2) ...\n",
            "Setting up libvorbisfile3:amd64 (1.3.5-4.2) ...\n",
            "Setting up libcairo2:amd64 (1.15.10-2) ...\n",
            "Setting up libavutil55:amd64 (7:3.4.4-0ubuntu0.18.04.1) ...\n",
            "Setting up libopenmpt0:amd64 (0.3.6-1) ...\n",
            "Setting up libflite1:amd64 (2.1-release-1) ...\n",
            "Setting up mesa-vdpau-drivers:amd64 (18.0.5-0ubuntu0~18.04.1) ...\n",
            "Setting up libgdk-pixbuf2.0-0:amd64 (2.36.11-2) ...\n",
            "Setting up libass9:amd64 (1:0.14.0-1) ...\n",
            "Setting up libflac8:amd64 (1.3.2-1) ...\n",
            "Setting up libgdk-pixbuf2.0-bin (2.36.11-2) ...\n",
            "Setting up libdc1394-22:amd64 (2.2.5-1) ...\n",
            "Setting up libcdio-cdda2:amd64 (10.2+0.94+2-2build1) ...\n",
            "Setting up libthai0:amd64 (0.1.27-2) ...\n",
            "Setting up libswresample2:amd64 (7:3.4.4-0ubuntu0.18.04.1) ...\n",
            "Setting up libdrm-intel1:amd64 (2.4.91-2) ...\n",
            "Setting up librubberband2:amd64 (1.8.1-7ubuntu2) ...\n",
            "Setting up libswscale4:amd64 (7:3.4.4-0ubuntu0.18.04.1) ...\n",
            "Setting up libwebpmux3:amd64 (0.6.1-2) ...\n",
            "Setting up mesa-va-drivers:amd64 (18.0.5-0ubuntu0~18.04.1) ...\n",
            "Setting up libpango-1.0-0:amd64 (1.40.14-1ubuntu0.1) ...\n",
            "Setting up libcdio-paranoia2:amd64 (10.2+0.94+2-2build1) ...\n",
            "Setting up libpostproc54:amd64 (7:3.4.4-0ubuntu0.18.04.1) ...\n",
            "Setting up libjack-jackd2-0:amd64 (1.9.12~dfsg-2) ...\n",
            "Setting up libopenal1:amd64 (1:1.18.2-2) ...\n",
            "Setting up libvorbisenc2:amd64 (1.3.5-4.2) ...\n",
            "Setting up libcaca0:amd64 (0.99.beta19-2build2~gcc5.3) ...\n",
            "Setting up libtheora0:amd64 (1.1.1+dfsg.1-14) ...\n",
            "Setting up vdpau-driver-all:amd64 (1.1.1-3ubuntu1) ...\n",
            "Setting up libavresample3:amd64 (7:3.4.4-0ubuntu0.18.04.1) ...\n",
            "Setting up libgl1-mesa-dri:amd64 (18.0.5-0ubuntu0~18.04.1) ...\n",
            "Setting up libpangoft2-1.0-0:amd64 (1.40.14-1ubuntu0.1) ...\n",
            "Setting up libsndfile1:amd64 (1.0.28-4) ...\n",
            "Setting up i965-va-driver:amd64 (2.1.0-0ubuntu1) ...\n",
            "Setting up va-driver-all:amd64 (2.1.0-3) ...\n",
            "Setting up libglx-mesa0:amd64 (18.0.5-0ubuntu0~18.04.1) ...\n",
            "Setting up libpangocairo-1.0-0:amd64 (1.40.14-1ubuntu0.1) ...\n",
            "Setting up libpulse0:amd64 (1:11.1-1ubuntu7.1) ...\n",
            "Setting up libsdl2-2.0-0:amd64 (2.0.8+dfsg1-1ubuntu1.18.04.1) ...\n",
            "Setting up libglx0:amd64 (1.0.0-2ubuntu2.2) ...\n",
            "Setting up librsvg2-2:amd64 (2.40.20-2) ...\n",
            "Setting up libavcodec57:amd64 (7:3.4.4-0ubuntu0.18.04.1) ...\n",
            "Setting up librsvg2-common:amd64 (2.40.20-2) ...\n",
            "Setting up libgl1:amd64 (1.0.0-2ubuntu2.2) ...\n",
            "Setting up libchromaprint1:amd64 (1.4.3-1) ...\n",
            "Setting up libavformat57:amd64 (7:3.4.4-0ubuntu0.18.04.1) ...\n",
            "Setting up libavfilter6:amd64 (7:3.4.4-0ubuntu0.18.04.1) ...\n",
            "Setting up libavdevice57:amd64 (7:3.4.4-0ubuntu0.18.04.1) ...\n",
            "Setting up ffmpeg (7:3.4.4-0ubuntu0.18.04.1) ...\n",
            "Processing triggers for libc-bin (2.27-3ubuntu1) ...\n",
            "Processing triggers for libgdk-pixbuf2.0-0:amd64 (2.36.11-2) ...\n",
            "Reading package lists... Done\n",
            "Building dependency tree       \n",
            "Reading state information... Done\n",
            "The following additional packages will be installed:\n",
            "  libfontenc1 libxaw7 libxfont2 libxkbfile1 libxmu6 libxmuu1 libxpm4 libxt6\n",
            "  x11-xkb-utils xauth xfonts-base xfonts-encodings xfonts-utils xserver-common\n",
            "The following NEW packages will be installed:\n",
            "  libfontenc1 libxaw7 libxfont2 libxkbfile1 libxmu6 libxmuu1 libxpm4 libxt6\n",
            "  x11-xkb-utils xauth xfonts-base xfonts-encodings xfonts-utils xserver-common\n",
            "  xvfb\n",
            "0 upgraded, 15 newly installed, 0 to remove and 5 not upgraded.\n",
            "Need to get 8,167 kB of archives.\n",
            "After this operation, 13.0 MB of additional disk space will be used.\n",
            "Get:1 http://archive.ubuntu.com/ubuntu bionic/main amd64 libxmuu1 amd64 2:1.1.2-2 [9,674 B]\n",
            "Get:2 http://archive.ubuntu.com/ubuntu bionic/main amd64 xauth amd64 1:1.0.10-1 [24.6 kB]\n",
            "Get:3 http://archive.ubuntu.com/ubuntu bionic/main amd64 libfontenc1 amd64 1:1.1.3-1 [13.9 kB]\n",
            "Get:4 http://archive.ubuntu.com/ubuntu bionic/main amd64 libxt6 amd64 1:1.1.5-1 [160 kB]\n",
            "Get:5 http://archive.ubuntu.com/ubuntu bionic/main amd64 libxmu6 amd64 2:1.1.2-2 [46.0 kB]\n",
            "Get:6 http://archive.ubuntu.com/ubuntu bionic/main amd64 libxpm4 amd64 1:3.5.12-1 [34.0 kB]\n",
            "Get:7 http://archive.ubuntu.com/ubuntu bionic/main amd64 libxaw7 amd64 2:1.0.13-1 [173 kB]\n",
            "Get:8 http://archive.ubuntu.com/ubuntu bionic/main amd64 libxfont2 amd64 1:2.0.3-1 [91.7 kB]\n",
            "Get:9 http://archive.ubuntu.com/ubuntu bionic/main amd64 libxkbfile1 amd64 1:1.0.9-2 [64.6 kB]\n",
            "Get:10 http://archive.ubuntu.com/ubuntu bionic-updates/main amd64 x11-xkb-utils amd64 7.7+3ubuntu0.18.04.1 [160 kB]\n",
            "Get:11 http://archive.ubuntu.com/ubuntu bionic/main amd64 xfonts-encodings all 1:1.0.4-2 [573 kB]\n",
            "Get:12 http://archive.ubuntu.com/ubuntu bionic/main amd64 xfonts-utils amd64 1:7.7+6 [91.5 kB]\n",
            "Get:13 http://archive.ubuntu.com/ubuntu bionic/main amd64 xfonts-base all 1:1.0.4+nmu1 [5,914 kB]\n",
            "Get:14 http://archive.ubuntu.com/ubuntu bionic-updates/main amd64 xserver-common all 2:1.19.6-1ubuntu4.2 [27.3 kB]\n",
            "Get:15 http://archive.ubuntu.com/ubuntu bionic-updates/universe amd64 xvfb amd64 2:1.19.6-1ubuntu4.2 [783 kB]\n",
            "Fetched 8,167 kB in 0s (44.8 MB/s)\n",
            "Selecting previously unselected package libxmuu1:amd64.\n",
            "(Reading database ... 26144 files and directories currently installed.)\n",
            "Preparing to unpack .../00-libxmuu1_2%3a1.1.2-2_amd64.deb ...\n",
            "Unpacking libxmuu1:amd64 (2:1.1.2-2) ...\n",
            "Selecting previously unselected package xauth.\n",
            "Preparing to unpack .../01-xauth_1%3a1.0.10-1_amd64.deb ...\n",
            "Unpacking xauth (1:1.0.10-1) ...\n",
            "Selecting previously unselected package libfontenc1:amd64.\n",
            "Preparing to unpack .../02-libfontenc1_1%3a1.1.3-1_amd64.deb ...\n",
            "Unpacking libfontenc1:amd64 (1:1.1.3-1) ...\n",
            "Selecting previously unselected package libxt6:amd64.\n",
            "Preparing to unpack .../03-libxt6_1%3a1.1.5-1_amd64.deb ...\n",
            "Unpacking libxt6:amd64 (1:1.1.5-1) ...\n",
            "Selecting previously unselected package libxmu6:amd64.\n",
            "Preparing to unpack .../04-libxmu6_2%3a1.1.2-2_amd64.deb ...\n",
            "Unpacking libxmu6:amd64 (2:1.1.2-2) ...\n",
            "Selecting previously unselected package libxpm4:amd64.\n",
            "Preparing to unpack .../05-libxpm4_1%3a3.5.12-1_amd64.deb ...\n",
            "Unpacking libxpm4:amd64 (1:3.5.12-1) ...\n",
            "Selecting previously unselected package libxaw7:amd64.\n",
            "Preparing to unpack .../06-libxaw7_2%3a1.0.13-1_amd64.deb ...\n",
            "Unpacking libxaw7:amd64 (2:1.0.13-1) ...\n",
            "Selecting previously unselected package libxfont2:amd64.\n",
            "Preparing to unpack .../07-libxfont2_1%3a2.0.3-1_amd64.deb ...\n",
            "Unpacking libxfont2:amd64 (1:2.0.3-1) ...\n",
            "Selecting previously unselected package libxkbfile1:amd64.\n",
            "Preparing to unpack .../08-libxkbfile1_1%3a1.0.9-2_amd64.deb ...\n",
            "Unpacking libxkbfile1:amd64 (1:1.0.9-2) ...\n",
            "Selecting previously unselected package x11-xkb-utils.\n",
            "Preparing to unpack .../09-x11-xkb-utils_7.7+3ubuntu0.18.04.1_amd64.deb ...\n",
            "Unpacking x11-xkb-utils (7.7+3ubuntu0.18.04.1) ...\n",
            "Selecting previously unselected package xfonts-encodings.\n",
            "Preparing to unpack .../10-xfonts-encodings_1%3a1.0.4-2_all.deb ...\n",
            "Unpacking xfonts-encodings (1:1.0.4-2) ...\n",
            "Selecting previously unselected package xfonts-utils.\n",
            "Preparing to unpack .../11-xfonts-utils_1%3a7.7+6_amd64.deb ...\n",
            "Unpacking xfonts-utils (1:7.7+6) ...\n",
            "Selecting previously unselected package xfonts-base.\n",
            "Preparing to unpack .../12-xfonts-base_1%3a1.0.4+nmu1_all.deb ...\n",
            "Unpacking xfonts-base (1:1.0.4+nmu1) ...\n",
            "Selecting previously unselected package xserver-common.\n",
            "Preparing to unpack .../13-xserver-common_2%3a1.19.6-1ubuntu4.2_all.deb ...\n",
            "Unpacking xserver-common (2:1.19.6-1ubuntu4.2) ...\n",
            "Selecting previously unselected package xvfb.\n",
            "Preparing to unpack .../14-xvfb_2%3a1.19.6-1ubuntu4.2_amd64.deb ...\n",
            "Unpacking xvfb (2:1.19.6-1ubuntu4.2) ...\n",
            "Setting up libxkbfile1:amd64 (1:1.0.9-2) ...\n",
            "Setting up xfonts-encodings (1:1.0.4-2) ...\n",
            "Setting up libxmuu1:amd64 (2:1.1.2-2) ...\n",
            "Setting up xauth (1:1.0.10-1) ...\n",
            "Processing triggers for libc-bin (2.27-3ubuntu1) ...\n",
            "Setting up libfontenc1:amd64 (1:1.1.3-1) ...\n",
            "Setting up libxpm4:amd64 (1:3.5.12-1) ...\n",
            "Setting up libxt6:amd64 (1:1.1.5-1) ...\n",
            "Processing triggers for fontconfig (2.12.6-0ubuntu2) ...\n",
            "Setting up libxfont2:amd64 (1:2.0.3-1) ...\n",
            "Setting up xfonts-utils (1:7.7+6) ...\n",
            "Setting up libxmu6:amd64 (2:1.1.2-2) ...\n",
            "Setting up xfonts-base (1:1.0.4+nmu1) ...\n",
            "Setting up libxaw7:amd64 (2:1.0.13-1) ...\n",
            "Setting up x11-xkb-utils (7.7+3ubuntu0.18.04.1) ...\n",
            "Setting up xserver-common (2:1.19.6-1ubuntu4.2) ...\n",
            "Setting up xvfb (2:1.19.6-1ubuntu4.2) ...\n",
            "Processing triggers for libc-bin (2.27-3ubuntu1) ...\n",
            "Reading package lists... Done\n",
            "Building dependency tree       \n",
            "Reading state information... Done\n",
            "The following additional packages will be installed:\n",
            "  freeglut3 libglu1-mesa\n",
            "Suggested packages:\n",
            "  python-numpy libgle3\n",
            "The following NEW packages will be installed:\n",
            "  freeglut3 libglu1-mesa python-opengl\n",
            "0 upgraded, 3 newly installed, 0 to remove and 5 not upgraded.\n",
            "Need to get 738 kB of archives.\n",
            "After this operation, 6,207 kB of additional disk space will be used.\n",
            "Get:1 http://archive.ubuntu.com/ubuntu bionic/universe amd64 freeglut3 amd64 2.8.1-3 [73.6 kB]\n",
            "Get:2 http://archive.ubuntu.com/ubuntu bionic/main amd64 libglu1-mesa amd64 9.0.0-2.1build1 [168 kB]\n",
            "Get:3 http://archive.ubuntu.com/ubuntu bionic/universe amd64 python-opengl all 3.1.0+dfsg-1 [496 kB]\n",
            "Fetched 738 kB in 0s (7,452 kB/s)\n",
            "Selecting previously unselected package freeglut3:amd64.\n",
            "(Reading database ... 26738 files and directories currently installed.)\n",
            "Preparing to unpack .../freeglut3_2.8.1-3_amd64.deb ...\n",
            "Unpacking freeglut3:amd64 (2.8.1-3) ...\n",
            "Selecting previously unselected package libglu1-mesa:amd64.\n",
            "Preparing to unpack .../libglu1-mesa_9.0.0-2.1build1_amd64.deb ...\n",
            "Unpacking libglu1-mesa:amd64 (9.0.0-2.1build1) ...\n",
            "Selecting previously unselected package python-opengl.\n",
            "Preparing to unpack .../python-opengl_3.1.0+dfsg-1_all.deb ...\n",
            "Unpacking python-opengl (3.1.0+dfsg-1) ...\n",
            "Setting up freeglut3:amd64 (2.8.1-3) ...\n",
            "Processing triggers for libc-bin (2.27-3ubuntu1) ...\n",
            "Setting up libglu1-mesa:amd64 (9.0.0-2.1build1) ...\n",
            "Setting up python-opengl (3.1.0+dfsg-1) ...\n",
            "Processing triggers for libc-bin (2.27-3ubuntu1) ...\n",
            "Collecting pyvirtualdisplay\n",
            "  Downloading https://files.pythonhosted.org/packages/39/37/f285403a09cc261c56b6574baace1bdcf4b8c7428c8a7239cbba137bc0eb/PyVirtualDisplay-0.2.1.tar.gz\n",
            "Collecting EasyProcess (from pyvirtualdisplay)\n",
            "  Downloading https://files.pythonhosted.org/packages/0d/f1/d2de7591e7dfc164d286fa16f051e6c0cf3141825586c3b04ae7cda7ac0f/EasyProcess-0.2.3.tar.gz\n",
            "Building wheels for collected packages: pyvirtualdisplay, EasyProcess\n",
            "  Running setup.py bdist_wheel for pyvirtualdisplay ... \u001b[?25l-\b \b\\\b \b|\b \b/\b \bdone\n",
            "\u001b[?25h  Stored in directory: /root/.cache/pip/wheels/d1/8c/16/1c64227974ae29c687e4cc30fd691d5c0fd40f54446dde99da\n",
            "  Running setup.py bdist_wheel for EasyProcess ... \u001b[?25l-\b \b\\\b \b|\b \b/\b \bdone\n",
            "\u001b[?25h  Stored in directory: /root/.cache/pip/wheels/b4/c6/e3/c163b04029d8fccfd54b809802640c1af587a01be8d7a04e1a\n",
            "Successfully built pyvirtualdisplay EasyProcess\n",
            "Installing collected packages: EasyProcess, pyvirtualdisplay\n",
            "Successfully installed EasyProcess-0.2.3 pyvirtualdisplay-0.2.1\n",
            "Collecting piglet\n",
            "\u001b[?25l  Downloading https://files.pythonhosted.org/packages/86/f6/ef278239ebe525466ea51a7dd9d6d3211d197ac4b4abc76e17cdd419f69c/piglet-0.4.4.tar.gz (52kB)\n",
            "\u001b[K    100% |████████████████████████████████| 61kB 5.3MB/s \n",
            "\u001b[?25hCollecting Parsley (from piglet)\n",
            "\u001b[?25l  Downloading https://files.pythonhosted.org/packages/2b/d6/4fed8d65e28a970e1c5cb33ce9c7e22e3de745e1b2ae37af051ef16aea3b/Parsley-1.3-py2.py3-none-any.whl (88kB)\n",
            "\u001b[K    100% |████████████████████████████████| 92kB 12.6MB/s \n",
            "\u001b[?25hRequirement already satisfied: attrs in /usr/local/lib/python3.6/dist-packages (from piglet) (18.2.0)\n",
            "Collecting astunparse (from piglet)\n",
            "  Downloading https://files.pythonhosted.org/packages/0d/9d/1576217f67e7420f5945c15c6afd7045178c4850b148741bdbdbdabbf40e/astunparse-1.6.1-py2.py3-none-any.whl\n",
            "Requirement already satisfied: markupsafe in /usr/local/lib/python3.6/dist-packages (from piglet) (1.1.0)\n",
            "Requirement already satisfied: wheel<1.0,>=0.23.0 in /usr/local/lib/python3.6/dist-packages (from astunparse->piglet) (0.32.3)\n",
            "Requirement already satisfied: six<2.0,>=1.6.1 in /usr/local/lib/python3.6/dist-packages (from astunparse->piglet) (1.11.0)\n",
            "Building wheels for collected packages: piglet\n",
            "  Running setup.py bdist_wheel for piglet ... \u001b[?25l-\b \b\\\b \bdone\n",
            "\u001b[?25h  Stored in directory: /root/.cache/pip/wheels/c7/59/a5/5bd1a35a4a4596714c4c7925a1751e7b1580b6ced363fd7969\n",
            "Successfully built piglet\n",
            "Installing collected packages: Parsley, astunparse, piglet\n",
            "Successfully installed Parsley-1.3 astunparse-1.6.1 piglet-0.4.4\n",
            "Collecting gym\n",
            "\u001b[?25l  Downloading https://files.pythonhosted.org/packages/d4/22/4ff09745ade385ffe707fb5f053548f0f6a6e7d5e98a2b9d6c07f5b931a7/gym-0.10.9.tar.gz (1.5MB)\n",
            "\u001b[K    100% |████████████████████████████████| 1.5MB 16.6MB/s \n",
            "\u001b[?25hRequirement already satisfied: scipy in /usr/local/lib/python3.6/dist-packages (from gym) (1.1.0)\n",
            "Requirement already satisfied: numpy>=1.10.4 in /usr/local/lib/python3.6/dist-packages (from gym) (1.14.6)\n",
            "Requirement already satisfied: requests>=2.0 in /usr/local/lib/python3.6/dist-packages (from gym) (2.18.4)\n",
            "Requirement already satisfied: six in /usr/local/lib/python3.6/dist-packages (from gym) (1.11.0)\n",
            "Collecting pyglet>=1.2.0 (from gym)\n",
            "\u001b[?25l  Downloading https://files.pythonhosted.org/packages/1c/fc/dad5eaaab68f0c21e2f906a94ddb98175662cc5a654eee404d59554ce0fa/pyglet-1.3.2-py2.py3-none-any.whl (1.0MB)\n",
            "\u001b[K    100% |████████████████████████████████| 1.0MB 19.4MB/s \n",
            "\u001b[?25hRequirement already satisfied: idna<2.7,>=2.5 in /usr/local/lib/python3.6/dist-packages (from requests>=2.0->gym) (2.6)\n",
            "Requirement already satisfied: chardet<3.1.0,>=3.0.2 in /usr/local/lib/python3.6/dist-packages (from requests>=2.0->gym) (3.0.4)\n",
            "Requirement already satisfied: urllib3<1.23,>=1.21.1 in /usr/local/lib/python3.6/dist-packages (from requests>=2.0->gym) (1.22)\n",
            "Requirement already satisfied: certifi>=2017.4.17 in /usr/local/lib/python3.6/dist-packages (from requests>=2.0->gym) (2018.10.15)\n",
            "Requirement already satisfied: future in /usr/local/lib/python3.6/dist-packages (from pyglet>=1.2.0->gym) (0.16.0)\n",
            "Building wheels for collected packages: gym\n",
            "  Running setup.py bdist_wheel for gym ... \u001b[?25l-\b \b\\\b \b|\b \b/\b \bdone\n",
            "\u001b[?25h  Stored in directory: /root/.cache/pip/wheels/6c/3a/0e/b86dee98876bb56cdb482cc1f72201035e46d1baf69d10d028\n",
            "Successfully built gym\n",
            "Installing collected packages: pyglet, gym\n",
            "Successfully installed gym-0.10.9 pyglet-1.3.2\n",
            "Collecting pyopengl\n",
            "\u001b[?25l  Downloading https://files.pythonhosted.org/packages/9c/1d/4544708aaa89f26c97cc09450bb333a23724a320923e74d73e028b3560f9/PyOpenGL-3.1.0.tar.gz (1.2MB)\n",
            "\u001b[K    100% |████████████████████████████████| 1.2MB 16.5MB/s \n",
            "\u001b[?25hBuilding wheels for collected packages: pyopengl\n",
            "  Running setup.py bdist_wheel for pyopengl ... \u001b[?25l-\b \b\\\b \b|\b \b/\b \b-\b \b\\\b \b|\b \b/\b \b-\b \b\\\b \b|\b \b/\b \b-\b \b\\\b \b|\b \b/\b \b-\b \b\\\b \b|\b \b/\b \bdone\n",
            "\u001b[?25h  Stored in directory: /root/.cache/pip/wheels/6c/00/7f/1dd736f380848720ad79a1a1de5272e0d3f79c15a42968fb58\n",
            "Successfully built pyopengl\n",
            "Installing collected packages: pyopengl\n",
            "Successfully installed pyopengl-3.1.0\n",
            "tcmalloc: large alloc 1073750016 bytes == 0x5871c000 @  0x7f6f39ee42a4 0x591a07 0x5b5d56 0x502e9a 0x506859 0x502209 0x502f3d 0x506859 0x504c28 0x502540 0x502f3d 0x506859 0x504c28 0x502540 0x502f3d 0x506859 0x504c28 0x502540 0x502f3d 0x507641 0x502209 0x502f3d 0x506859 0x504c28 0x502540 0x502f3d 0x507641 0x504c28 0x502540 0x502f3d 0x507641\n"
          ],
          "name": "stdout"
        }
      ]
    },
    {
      "metadata": {
        "deletable": false,
        "editable": false,
        "nbgrader": {
          "checksum": "931b3dfcc3a02b92b499929fb27299cb",
          "grade": false,
          "grade_id": "cell-fc69f22067705372",
          "locked": true,
          "schema_version": 1,
          "solution": false
        },
        "id": "0NkUrphDBhpb",
        "colab_type": "code",
        "colab": {}
      },
      "cell_type": "code",
      "source": [
        "%matplotlib inline\n",
        "import os\n",
        "import numpy as np\n",
        "import matplotlib.pyplot as plt\n",
        "import sys\n",
        "import torch\n",
        "from torch import nn\n",
        "import torch.nn.functional as F\n",
        "from torch import optim\n",
        "from tqdm import tqdm as _tqdm\n",
        "\n",
        "def tqdm(*args, **kwargs):\n",
        "    return _tqdm(*args, **kwargs, mininterval=1)  # Safety, do not overflow buffer\n",
        "\n",
        "EPS = float(np.finfo(np.float32).eps)\n",
        "\n",
        "assert sys.version_info[:3] >= (3, 6, 0), \"Make sure you have Python 3.6 installed!\""
      ],
      "execution_count": 0,
      "outputs": []
    },
    {
      "metadata": {
        "deletable": false,
        "editable": false,
        "nbgrader": {
          "checksum": "e27fe8f72a248bbcf1f7a21e5550e657",
          "grade": true,
          "grade_id": "cell-39519f4ab05eb2a1",
          "locked": true,
          "points": 0,
          "schema_version": 1,
          "solution": false
        },
        "id": "Hk5P8dwLBhpi",
        "colab_type": "code",
        "outputId": "5db2cd63-a437-41ed-a400-c2f7507cfb3c",
        "colab": {
          "base_uri": "https://localhost:8080/",
          "height": 53
        }
      },
      "cell_type": "code",
      "source": [
        "import gym\n",
        "env = gym.envs.make(\"CartPole-v0\")"
      ],
      "execution_count": 4,
      "outputs": [
        {
          "output_type": "stream",
          "text": [
            "/usr/local/lib/python3.6/dist-packages/gym/envs/registration.py:14: PkgResourcesDeprecationWarning: Parameters to load are deprecated.  Call .resolve and .require separately.\n",
            "  result = entry_point.load(False)\n"
          ],
          "name": "stderr"
        }
      ]
    },
    {
      "metadata": {
        "deletable": false,
        "editable": false,
        "nbgrader": {
          "checksum": "e83ecfc2751cf2e6ff05d0c01d311673",
          "grade": false,
          "grade_id": "cell-fef7e20e54e6243b",
          "locked": true,
          "schema_version": 1,
          "solution": false
        },
        "id": "jZNfjntlBhpg",
        "colab_type": "text"
      },
      "cell_type": "markdown",
      "source": [
        "---\n",
        "## 1. Deep Q-Network (DQN) (10 (+ 2 bonus) points)"
      ]
    },
    {
      "metadata": {
        "id": "MHweK4dnBhpn",
        "colab_type": "code",
        "colab": {}
      },
      "cell_type": "code",
      "source": [
        "# env is a TimeLimit wrapper around an env, so use env.env to look into the env (but otherwise you can forget about this)\n",
        "??env.env"
      ],
      "execution_count": 0,
      "outputs": []
    },
    {
      "metadata": {
        "id": "lDRpECt7Bhpr",
        "colab_type": "code",
        "colab": {}
      },
      "cell_type": "code",
      "source": [
        "import time\n",
        "# The nice thing about the CARTPOLE is that it has very nice rendering functionality (if you are on a local environment). Let's have a look at an episode\n",
        "\n",
        "obs = env.reset()\n",
        "\n",
        "# env.render()\n",
        "\n",
        "done = False\n",
        "while not done:\n",
        "    obs, reward, done, _ = env.step(env.action_space.sample())\n",
        "#     env.render()\n",
        "    \n",
        "    time.sleep(0.05)\n",
        "env.close()  # Close the environment or you will have a lot of render screens soon"
      ],
      "execution_count": 0,
      "outputs": []
    },
    {
      "metadata": {
        "deletable": false,
        "editable": false,
        "nbgrader": {
          "checksum": "11a9c014ee5fbe790ce999428cc22658",
          "grade": false,
          "grade_id": "cell-2d83f70e62b99520",
          "locked": true,
          "schema_version": 1,
          "solution": false
        },
        "id": "JhV_Cw42Bhpv",
        "colab_type": "text"
      },
      "cell_type": "markdown",
      "source": [
        "Remember from the previous lab, that in order to optimize a policy we need to estimate the Q-values (e.g. estimate the *action* values). In the CartPole problem, our state is current position of the cart, the current velocity of the cart, the current (angular) position of the pole and the (angular) speed of the pole. As these are continuous variables, we have an infinite number of states (ignoring the fact that a digital computer can only represent finitely many states in finite memory)."
      ]
    },
    {
      "metadata": {
        "deletable": false,
        "editable": false,
        "nbgrader": {
          "checksum": "9692b7acb09d018d9f80ce95685b81d5",
          "grade": false,
          "grade_id": "cell-bf2ac21267daffbb",
          "locked": true,
          "schema_version": 1,
          "solution": false
        },
        "id": "QYLRY8s_Bhpw",
        "colab_type": "text"
      },
      "cell_type": "markdown",
      "source": [
        "Can you think of a way in which we can still use a tabular approach? Why would this work and can you think of an example problem where this would not work?"
      ]
    },
    {
      "metadata": {
        "deletable": false,
        "nbgrader": {
          "checksum": "3ffce6fca4071a1b543186db1b74cc98",
          "grade": true,
          "grade_id": "cell-b0fa2cb0c2cd2a63",
          "locked": false,
          "points": 1,
          "schema_version": 1,
          "solution": true
        },
        "id": "bdkGJ-wHBhpy",
        "colab_type": "text"
      },
      "cell_type": "markdown",
      "source": [
        "YOUR ANSWER HERE"
      ]
    },
    {
      "metadata": {
        "deletable": false,
        "editable": false,
        "nbgrader": {
          "checksum": "cd66b44d93f348df1e0ef8353377c879",
          "grade": false,
          "grade_id": "cell-0b3162496f5e6cf5",
          "locked": true,
          "schema_version": 1,
          "solution": false
        },
        "id": "UbhnIhGRBhpz",
        "colab_type": "text"
      },
      "cell_type": "markdown",
      "source": [
        "### 1.1 Implement Q-Network"
      ]
    },
    {
      "metadata": {
        "deletable": false,
        "editable": false,
        "nbgrader": {
          "checksum": "84b9c38718c952ef8e62486fc9bf5e4a",
          "grade": false,
          "grade_id": "cell-96a86bcfa1ebc84a",
          "locked": true,
          "schema_version": 1,
          "solution": false
        },
        "id": "ziDUlKPZBhp1",
        "colab_type": "text"
      },
      "cell_type": "markdown",
      "source": [
        "We will not use the tabular approach but approximate the Q-value function by a general approximator function. We will skip the linear case and directly use a two layer Neural Network. We use [PyTorch](https://pytorch.org/) to implement the network, as this will allow us to train it easily later. We can implement a model using `torch.nn.Sequential`, but with PyTorch it is actually very easy to implement the model (e.g. the forward pass) from scratch. Now implement the `QNetwork.forward` function that uses one hidden layer with ReLU activation (no output activation)."
      ]
    },
    {
      "metadata": {
        "deletable": false,
        "nbgrader": {
          "checksum": "4ef7d14363dc2aa4beb638856c57a58c",
          "grade": false,
          "grade_id": "cell-216429a5dccf8a0e",
          "locked": false,
          "schema_version": 1,
          "solution": true
        },
        "id": "VGg-Vn7FBhp2",
        "colab_type": "code",
        "colab": {}
      },
      "cell_type": "code",
      "source": [
        "class QNetwork(nn.Module):\n",
        "    \n",
        "    def __init__(self, num_hidden=128):\n",
        "        nn.Module.__init__(self)\n",
        "        self.l1 = nn.Linear(4, num_hidden)\n",
        "        self.l2 = nn.Linear(num_hidden, 2)\n",
        "\n",
        "    def forward(self, x):\n",
        "        x = self.l1(x)\n",
        "        x = torch.relu(x)\n",
        "        out = self.l2(x)\n",
        "        \n",
        "        return out"
      ],
      "execution_count": 0,
      "outputs": []
    },
    {
      "metadata": {
        "deletable": false,
        "editable": false,
        "nbgrader": {
          "checksum": "2b9a48f9aee9ebc46da01c6f11cd789a",
          "grade": true,
          "grade_id": "cell-00ce108d640a5942",
          "locked": true,
          "points": 1,
          "schema_version": 1,
          "solution": false
        },
        "id": "IWI0OBriBhp7",
        "colab_type": "code",
        "colab": {}
      },
      "cell_type": "code",
      "source": [
        "# Let's instantiate and test if it works\n",
        "num_hidden = 128\n",
        "torch.manual_seed(1234)\n",
        "model = QNetwork(num_hidden)\n",
        "\n",
        "torch.manual_seed(1234)\n",
        "test_model = nn.Sequential(\n",
        "    nn.Linear(4, num_hidden), \n",
        "    nn.ReLU(), \n",
        "    nn.Linear(num_hidden, 2)\n",
        ")\n",
        "\n",
        "x = torch.rand(10, 4)\n",
        "\n",
        "# If you do not need backpropagation, wrap the computation in the torch.no_grad() context\n",
        "# This saves time and memory, and PyTorch complaints when converting to numpy\n",
        "with torch.no_grad():\n",
        "    assert np.allclose(model(x).numpy(), test_model(x).numpy())"
      ],
      "execution_count": 0,
      "outputs": []
    },
    {
      "metadata": {
        "deletable": false,
        "editable": false,
        "nbgrader": {
          "checksum": "7fc82889691dbd60ff9469b770744fcc",
          "grade": false,
          "grade_id": "cell-ca77eae2e62180cf",
          "locked": true,
          "schema_version": 1,
          "solution": false
        },
        "id": "LCWg5Lw0Bhp_",
        "colab_type": "text"
      },
      "cell_type": "markdown",
      "source": [
        "### 1.2 Experience Replay"
      ]
    },
    {
      "metadata": {
        "deletable": false,
        "editable": false,
        "nbgrader": {
          "checksum": "5b3265bef151a12fe6969c378af76be2",
          "grade": false,
          "grade_id": "cell-b5b012e42dd2029e",
          "locked": true,
          "schema_version": 1,
          "solution": false
        },
        "id": "EugwDtcrBhqA",
        "colab_type": "text"
      },
      "cell_type": "markdown",
      "source": [
        "What could be a problem with doing gradient updates on a sequence of state, action pairs $((s_t, a_t), (s_{t+1}, a_{t+1}) ...)$ observed while interacting with the environment? How will using *experience replay* help to overcome this (potential problem)?"
      ]
    },
    {
      "metadata": {
        "deletable": false,
        "nbgrader": {
          "checksum": "75e1a8b00b2bfa9b7dd8805b371c6a4e",
          "grade": true,
          "grade_id": "cell-70a2e59541668a25",
          "locked": false,
          "points": 1,
          "schema_version": 1,
          "solution": true
        },
        "id": "rs7_Hr6IBhqB",
        "colab_type": "text"
      },
      "cell_type": "markdown",
      "source": [
        "YOUR ANSWER HERE"
      ]
    },
    {
      "metadata": {
        "deletable": false,
        "editable": false,
        "nbgrader": {
          "checksum": "9b3bbd8aaf3aade515736d0d07917a61",
          "grade": false,
          "grade_id": "cell-2c1d117a1a75fd69",
          "locked": true,
          "schema_version": 1,
          "solution": false
        },
        "id": "D_GHjptMBhqD",
        "colab_type": "text"
      },
      "cell_type": "markdown",
      "source": [
        "Now implement the `push` function that adds a transition to the replay buffer, and the sample function that returns a batch of samples. It should keep at most the maximum number of transitions. Also implement the `sample` function that samples a (random!) batch of data, for use during training (hint: you can use the function `random.sample`)."
      ]
    },
    {
      "metadata": {
        "deletable": false,
        "nbgrader": {
          "checksum": "93a9f55f3950fe63b44aa84c5fd7f793",
          "grade": false,
          "grade_id": "cell-a3cc876e51eb157f",
          "locked": false,
          "schema_version": 1,
          "solution": true
        },
        "id": "lg-TH5TFBhqE",
        "colab_type": "code",
        "colab": {}
      },
      "cell_type": "code",
      "source": [
        "import random\n",
        "class ReplayMemory:\n",
        "    \n",
        "    def __init__(self, capacity):\n",
        "        self.capacity = capacity\n",
        "        self.memory = []\n",
        "\n",
        "    def push(self, transition):\n",
        "        self.memory.append(transition)\n",
        "        if len(self.memory) == self.capacity:\n",
        "            self.memory = self.memory[1:]\n",
        "            \n",
        "    def sample(self, batch_size):\n",
        "        sample = random.sample(self.memory, batch_size)\n",
        "        return sample\n",
        "    \n",
        "    def __len__(self):\n",
        "        return len(self.memory)"
      ],
      "execution_count": 0,
      "outputs": []
    },
    {
      "metadata": {
        "deletable": false,
        "editable": false,
        "nbgrader": {
          "checksum": "6865749b3a8810bdaaf1604a9cea42e7",
          "grade": true,
          "grade_id": "cell-3b90135921c4da76",
          "locked": true,
          "points": 1,
          "schema_version": 1,
          "solution": false
        },
        "id": "8EqgkyWGBhqH",
        "colab_type": "code",
        "outputId": "8ea8f10b-6d4d-4b5b-f9cb-c685b9314132",
        "colab": {
          "base_uri": "https://localhost:8080/",
          "height": 35
        }
      },
      "cell_type": "code",
      "source": [
        "capacity = 10\n",
        "memory = ReplayMemory(capacity)\n",
        "\n",
        "# Sample a transition\n",
        "s = env.reset()\n",
        "a = env.action_space.sample()\n",
        "s_next, r, done, _ = env.step(a)\n",
        "\n",
        "# Push a transition\n",
        "memory.push((s, a, r, s_next, done))\n",
        "\n",
        "# Sample a batch size of 1\n",
        "print(memory.sample(1))\n"
      ],
      "execution_count": 10,
      "outputs": [
        {
          "output_type": "stream",
          "text": [
            "[(array([-0.03877164, -0.02731437, -0.00275991, -0.00683699]), 0, 1.0, array([-0.03931793, -0.22239663, -0.00289665,  0.28497388]), False)]\n"
          ],
          "name": "stdout"
        }
      ]
    },
    {
      "metadata": {
        "deletable": false,
        "editable": false,
        "nbgrader": {
          "checksum": "3c742d499c0f9b7f10d1c0c3a085236a",
          "grade": false,
          "grade_id": "cell-88f67e3c051da6a9",
          "locked": true,
          "schema_version": 1,
          "solution": false
        },
        "id": "QR2Bc5z6BhqR",
        "colab_type": "text"
      },
      "cell_type": "markdown",
      "source": [
        "### 1.3 $\\epsilon$psilon greedy policy"
      ]
    },
    {
      "metadata": {
        "deletable": false,
        "editable": false,
        "nbgrader": {
          "checksum": "61d26d0dec0133f2aa737ed4711d6e08",
          "grade": false,
          "grade_id": "cell-aa3c7d1b3000f697",
          "locked": true,
          "schema_version": 1,
          "solution": false
        },
        "id": "kZchJus-BhqS",
        "colab_type": "text"
      },
      "cell_type": "markdown",
      "source": [
        "In order to learn a good policy, we need to explore quite a bit initially. As we start to learn a good policy, we want to decrease the exploration. As the amount of exploration using an $\\epsilon$-greedy policy is controlled by $\\epsilon$, we can define an 'exploration scheme' by writing $\\epsilon$ as a function of time. There are many possible schemes, but we will use a simple one: we will start with only exploring (so taking random actions) at iteration 0, and then in 1000 iterations linearly anneal $\\epsilon$ such that after 1000 iterations we take random (exploration) actions with 5\\% probability (forever, as you never know if the environment will change)."
      ]
    },
    {
      "metadata": {
        "deletable": false,
        "nbgrader": {
          "checksum": "270ab31d4bb29dc9a05223c16a4967a7",
          "grade": false,
          "grade_id": "cell-5789e7a792108576",
          "locked": false,
          "schema_version": 1,
          "solution": true
        },
        "id": "954Eh0wUBhqT",
        "colab_type": "code",
        "colab": {}
      },
      "cell_type": "code",
      "source": [
        "def get_epsilon(it):\n",
        "#     return 1 if it < 1000 else 0.05\n",
        "    return 1 - it*(( 0.95)/1000) if it < 1000 else 0.05"
      ],
      "execution_count": 0,
      "outputs": []
    },
    {
      "metadata": {
        "deletable": false,
        "editable": false,
        "nbgrader": {
          "checksum": "b1a81dd07e1b7a98d2cd06ebc171ebdd",
          "grade": true,
          "grade_id": "cell-40e66db45e742b2e",
          "locked": true,
          "points": 1,
          "schema_version": 1,
          "solution": false
        },
        "id": "wW5ExCX3BhqY",
        "colab_type": "code",
        "outputId": "09fcd9cb-9fbd-420f-e4f6-a9ef28c77f3e",
        "colab": {
          "base_uri": "https://localhost:8080/",
          "height": 283
        }
      },
      "cell_type": "code",
      "source": [
        "# So what's an easy way to check?\n",
        "plt.plot([get_epsilon(it) for it in range(5000)])\n"
      ],
      "execution_count": 21,
      "outputs": [
        {
          "output_type": "execute_result",
          "data": {
            "text/plain": [
              "[<matplotlib.lines.Line2D at 0x7fbe223b7828>]"
            ]
          },
          "metadata": {
            "tags": []
          },
          "execution_count": 21
        },
        {
          "output_type": "display_data",
          "data": {
            "image/png": "[encoded data removed]",
            "text/plain": [
              "<matplotlib.figure.Figure at 0x7fbe22427be0>"
            ]
          },
          "metadata": {
            "tags": []
          }
        }
      ]
    },
    {
      "metadata": {
        "deletable": false,
        "editable": false,
        "nbgrader": {
          "checksum": "84685c23e4eb899d7fed3a87b7f8915e",
          "grade": false,
          "grade_id": "cell-a8b604c9998c6c3b",
          "locked": true,
          "schema_version": 1,
          "solution": false
        },
        "id": "aXaunyR7Bhqf",
        "colab_type": "text"
      },
      "cell_type": "markdown",
      "source": [
        "Now write a function that takes a state and uses the Q-network to select an ($\\epsilon$-greedy) action. It should return a random action with probability epsilon (which we will pass later). Note, you do not need to backpropagate through the model computations, so use `with torch.no_grad():` (see above for example). Unlike numpy, PyTorch has no argmax function, but Google is your friend... Note that to convert a PyTorch tensor with only 1 element (0 dimensional) to a simple python scalar (int or float), you can use the '.item()' function."
      ]
    },
    {
      "metadata": {
        "deletable": false,
        "nbgrader": {
          "checksum": "882f51819100c850120e73340aec387d",
          "grade": false,
          "grade_id": "cell-878ad3a637cfb51c",
          "locked": false,
          "schema_version": 1,
          "solution": true
        },
        "id": "VHN-vK_fBhqg",
        "colab_type": "code",
        "colab": {}
      },
      "cell_type": "code",
      "source": [
        "def select_action(model, state, epsilon):\n",
        "    with torch.no_grad():\n",
        "        actions = model(torch.FloatTensor(state))\n",
        "#         print(state)\n",
        "#         print(actions)\n",
        "#         print(actions)\n",
        "        argmax = torch.max(actions, 0)[1]\n",
        "        action = np.random.choice(2,1, \n",
        "                                  p = [epsilon / 2 + ((1-epsilon) if i == argmax else 0) for i in range(2)])\n",
        "        \n",
        "#         p = [epsilon / 2 + ((1-epsilon) if i == argmax else 0) for i in range(2)]\n",
        "#         print(p)\n",
        "#         print(p)\n",
        "#         print(state)\n",
        "    return action[0]"
      ],
      "execution_count": 0,
      "outputs": []
    },
    {
      "metadata": {
        "deletable": false,
        "editable": false,
        "nbgrader": {
          "checksum": "21f939075cb0c8dde152dabf47568a9d",
          "grade": true,
          "grade_id": "cell-e895338d56bee477",
          "locked": true,
          "points": 1,
          "schema_version": 1,
          "solution": false
        },
        "id": "HhhLoy5LBhqk",
        "colab_type": "code",
        "outputId": "f1e90f78-725b-4e95-d005-4bbae64bd593",
        "colab": {
          "base_uri": "https://localhost:8080/",
          "height": 35
        }
      },
      "cell_type": "code",
      "source": [
        "s = env.reset()\n",
        "a = select_action(model, s, 0.05)\n",
        "assert not torch.is_tensor(a)\n",
        "print (a)\n"
      ],
      "execution_count": 23,
      "outputs": [
        {
          "output_type": "stream",
          "text": [
            "0\n"
          ],
          "name": "stdout"
        }
      ]
    },
    {
      "metadata": {
        "deletable": false,
        "editable": false,
        "nbgrader": {
          "checksum": "5d00ab2e5e0b39257771d0e778fda2d6",
          "grade": false,
          "grade_id": "cell-ec5e94e0b03f8aec",
          "locked": true,
          "schema_version": 1,
          "solution": false
        },
        "id": "OimCXVQ-Bhqw",
        "colab_type": "text"
      },
      "cell_type": "markdown",
      "source": [
        "### 1.4 Training function"
      ]
    },
    {
      "metadata": {
        "deletable": false,
        "editable": false,
        "nbgrader": {
          "checksum": "4839aac72a80552046ebecc40c1615cf",
          "grade": false,
          "grade_id": "cell-d1a12cc97386fe56",
          "locked": true,
          "schema_version": 1,
          "solution": false
        },
        "id": "jWKRLwvWBhqy",
        "colab_type": "text"
      },
      "cell_type": "markdown",
      "source": [
        "Now we will implement the function 'train' that samples a batch from the memory and performs a gradient step using some convenient PyTorch functionality. However, you still need to compute the Q-values for the (state, action) pairs in the experience, as well as their target (e.g. the value they should move towards). What is the target for a Q-learning update? What should be the target if `next_state` is terminal (e.g. `done`)?\n",
        "\n",
        "For computing the Q-values for the actions, note that the model returns all action values where you are only interested in a single action value. Because of the batch dimension, you can't use simple indexing, but you may want to have a look at [torch.gather](https://pytorch.org/docs/stable/torch.html?highlight=gather#torch.gather) or use [advanced indexing](https://docs.scipy.org/doc/numpy-1.13.0/reference/arrays.indexing.html) (numpy tutorial but works mostly the same in PyTorch). Note, you should NOT modify the function train. You can view the size of a tensor `x` with `x.size()` (similar to `x.shape` in numpy)."
      ]
    },
    {
      "metadata": {
        "deletable": false,
        "nbgrader": {
          "checksum": "c466ee49add35cb1ec6a3e4a85f733c9",
          "grade": false,
          "grade_id": "cell-6c45485324b40081",
          "locked": false,
          "schema_version": 1,
          "solution": true
        },
        "id": "Dm3vEDA4Bhqz",
        "colab_type": "code",
        "colab": {}
      },
      "cell_type": "code",
      "source": [
        "def compute_q_val(model, state, action):\n",
        "    actions = model(torch.FloatTensor(state))\n",
        "#     print(actions)\n",
        "    return actions[range(len(state)), action]\n",
        "    \n",
        "    \n",
        "def compute_target(model, reward, next_state, done, discount_factor):\n",
        "    # done is a boolean (vector) that indicates if next_state is terminal (episode is done)\n",
        "    # YOUR CODE HERE\n",
        "    # TODO (but not so much): do this ugly sht in batch, but have to change select_aciton to be batches.\n",
        "    #                         see attempt on commented code\n",
        "#     best_action = [select_action(model, s, 0) for s in next_state]\n",
        "#     TODO: is it the correct way of handling done?\n",
        "    # i just say 0 if its terminal 1 oth\n",
        "#     target = reward + discount_factor * compute_q_val(model, next_state, best_action) * (1- done.float())\n",
        "    Qvals = model(next_state)\n",
        "    # TODO: is it the correct way of handling done?\n",
        "    # i just say 0 if its terminal 1 oth\n",
        "#     target = reward + discount_factor * compute_q_val(model, next_state, best_action) * (1- done.float())\n",
        "#     a = compute_q_val(model, next_state, best_action)\n",
        "#     b = Qvals.max(1)[0]\n",
        "#     print(a)\n",
        "#     print('b', b)\n",
        "#     print(next_state)\n",
        "#     raise 'ddd'\n",
        "    target = reward + discount_factor * Qvals.max(1)[0] * (1- done.float())\n",
        "    \n",
        "    return target\n",
        "  \n",
        "def train(model, memory, optimizer, batch_size, discount_factor):\n",
        "    # DO NOT MODIFY THIS FUNCTION\n",
        "    \n",
        "    # don't learn without some decent experience\n",
        "    if len(memory) < batch_size:\n",
        "        return None\n",
        "\n",
        "    # random transition batch is taken from experience replay memory\n",
        "    transitions = memory.sample(batch_size)\n",
        "    \n",
        "    # transition is a list of 4-tuples, instead we want 4 vectors (as torch.Tensor's)\n",
        "    state, action, reward, next_state, done = zip(*transitions)\n",
        "    \n",
        "    # convert to PyTorch and define types\n",
        "    state = torch.tensor(state, dtype=torch.float)\n",
        "    action = torch.tensor(action, dtype=torch.int64)  # Need 64 bit to use them as index\n",
        "    next_state = torch.tensor(next_state, dtype=torch.float)\n",
        "    reward = torch.tensor(reward, dtype=torch.float)\n",
        "    done = torch.tensor(done, dtype=torch.uint8)  # Boolean\n",
        "    \n",
        "    # compute the q value\n",
        "    q_val = compute_q_val(model, state, action)\n",
        "    \n",
        "    with torch.no_grad():  # Don't compute gradient info for the target (semi-gradient)\n",
        "        target = compute_target(model, reward, next_state, done, discount_factor)\n",
        "    \n",
        "    # loss is measured from error between current and newly expected Q values\n",
        "    loss = F.smooth_l1_loss(q_val, target)\n",
        "\n",
        "    # backpropagation of loss to Neural Network (PyTorch magic)\n",
        "    optimizer.zero_grad()\n",
        "    loss.backward()\n",
        "    optimizer.step()\n",
        "    \n",
        "    return loss.item()  # Returns a Python scalar, and releases history (similar to .detach())"
      ],
      "execution_count": 0,
      "outputs": []
    },
    {
      "metadata": {
        "deletable": false,
        "editable": false,
        "nbgrader": {
          "checksum": "877c400001292b619e6871c1366524b9",
          "grade": true,
          "grade_id": "cell-b060b822eec4282f",
          "locked": true,
          "points": 2,
          "schema_version": 1,
          "solution": false
        },
        "id": "4JdUbeMfBhq4",
        "colab_type": "code",
        "outputId": "118d9eb4-4878-4681-ef6e-52bedfe1a055",
        "colab": {
          "base_uri": "https://localhost:8080/",
          "height": 35
        }
      },
      "cell_type": "code",
      "source": [
        "# You may want to test your functions individually, but after you do so lets see if the method train works.\n",
        "batch_size = 64\n",
        "discount_factor = 0.8\n",
        "learn_rate = 1e-3\n",
        "# Simple gradient descent may take long, so we will use Adam\n",
        "optimizer = optim.Adam(model.parameters(), learn_rate)\n",
        "\n",
        "# We need a larger memory, fill with dummy data\n",
        "transition = memory.sample(1)[0]\n",
        "memory = ReplayMemory(10 * batch_size)\n",
        "for i in range(batch_size):\n",
        "    memory.push(transition)\n",
        "\n",
        "# Now let's see if it works\n",
        "loss = train(model, memory, optimizer, batch_size, discount_factor)\n",
        "\n",
        "print (loss)\n"
      ],
      "execution_count": 25,
      "outputs": [
        {
          "output_type": "stream",
          "text": [
            "0.003912922460585833\n"
          ],
          "name": "stdout"
        }
      ]
    },
    {
      "metadata": {
        "deletable": false,
        "editable": false,
        "nbgrader": {
          "checksum": "2057dee580a43fb0442fe52557c0ac64",
          "grade": false,
          "grade_id": "cell-3eafd0ab49103f3b",
          "locked": true,
          "schema_version": 1,
          "solution": false
        },
        "id": "Pl5Su__lBhq8",
        "colab_type": "text"
      },
      "cell_type": "markdown",
      "source": [
        "### 1.5 Put it all together"
      ]
    },
    {
      "metadata": {
        "deletable": false,
        "editable": false,
        "nbgrader": {
          "checksum": "06dd71aae5c3c699f2b707b348a88107",
          "grade": false,
          "grade_id": "cell-36b8a04b393d8104",
          "locked": true,
          "schema_version": 1,
          "solution": false
        },
        "id": "m4I3spTCBhq9",
        "colab_type": "text"
      },
      "cell_type": "markdown",
      "source": [
        "Now that you have implemented the training step, you should be able to put everything together. Implement the function `run_episodes` that runs a number of episodes of DQN training. It should return the durations (e.g. number of steps) of each episode. Note: we pass the train function as an argument such that we can swap it for a different training step later."
      ]
    },
    {
      "metadata": {
        "deletable": false,
        "nbgrader": {
          "checksum": "c3f61b2ca270d84ab9b28d989dd65d4c",
          "grade": false,
          "grade_id": "cell-540a7d50ecc1d046",
          "locked": false,
          "schema_version": 1,
          "solution": true
        },
        "id": "xf-BeXFNBhq-",
        "colab_type": "code",
        "colab": {}
      },
      "cell_type": "code",
      "source": [
        "def run_episodes(train, model, memory, env, num_episodes, batch_size, discount_factor, learn_rate):\n",
        "    \n",
        "    optimizer = optim.Adam(model.parameters(), learn_rate)\n",
        "    \n",
        "    global_steps = 0  # Count the steps (do not reset at episode start, to compute epsilon)\n",
        "    episode_durations = []  #\n",
        "    for i in range(num_episodes):\n",
        "        duration = 0\n",
        "        s = env.reset()\n",
        "        \n",
        "        while True: \n",
        "            epsilon = get_epsilon(i)\n",
        "            a = select_action(model, s, epsilon)\n",
        "\n",
        "            next_state, r, done, _ = env.step(a)\n",
        "            # TODO: is it correct to compute duration here and not after the break?\n",
        "            duration += 1\n",
        "            \n",
        "            memory.push((s, a, r, next_state, done))\n",
        "            \n",
        "            train(model, memory, optimizer, batch_size, discount_factor)\n",
        "\n",
        "            if done: \n",
        "                break\n",
        "                \n",
        "            s = next_state\n",
        "        \n",
        "        episode_durations.append(duration)\n",
        "        \n",
        "    return episode_durations"
      ],
      "execution_count": 0,
      "outputs": []
    },
    {
      "metadata": {
        "id": "2M1_xGZLBhrD",
        "colab_type": "code",
        "colab": {}
      },
      "cell_type": "code",
      "source": [
        "# Let's run it!\n",
        "num_episodes = 2000\n",
        "batch_size = 64\n",
        "discount_factor = 0.8\n",
        "learn_rate = 1e-3\n",
        "memory = ReplayMemory(10000)\n",
        "num_hidden = 128\n",
        "seed = 42  # This is not randomly chosen\n",
        "\n",
        "# We will seed the algorithm (before initializing QNetwork!) for reproducability\n",
        "random.seed(seed)\n",
        "torch.manual_seed(seed)\n",
        "env.seed(seed)\n",
        "\n",
        "model = QNetwork(num_hidden)\n",
        "\n",
        "episode_durations = run_episodes(train, model, memory, env, num_episodes, batch_size, discount_factor, learn_rate)"
      ],
      "execution_count": 0,
      "outputs": []
    },
    {
      "metadata": {
        "id": "iXuRPz1bnOLR",
        "colab_type": "code",
        "colab": {}
      },
      "cell_type": "code",
      "source": [
        ""
      ],
      "execution_count": 0,
      "outputs": []
    },
    {
      "metadata": {
        "deletable": false,
        "editable": false,
        "nbgrader": {
          "checksum": "70d16eb61eae34605e8d7813a70a604a",
          "grade": true,
          "grade_id": "cell-928ecc11ed5c43d8",
          "locked": true,
          "points": 2,
          "schema_version": 1,
          "solution": false
        },
        "id": "U5eA1Ti6BhrH",
        "colab_type": "code",
        "outputId": "12c33bea-8059-417b-c14c-2db972369303",
        "colab": {
          "base_uri": "https://localhost:8080/",
          "height": 298
        }
      },
      "cell_type": "code",
      "source": [
        "# And see the results\n",
        "def smooth(x, N):\n",
        "    cumsum = np.cumsum(np.insert(x, 0, 0)) \n",
        "    return (cumsum[N:] - cumsum[:-N]) / float(N)\n",
        "\n",
        "plt.plot(smooth(episode_durations, 10))\n",
        "plt.title('Episode durations per episode')\n"
      ],
      "execution_count": 28,
      "outputs": [
        {
          "output_type": "execute_result",
          "data": {
            "text/plain": [
              "Text(0.5,1,'Episode durations per episode')"
            ]
          },
          "metadata": {
            "tags": []
          },
          "execution_count": 28
        },
        {
          "output_type": "display_data",
          "data": {
            "image/png": "[encoded data removed]",
            "text/plain": [
              "<matplotlib.figure.Figure at 0x7fbe23e4af98>"
            ]
          },
          "metadata": {
            "tags": []
          }
        }
      ]
    },
    {
      "metadata": {
        "deletable": false,
        "editable": false,
        "nbgrader": {
          "checksum": "1e106dba734da10d4d8b3bf90d6bb772",
          "grade": false,
          "grade_id": "cell-49e6bf74834a67ef",
          "locked": true,
          "schema_version": 1,
          "solution": false
        },
        "id": "-vURScBlBhrL",
        "colab_type": "text"
      },
      "cell_type": "markdown",
      "source": [
        "### 1.6 Semi-gradient vs. true gradient (bonus)"
      ]
    },
    {
      "metadata": {
        "deletable": false,
        "editable": false,
        "nbgrader": {
          "checksum": "acf155c686f3916453a3d11d95994987",
          "grade": false,
          "grade_id": "cell-fc30be2a6983bc77",
          "locked": true,
          "schema_version": 1,
          "solution": false
        },
        "id": "K5YX6qqtBhrM",
        "colab_type": "text"
      },
      "cell_type": "markdown",
      "source": [
        "Note that by using automatic differentiation in PyTorch, it is (relatively) easy to implement the true gradient method. Hint: PyTorch may complain about computing gradients for the target in [smooth_l1_loss](https://pytorch.org/docs/stable/nn.html?highlight=smooth_l1_loss#torch.nn.functional.smooth_l1_loss). How can you circumvent this problem? Implement the `train_true_gradient` method below."
      ]
    },
    {
      "metadata": {
        "deletable": false,
        "nbgrader": {
          "checksum": "3d1e72257ed8c59175352e163f1bfdaf",
          "grade": true,
          "grade_id": "cell-71707640573b23d1",
          "locked": false,
          "points": 1,
          "schema_version": 1,
          "solution": true
        },
        "id": "b_7fZisvBhrO",
        "colab_type": "code",
        "colab": {
          "base_uri": "https://localhost:8080/",
          "height": 298
        },
        "outputId": "36bcc94a-0143-4afd-979e-0c3671f93148"
      },
      "cell_type": "code",
      "source": [
        "def train_true_gradient(model, memory, optimizer, batch_size, discount_factor):\n",
        "    \n",
        "    # don't learn without some decent experience\n",
        "    if len(memory) < batch_size:\n",
        "        return None\n",
        "\n",
        "    # random transition batch is taken from experience replay memory\n",
        "    transitions = memory.sample(batch_size)\n",
        "    \n",
        "    # transition is a list of 4-tuples, instead we want 4 vectors (as torch.Tensor's)\n",
        "    state, action, reward, next_state, done = zip(*transitions)\n",
        "    \n",
        "    # convert to PyTorch and define types\n",
        "    state = torch.tensor(state, dtype=torch.float)\n",
        "    action = torch.tensor(action, dtype=torch.int64)  # Need 64 bit to use them as index\n",
        "    next_state = torch.tensor(next_state, dtype=torch.float)\n",
        "    reward = torch.tensor(reward, dtype=torch.float)\n",
        "    done = torch.tensor(done, dtype=torch.uint8)  # Boolean\n",
        "    \n",
        "    # compute the q value\n",
        "    q_val = compute_q_val(model, state, action)\n",
        "    \n",
        "#     with torch.no_grad():  # Don't compute gradient info for the target (semi-gradient)\n",
        "    target = compute_target(model, reward, next_state, done, discount_factor)\n",
        "    \n",
        "    # loss is measured from error between current and newly expected Q values\n",
        "    loss = F.smooth_l1_loss(q_val, target.detach())\n",
        "    loss2 = F.smooth_l1_loss(target, q_val.detach())\n",
        "    loss = loss+loss2\n",
        "    # alternative, mathematical. both should work if distance is symmetric. it should be..\n",
        "#     loss = F.smooth_l1_loss(target - q_val , torch.zeros_like(q_val))\n",
        "    # backpropagation of loss to Neural Network (PyTorch magic)\n",
        "    optimizer.zero_grad()\n",
        "    loss.backward()\n",
        "    optimizer.step()\n",
        "    \n",
        "    return loss.item()  # Returns a Python scalar, and releases history (similar to .detach())\n",
        "\n",
        "random.seed(seed)\n",
        "torch.manual_seed(seed)\n",
        "env.seed(seed)\n",
        "\n",
        "model = QNetwork(num_hidden)\n",
        "\n",
        "episode_durations_true_gradient = run_episodes(\n",
        "    train_true_gradient, model, memory, env, num_episodes, batch_size, discount_factor, learn_rate)\n",
        "\n",
        "plt.plot(smooth(episode_durations, 10))\n",
        "plt.plot(smooth(episode_durations_true_gradient, 10))\n",
        "plt.title('Episode durations per episode')\n",
        "plt.legend(['Semi-gradient', 'True gradient'])"
      ],
      "execution_count": 30,
      "outputs": [
        {
          "output_type": "execute_result",
          "data": {
            "text/plain": [
              "<matplotlib.legend.Legend at 0x7fbe2227ee80>"
            ]
          },
          "metadata": {
            "tags": []
          },
          "execution_count": 30
        },
        {
          "output_type": "display_data",
          "data": {
            "image/png": "[encoded data removed]",
            "text/plain": [
              "<matplotlib.figure.Figure at 0x7fbe222c6630>"
            ]
          },
          "metadata": {
            "tags": []
          }
        }
      ]
    },
    {
      "metadata": {
        "deletable": false,
        "editable": false,
        "nbgrader": {
          "checksum": "95b462060bc00fccd7e8bc2ccc857215",
          "grade": false,
          "grade_id": "cell-b6fb5a1b0894fb4e",
          "locked": true,
          "schema_version": 1,
          "solution": false
        },
        "id": "I4UPQmtdBhrU",
        "colab_type": "text"
      },
      "cell_type": "markdown",
      "source": [
        "Which algorithm performs better? Is this what you would expect? Can you explain this?\n",
        "\n",
        "Note: you may want to play around with the number of episodes to answer this question, but please reset it to 100 before handing in the notebook."
      ]
    },
    {
      "metadata": {
        "deletable": false,
        "nbgrader": {
          "checksum": "b2e5712195d20cce7d1a6afb34e24a41",
          "grade": true,
          "grade_id": "cell-d99dae457ea5bde6",
          "locked": false,
          "points": 1,
          "schema_version": 1,
          "solution": true
        },
        "id": "xwIhc0WaBhrW",
        "colab_type": "text"
      },
      "cell_type": "markdown",
      "source": [
        "YOUR ANSWER HERE"
      ]
    },
    {
      "metadata": {
        "deletable": false,
        "editable": false,
        "nbgrader": {
          "checksum": "de7203182e41f55f391af5892477e89d",
          "grade": false,
          "grade_id": "cell-6607b79e73a101a9",
          "locked": true,
          "schema_version": 1,
          "solution": false
        },
        "id": "8zPXOQUJBhrY",
        "colab_type": "text"
      },
      "cell_type": "markdown",
      "source": [
        "---\n",
        "\n",
        "## 2. Policy Gradient (8 points)"
      ]
    },
    {
      "metadata": {
        "deletable": false,
        "editable": false,
        "nbgrader": {
          "checksum": "951b88e9cd8396d088d3f80e6da9690c",
          "grade": false,
          "grade_id": "cell-083fe71da94aa7aa",
          "locked": true,
          "schema_version": 1,
          "solution": false
        },
        "id": "ZJcvp_hsBhra",
        "colab_type": "text"
      },
      "cell_type": "markdown",
      "source": [
        "So we have spent a lot of time working on *value based* methods. We will now switch to *policy based* methods, i.e. learn a policy directly rather than learn a value function from which the policy follows. Mention two advantages of using a policy based method."
      ]
    },
    {
      "metadata": {
        "deletable": false,
        "nbgrader": {
          "checksum": "a5c1f505cb22eca6eb3b8213ff23e60f",
          "grade": true,
          "grade_id": "cell-134510705650d5ac",
          "locked": false,
          "points": 2,
          "schema_version": 1,
          "solution": true
        },
        "id": "ED2jct3aBhrb",
        "colab_type": "text"
      },
      "cell_type": "markdown",
      "source": [
        "YOUR ANSWER HERE"
      ]
    },
    {
      "metadata": {
        "deletable": false,
        "editable": false,
        "nbgrader": {
          "checksum": "174629c02b62968e23fa6088c4d5763b",
          "grade": false,
          "grade_id": "cell-76a10fe31897025f",
          "locked": true,
          "schema_version": 1,
          "solution": false
        },
        "id": "OZVXY8JgBhre",
        "colab_type": "text"
      },
      "cell_type": "markdown",
      "source": [
        "### 2.1 Policy Network"
      ]
    },
    {
      "metadata": {
        "deletable": false,
        "editable": false,
        "nbgrader": {
          "checksum": "2bc16b45e6145226b8a6f5117003b7f5",
          "grade": false,
          "grade_id": "cell-34f0712f792bbcca",
          "locked": true,
          "schema_version": 1,
          "solution": false
        },
        "id": "xJywTym0Bhri",
        "colab_type": "text"
      },
      "cell_type": "markdown",
      "source": [
        "In order to do so, we will implement a Policy network. Although in general this does not have to be the case, we will use an architecture very similar to the Q-network (two layers with ReLU activation for the hidden layer). Since we have discrete actions, our model will output one value per action, where each value represents the (normalized!) log-probability of selecting that action. *Use the (log-)softmax activation function.*"
      ]
    },
    {
      "metadata": {
        "deletable": false,
        "nbgrader": {
          "checksum": "155baf230fd6deb5f6ccf93138fa3419",
          "grade": false,
          "grade_id": "cell-6a31440f9477f963",
          "locked": false,
          "schema_version": 1,
          "solution": true
        },
        "id": "A_rJN8gNBhrk",
        "colab_type": "code",
        "colab": {}
      },
      "cell_type": "code",
      "source": [
        "class PolicyNetwork(nn.Module):\n",
        "    \n",
        "    def __init__(self, num_hidden=128):\n",
        "        nn.Module.__init__(self)\n",
        "        self.mlp = nn.Sequential(\n",
        "            nn.Linear(4, num_hidden),\n",
        "            nn.ReLU(),\n",
        "            nn.Linear(num_hidden, 2),\n",
        "            nn.LogSoftmax(dim = -1)\n",
        "        )\n",
        "\n",
        "    def forward(self, x):\n",
        "        out = self.mlp(x)\n",
        "        return out"
      ],
      "execution_count": 0,
      "outputs": []
    },
    {
      "metadata": {
        "deletable": false,
        "editable": false,
        "nbgrader": {
          "checksum": "3cb94e04b03fa4b663bcf38a96ef656d",
          "grade": true,
          "grade_id": "cell-9d280fe6520edc91",
          "locked": true,
          "points": 1,
          "schema_version": 1,
          "solution": false
        },
        "id": "esntmFFnBhrq",
        "colab_type": "code",
        "outputId": "1ce0206b-ba69-452f-ae7d-4bb54c9ed559",
        "colab": {
          "base_uri": "https://localhost:8080/",
          "height": 187
        }
      },
      "cell_type": "code",
      "source": [
        "# Let's instantiate and test if it works\n",
        "num_hidden = 128\n",
        "torch.manual_seed(1234)\n",
        "model = PolicyNetwork(num_hidden)\n",
        "\n",
        "x = torch.rand(10, 4)\n",
        "\n",
        "log_p = model(x)\n",
        "\n",
        "# Does the outcome make sense?\n",
        "print(log_p.exp())\n"
      ],
      "execution_count": 0,
      "outputs": [
        {
          "output_type": "stream",
          "text": [
            "tensor([[0.4578, 0.5422],\n",
            "        [0.4657, 0.5343],\n",
            "        [0.4563, 0.5437],\n",
            "        [0.4634, 0.5366],\n",
            "        [0.4564, 0.5436],\n",
            "        [0.4725, 0.5275],\n",
            "        [0.4769, 0.5231],\n",
            "        [0.4834, 0.5166],\n",
            "        [0.4797, 0.5203],\n",
            "        [0.4618, 0.5382]], grad_fn=<ExpBackward>)\n"
          ],
          "name": "stdout"
        }
      ]
    },
    {
      "metadata": {
        "deletable": false,
        "editable": false,
        "nbgrader": {
          "checksum": "619c714e930c0d167304597d188f229b",
          "grade": false,
          "grade_id": "cell-35294ca4eda15b11",
          "locked": true,
          "schema_version": 1,
          "solution": false
        },
        "id": "BRTfIvDpBhru",
        "colab_type": "text"
      },
      "cell_type": "markdown",
      "source": [
        "### 2.2 Monte Carlo REINFORCE"
      ]
    },
    {
      "metadata": {
        "deletable": false,
        "editable": false,
        "nbgrader": {
          "checksum": "93ed9cbcf70541f5a04709ee89a16e78",
          "grade": false,
          "grade_id": "cell-44f33e587542974d",
          "locked": true,
          "schema_version": 1,
          "solution": false
        },
        "id": "TfQAtEWABhrw",
        "colab_type": "text"
      },
      "cell_type": "markdown",
      "source": [
        "Now we will implement the *Monte Carlo* policy gradient algorithm. Remember from lab 1 that this means that we will estimate returns for states by sample episodes. Compared to DQN, this means that we do *not* perform an update step at every environment step, but only at the end of each episode. This means that we should generate an episode of data, compute the REINFORCE loss (which requires computing the returns) and then perform a gradient step.\n",
        "\n",
        "To help you, we already implemented a few functions that you can (but do not have to) use.\n",
        "\n",
        "* You can use `torch.multinomial` to sample from a categorical distribution.\n",
        "* The REINFORCE loss is defined as $- \\sum_t \\log \\pi_\\theta(a_t|s_t) G_t$, which means that you should compute the (discounted) return $G_t$ for all $t$. Make sure that you do this in **linear time**, otherwise your algorithm will be very slow! Note the - (minus) since you want to maximize return while you want to minimize the loss.\n",
        "* Importantly, you should **normalize the returns** (not the rewards!, e.g. subtract mean and divide by standard deviation within the episode) before computing the loss, or your estimator will have very high variance."
      ]
    },
    {
      "metadata": {
        "deletable": false,
        "nbgrader": {
          "checksum": "3b2c75181678fed25fcc7c8b39bb7de3",
          "grade": true,
          "grade_id": "cell-3f6e32c4931392bf",
          "locked": false,
          "points": 5,
          "schema_version": 1,
          "solution": true
        },
        "id": "biDJx3CCBhrx",
        "colab_type": "code",
        "colab": {}
      },
      "cell_type": "code",
      "source": [
        "from torch.distributions import Categorical\n",
        "import random\n",
        "\n",
        "def select_action(model, state):\n",
        "  # Samples an action according to the probability distribution induced by the model\n",
        "  # Also returns the log_probability\n",
        "  # YOUR CODE HERE\n",
        "  log_p = model(torch.tensor(state).float())\n",
        "  probs = Categorical(torch.exp(log_p))\n",
        "  action = probs.sample()\n",
        "  return action, log_p[action]\n",
        "\n",
        "def run_episode(env, model):\n",
        "  episode = []\n",
        "  done = False\n",
        "  state = env.reset()\n",
        "  single_transition = []\n",
        "  while not done:\n",
        "    previous_state = state\n",
        "    action, log_p = select_action(model, state)\n",
        "    state, reward, done, _ = env.step(action.item())\n",
        "    episode.append((previous_state, log_p, reward))\n",
        "  return episode\n",
        "\n",
        "def compute_reinforce_loss(episode, discount_factor):\n",
        "    # Compute the reinforce loss\n",
        "    # Make sure that your function runs in LINEAR TIME\n",
        "    # Don't forget to normalize your RETURNS (not rewards)\n",
        "    # Note that the rewards/returns should be maximized \n",
        "    # while the loss should be minimized so you need a - somewhere\n",
        "    \n",
        "    # YOUR CODE HERE\n",
        "    states, log_probs, rewards = zip(*episode)\n",
        "    log_probs = torch.stack(log_probs)\n",
        "    episode_return = 0.0\n",
        "    returns = []\n",
        "    for r in rewards[::-1]:\n",
        "      episode_return = r + discount_factor * episode_return\n",
        "      returns.append(episode_return)\n",
        "      \n",
        "    returns = torch.tensor(returns[::-1])  \n",
        "    returns -= torch.mean(returns)\n",
        "    returns /= torch.std(returns)\n",
        "    \n",
        "    loss = -(returns * log_probs).sum()\n",
        "    return loss\n",
        "\n",
        "def run_episodes_policy_gradient(model, env, num_episodes, discount_factor, learn_rate):\n",
        "    \n",
        "    optimizer = optim.Adam(model.parameters(), learn_rate)\n",
        "    \n",
        "    episode_durations = []\n",
        "    for i in range(num_episodes):\n",
        "        \n",
        "        # YOUR CODE HERE\n",
        "        episode = run_episode(env, model)\n",
        "        loss = compute_reinforce_loss(episode, discount_factor)\n",
        "        \n",
        "        optimizer.zero_grad()\n",
        "        loss.backward()\n",
        "        optimizer.step()\n",
        "                           \n",
        "        if i % 10 == 0:\n",
        "            print(\"{2} Episode {0} finished after {1} steps\"\n",
        "                  .format(i, len(episode), '\\033[92m' if len(episode) >= 195 else '\\033[99m'))\n",
        "        episode_durations.append(len(episode))\n",
        "        \n",
        "    return episode_durations"
      ],
      "execution_count": 0,
      "outputs": []
    },
    {
      "metadata": {
        "id": "9LhyztIpBhr0",
        "colab_type": "code",
        "outputId": "434ed62c-4bb0-486a-d45a-b0468b84916d",
        "colab": {
          "base_uri": "https://localhost:8080/",
          "height": 1147
        }
      },
      "cell_type": "code",
      "source": [
        "# Feel free to play around with the parameters!\n",
        "num_episodes = 500\n",
        "discount_factor = 0.99\n",
        "learn_rate = 0.01\n",
        "seed = 42\n",
        "random.seed(seed)\n",
        "torch.manual_seed(seed)\n",
        "env.seed(seed)\n",
        "\n",
        "model = PolicyNetwork(num_hidden)\n",
        "\n",
        "episode_durations_policy_gradient = run_episodes_policy_gradient(\n",
        "    model, env, num_episodes, discount_factor, learn_rate)\n",
        "\n",
        "plt.plot(smooth(episode_durations_policy_gradient, 10))\n",
        "plt.title('Episode durations per episode')\n",
        "plt.legend(['Policy gradient'])"
      ],
      "execution_count": 0,
      "outputs": [
        {
          "output_type": "stream",
          "text": [
            "\u001b[99m Episode 0 finished after 19 steps\n",
            "\u001b[99m Episode 10 finished after 17 steps\n",
            "\u001b[99m Episode 20 finished after 27 steps\n",
            "\u001b[99m Episode 30 finished after 34 steps\n",
            "\u001b[92m Episode 40 finished after 200 steps\n",
            "\u001b[99m Episode 50 finished after 71 steps\n",
            "\u001b[99m Episode 60 finished after 57 steps\n",
            "\u001b[99m Episode 70 finished after 33 steps\n",
            "\u001b[99m Episode 80 finished after 41 steps\n",
            "\u001b[99m Episode 90 finished after 58 steps\n",
            "\u001b[92m Episode 100 finished after 200 steps\n",
            "\u001b[99m Episode 110 finished after 125 steps\n",
            "\u001b[92m Episode 120 finished after 200 steps\n",
            "\u001b[92m Episode 130 finished after 200 steps\n",
            "\u001b[92m Episode 140 finished after 200 steps\n",
            "\u001b[92m Episode 150 finished after 200 steps\n",
            "\u001b[92m Episode 160 finished after 200 steps\n",
            "\u001b[92m Episode 170 finished after 200 steps\n",
            "\u001b[92m Episode 180 finished after 200 steps\n",
            "\u001b[92m Episode 190 finished after 200 steps\n",
            "\u001b[92m Episode 200 finished after 200 steps\n",
            "\u001b[92m Episode 210 finished after 200 steps\n",
            "\u001b[92m Episode 220 finished after 200 steps\n",
            "\u001b[99m Episode 230 finished after 192 steps\n",
            "\u001b[92m Episode 240 finished after 200 steps\n",
            "\u001b[92m Episode 250 finished after 200 steps\n",
            "\u001b[92m Episode 260 finished after 200 steps\n",
            "\u001b[92m Episode 270 finished after 200 steps\n",
            "\u001b[92m Episode 280 finished after 200 steps\n",
            "\u001b[92m Episode 290 finished after 200 steps\n",
            "\u001b[92m Episode 300 finished after 200 steps\n",
            "\u001b[92m Episode 310 finished after 200 steps\n",
            "\u001b[92m Episode 320 finished after 200 steps\n",
            "\u001b[92m Episode 330 finished after 200 steps\n",
            "\u001b[92m Episode 340 finished after 200 steps\n",
            "\u001b[92m Episode 350 finished after 200 steps\n",
            "\u001b[92m Episode 360 finished after 200 steps\n",
            "\u001b[92m Episode 370 finished after 200 steps\n",
            "\u001b[92m Episode 380 finished after 200 steps\n",
            "\u001b[92m Episode 390 finished after 200 steps\n",
            "\u001b[92m Episode 400 finished after 200 steps\n",
            "\u001b[92m Episode 410 finished after 200 steps\n",
            "\u001b[92m Episode 420 finished after 200 steps\n",
            "\u001b[92m Episode 430 finished after 200 steps\n",
            "\u001b[92m Episode 440 finished after 200 steps\n",
            "\u001b[92m Episode 450 finished after 200 steps\n",
            "\u001b[92m Episode 460 finished after 200 steps\n",
            "\u001b[92m Episode 470 finished after 200 steps\n",
            "\u001b[99m Episode 480 finished after 156 steps\n",
            "\u001b[99m Episode 490 finished after 165 steps\n"
          ],
          "name": "stdout"
        },
        {
          "output_type": "execute_result",
          "data": {
            "text/plain": [
              "<matplotlib.legend.Legend at 0x7fe6a7bff6d8>"
            ]
          },
          "metadata": {
            "tags": []
          },
          "execution_count": 46
        },
        {
          "output_type": "display_data",
          "data": {
            "image/png": "[encoded data removed]",
            "text/plain": [
              "<matplotlib.figure.Figure at 0x7fe6a9c450b8>"
            ]
          },
          "metadata": {
            "tags": []
          }
        }
      ]
    },
    {
      "metadata": {
        "deletable": false,
        "editable": false,
        "nbgrader": {
          "checksum": "b9fe846472bc09094ba671593c4b40b4",
          "grade": false,
          "grade_id": "cell-af9c49b396393dc0",
          "locked": true,
          "schema_version": 1,
          "solution": false
        },
        "id": "7115fmuBBhr3",
        "colab_type": "text"
      },
      "cell_type": "markdown",
      "source": [
        "---\n",
        "## Actor-Critic (7 points)"
      ]
    },
    {
      "metadata": {
        "deletable": false,
        "editable": false,
        "nbgrader": {
          "checksum": "ff32c0931b08aa9a5719639105a7b3e5",
          "grade": false,
          "grade_id": "cell-7eabad968ce02adf",
          "locked": true,
          "schema_version": 1,
          "solution": false
        },
        "id": "RHV-24ioBhr5",
        "colab_type": "text"
      },
      "cell_type": "markdown",
      "source": [
        "We will now implement the basic Actor-Critic algorithm, which means that instead of using Monte Carlo returns, we will bootstrap (1-step) returns using a critic (state-value function), so $G_t = R_t + \\gamma V(s_{t+1})$. What happens at the end of the episode? Hint: you may find it useful to have a look at the `train` method for DQN.\n",
        "\n",
        "* Note that we now have to train an actor (policy) and a critic (value network).\n",
        "* We will do this using a single optimizer, which means that we have to sum the loss for the actor and the critic into a single loss term. \n",
        "* For the critic, use the `smooth_l1_loss` like with DQN.\n",
        "* For the actor, the loss should be the REINFORCE loss, but with two differences:\n",
        "    - Instead of the Monte Carlo return $G_t$, use the one step return $G_{t:t+1}$ where the critic is used to bootstrap the value of $s_{t+1}$.\n",
        "    - Instead of normalizing the returns (which can be viewed as using the average as baseline and then scaling), we will use the estimated value $V(s_t)$ as baseline.\n",
        "* **Important**: note that you cannot use `with torch.no_grad():` to compute the critic value (for the current state) since you need gradients to train the critic! However, when using the value to compute the actor loss, you do not want to get gradients of the critic parameters w.r.t. the actor loss (e.g. your target and baseline must be constant)! Therefore, use `v.detach()` on the output of the critic when it is used in the loss term for the actor, this will make sure the value(s) are treated as a constant and no gradients will be backpropagated."
      ]
    },
    {
      "metadata": {
        "deletable": false,
        "nbgrader": {
          "checksum": "3b649f137296d2c6e9ac367781f1b04e",
          "grade": true,
          "grade_id": "cell-5a7326fd2ab9349c",
          "locked": false,
          "points": 5,
          "schema_version": 1,
          "solution": true
        },
        "id": "w98emy0LBhr6",
        "colab_type": "code",
        "outputId": "bf3ca6e9-e05f-4233-d29c-cadae48d6b24",
        "colab": {
          "base_uri": "https://localhost:8080/",
          "height": 1839
        }
      },
      "cell_type": "code",
      "source": [
        "class ValueNetwork(nn.Module):\n",
        "    \n",
        "    def __init__(self, num_hidden=128):\n",
        "        nn.Module.__init__(self)\n",
        "        self.mlp = nn.Sequential(\n",
        "            nn.Linear(4, num_hidden),\n",
        "            nn.ReLU(),\n",
        "            nn.Linear(num_hidden, 1)\n",
        "        )\n",
        "\n",
        "    def forward(self, x):\n",
        "        out = self.mlp(x)\n",
        "        return out\n",
        "    \n",
        "\n",
        "def select_action(model, state):\n",
        "    # Samples an action according to the probability distribution induced by the model\n",
        "    # Also returns the log_probability\n",
        "    # YOUR CODE HERE\n",
        "    log_p = model(torch.tensor(state).float())\n",
        "    probs = Categorical(torch.exp(log_p))\n",
        "    action = probs.sample()\n",
        "    log_p = log_p[range(0, len(state)), action]\n",
        "    # action and log_p should be a 1 dimensional vector\n",
        "    n = len(state)\n",
        "    assert action.size() == (n, )\n",
        "    assert log_p.size() == (n, )\n",
        "    return action, log_p\n",
        "\n",
        "def train_actor_critic(actor, critic, optimizer, log_ps, state, reward, next_state, done, discount_factor):\n",
        "    \n",
        "    # YOUR CODE HERE\n",
        "    v_next = critic(next_state).squeeze()\n",
        "    v_cur = critic(state).squeeze()\n",
        "    \n",
        "    tgt = (reward + discount_factor * v_next - v_cur) * (~done).float()\n",
        "    error = tgt - v_cur\n",
        "    \n",
        "    value_loss = F.smooth_l1_loss(error, torch.zeros_like(error))\n",
        "    actor_loss = (-(log_ps * error.detach())).mean()\n",
        "    \n",
        "    # The loss is composed of the value_loss (for the critic) and the actor_loss\n",
        "    \n",
        "    loss = value_loss + actor_loss\n",
        "\n",
        "    # backpropagation of loss to Neural Network (PyTorch magic)\n",
        "    optimizer.zero_grad()\n",
        "    loss.backward()\n",
        "    torch.nn.utils.clip_grad_norm_(actor.parameters(), 1)\n",
        "    torch.nn.utils.clip_grad_norm_(critic.parameters(), 1)\n",
        "    optimizer.step()\n",
        "    \n",
        "    return loss.item(), value_loss.item(), actor_loss.item()  # Returns a Python scalar, and releases history (similar to .detach())\n",
        "\n",
        "def run_episodes_actor_critic(actor, critic, envs, max_episodes, max_steps, discount_factor, actor_learn_rate, critic_learn_rate):\n",
        "    \n",
        "    # We can use a single optimizer for both the actor and the critic, even with separate learn rates\n",
        "    optimizer = optim.Adam([\n",
        "        {'params': actor.parameters(), 'lr': actor_learn_rate},\n",
        "        {'params': critic.parameters(), 'lr': critic_learn_rate}\n",
        "    ])\n",
        "    \n",
        "    episode_durations = []\n",
        "    state = torch.tensor([env.reset() for env in envs], dtype=torch.float)\n",
        "    current_episode_lengths = torch.zeros(len(envs), dtype=torch.int64)\n",
        "    step_losses = []  # Keep track of losses for plotting\n",
        "    for i in range(max_steps):\n",
        "        \n",
        "        if i % 100 == 0:\n",
        "            print(f\"Step {i}, finished {len(episode_durations)} / {num_episodes} episodes, average episode duration of last 100 episodes: {np.mean(episode_durations[-100:])}\")\n",
        "        \n",
        "        action, log_ps = select_action(actor, state)\n",
        "        next_state, reward, done, _ = zip(*[env.step(a.item()) for env, a in zip(envs, action)])\n",
        "        \n",
        "        next_state = torch.tensor(next_state, dtype=torch.float)\n",
        "        reward = torch.tensor(reward, dtype=torch.float)\n",
        "        done = torch.tensor(done, dtype=torch.uint8)  # Boolean\n",
        "        current_episode_lengths += 1\n",
        "        \n",
        "        losses = train_actor_critic(actor, critic, optimizer, log_ps, state, reward, next_state, done, discount_factor)\n",
        "        \n",
        "        step_losses.append(losses)\n",
        "        \n",
        "        # Reset envs that are done\n",
        "        next_state = torch.tensor([\n",
        "            env.reset() if d else s.tolist()\n",
        "            for env, s, d in zip(envs, next_state, done)\n",
        "        ], dtype=torch.float)\n",
        "        \n",
        "        episode_durations.extend(current_episode_lengths[done])\n",
        "        current_episode_lengths[done] = 0  # PyTorch can also work in place\n",
        "        \n",
        "        state = next_state\n",
        "        \n",
        "        # Check if we have finished sufficiently many episodes\n",
        "        if len(episode_durations) >= max_episodes:\n",
        "            break\n",
        "        \n",
        "    return episode_durations[:max_episodes], step_losses  # In case we want exactly num_episodes returned\n",
        "\n",
        "\n",
        "num_envs = 16\n",
        "max_steps = 10000\n",
        "max_episodes = 10000\n",
        "discount_factor = 0.8\n",
        "lr_actor = 1e-3\n",
        "lr_critic = 1e-3\n",
        "seed = 42\n",
        "\n",
        "actor = PolicyNetwork(num_hidden)\n",
        "critic = ValueNetwork(num_hidden)\n",
        "\n",
        "envs = [gym.envs.make(\"CartPole-v0\") for i in range(num_envs)]\n",
        "\n",
        "for i, env in enumerate(envs):\n",
        "    env.seed(seed + i)\n",
        "torch.manual_seed(seed)\n",
        "\n",
        "episode_durations, step_losses = run_episodes_actor_critic(actor, critic, envs, max_episodes, max_steps, discount_factor, lr_actor, lr_critic)"
      ],
      "execution_count": 0,
      "outputs": [
        {
          "output_type": "stream",
          "text": [
            "/usr/local/lib/python3.6/dist-packages/gym/envs/registration.py:14: PkgResourcesDeprecationWarning: Parameters to load are deprecated.  Call .resolve and .require separately.\n",
            "  result = entry_point.load(False)\n",
            "/usr/local/lib/python3.6/dist-packages/numpy/core/fromnumeric.py:2957: RuntimeWarning: Mean of empty slice.\n",
            "  out=out, **kwargs)\n",
            "/usr/local/lib/python3.6/dist-packages/numpy/core/_methods.py:80: RuntimeWarning: invalid value encountered in double_scalars\n",
            "  ret = ret.dtype.type(ret / rcount)\n"
          ],
          "name": "stderr"
        },
        {
          "output_type": "stream",
          "text": [
            "Step 0, finished 0 / 10000 episodes, average episode duration of last 100 episodes: nan\n",
            "Step 100, finished 98 / 10000 episodes, average episode duration of last 100 episodes: 14.857142857142858\n",
            "Step 200, finished 190 / 10000 episodes, average episode duration of last 100 episodes: 16.84\n",
            "Step 300, finished 274 / 10000 episodes, average episode duration of last 100 episodes: 18.86\n",
            "Step 400, finished 324 / 10000 episodes, average episode duration of last 100 episodes: 23.13\n",
            "Step 500, finished 369 / 10000 episodes, average episode duration of last 100 episodes: 32.59\n",
            "Step 600, finished 415 / 10000 episodes, average episode duration of last 100 episodes: 35.89\n",
            "Step 700, finished 454 / 10000 episodes, average episode duration of last 100 episodes: 36.17\n",
            "Step 800, finished 491 / 10000 episodes, average episode duration of last 100 episodes: 38.48\n",
            "Step 900, finished 524 / 10000 episodes, average episode duration of last 100 episodes: 42.28\n",
            "Step 1000, finished 557 / 10000 episodes, average episode duration of last 100 episodes: 46.44\n",
            "Step 1100, finished 590 / 10000 episodes, average episode duration of last 100 episodes: 47.55\n",
            "Step 1200, finished 613 / 10000 episodes, average episode duration of last 100 episodes: 52.11\n",
            "Step 1300, finished 639 / 10000 episodes, average episode duration of last 100 episodes: 55.96\n",
            "Step 1400, finished 658 / 10000 episodes, average episode duration of last 100 episodes: 59.86\n",
            "Step 1500, finished 672 / 10000 episodes, average episode duration of last 100 episodes: 67.92\n",
            "Step 1600, finished 688 / 10000 episodes, average episode duration of last 100 episodes: 75.61\n",
            "Step 1700, finished 699 / 10000 episodes, average episode duration of last 100 episodes: 83.54\n",
            "Step 1800, finished 711 / 10000 episodes, average episode duration of last 100 episodes: 93.22\n",
            "Step 1900, finished 726 / 10000 episodes, average episode duration of last 100 episodes: 99.74\n",
            "Step 2000, finished 737 / 10000 episodes, average episode duration of last 100 episodes: 105.39\n",
            "Step 2100, finished 752 / 10000 episodes, average episode duration of last 100 episodes: 115.56\n",
            "Step 2200, finished 764 / 10000 episodes, average episode duration of last 100 episodes: 117.42\n",
            "Step 2300, finished 776 / 10000 episodes, average episode duration of last 100 episodes: 121.89\n",
            "Step 2400, finished 790 / 10000 episodes, average episode duration of last 100 episodes: 128.29\n",
            "Step 2500, finished 796 / 10000 episodes, average episode duration of last 100 episodes: 129.48\n",
            "Step 2600, finished 807 / 10000 episodes, average episode duration of last 100 episodes: 132.36\n",
            "Step 2700, finished 816 / 10000 episodes, average episode duration of last 100 episodes: 135.43\n",
            "Step 2800, finished 827 / 10000 episodes, average episode duration of last 100 episodes: 140.33\n",
            "Step 2900, finished 840 / 10000 episodes, average episode duration of last 100 episodes: 142.96\n",
            "Step 3000, finished 852 / 10000 episodes, average episode duration of last 100 episodes: 140.94\n",
            "Step 3100, finished 863 / 10000 episodes, average episode duration of last 100 episodes: 145.72\n",
            "Step 3200, finished 870 / 10000 episodes, average episode duration of last 100 episodes: 149.23\n",
            "Step 3300, finished 881 / 10000 episodes, average episode duration of last 100 episodes: 152.6\n",
            "Step 3400, finished 888 / 10000 episodes, average episode duration of last 100 episodes: 157.37\n",
            "Step 3500, finished 901 / 10000 episodes, average episode duration of last 100 episodes: 156.39\n",
            "Step 3600, finished 915 / 10000 episodes, average episode duration of last 100 episodes: 149.09\n",
            "Step 3700, finished 922 / 10000 episodes, average episode duration of last 100 episodes: 145.18\n",
            "Step 3800, finished 932 / 10000 episodes, average episode duration of last 100 episodes: 152.44\n",
            "Step 3900, finished 940 / 10000 episodes, average episode duration of last 100 episodes: 155.92\n",
            "Step 4000, finished 950 / 10000 episodes, average episode duration of last 100 episodes: 160.88\n",
            "Step 4100, finished 960 / 10000 episodes, average episode duration of last 100 episodes: 164.93\n",
            "Step 4200, finished 971 / 10000 episodes, average episode duration of last 100 episodes: 162.29\n",
            "Step 4300, finished 978 / 10000 episodes, average episode duration of last 100 episodes: 162.58\n",
            "Step 4400, finished 987 / 10000 episodes, average episode duration of last 100 episodes: 164.75\n",
            "Step 4500, finished 997 / 10000 episodes, average episode duration of last 100 episodes: 166.59\n",
            "Step 4600, finished 1005 / 10000 episodes, average episode duration of last 100 episodes: 168.72\n",
            "Step 4700, finished 1015 / 10000 episodes, average episode duration of last 100 episodes: 175.22\n",
            "Step 4800, finished 1022 / 10000 episodes, average episode duration of last 100 episodes: 178.89\n",
            "Step 4900, finished 1031 / 10000 episodes, average episode duration of last 100 episodes: 179.28\n",
            "Step 5000, finished 1038 / 10000 episodes, average episode duration of last 100 episodes: 182.02\n",
            "Step 5100, finished 1049 / 10000 episodes, average episode duration of last 100 episodes: 182.18\n",
            "Step 5200, finished 1054 / 10000 episodes, average episode duration of last 100 episodes: 183.83\n",
            "Step 5300, finished 1065 / 10000 episodes, average episode duration of last 100 episodes: 187.63\n",
            "Step 5400, finished 1070 / 10000 episodes, average episode duration of last 100 episodes: 190.99\n",
            "Step 5500, finished 1084 / 10000 episodes, average episode duration of last 100 episodes: 187.33\n",
            "Step 5600, finished 1096 / 10000 episodes, average episode duration of last 100 episodes: 179.69\n",
            "Step 5700, finished 1116 / 10000 episodes, average episode duration of last 100 episodes: 159.65\n",
            "Step 5800, finished 1128 / 10000 episodes, average episode duration of last 100 episodes: 150.3\n",
            "Step 5900, finished 1135 / 10000 episodes, average episode duration of last 100 episodes: 147.82\n",
            "Step 6000, finished 1145 / 10000 episodes, average episode duration of last 100 episodes: 147.36\n",
            "Step 6100, finished 1156 / 10000 episodes, average episode duration of last 100 episodes: 144.05\n",
            "Step 6200, finished 1167 / 10000 episodes, average episode duration of last 100 episodes: 138.73\n",
            "Step 6300, finished 1179 / 10000 episodes, average episode duration of last 100 episodes: 131.28\n",
            "Step 6400, finished 1183 / 10000 episodes, average episode duration of last 100 episodes: 132.79\n",
            "Step 6500, finished 1195 / 10000 episodes, average episode duration of last 100 episodes: 142.46\n",
            "Step 6600, finished 1199 / 10000 episodes, average episode duration of last 100 episodes: 146.0\n",
            "Step 6700, finished 1211 / 10000 episodes, average episode duration of last 100 episodes: 160.55\n",
            "Step 6800, finished 1215 / 10000 episodes, average episode duration of last 100 episodes: 165.77\n",
            "Step 6900, finished 1227 / 10000 episodes, average episode duration of last 100 episodes: 176.64\n",
            "Step 7000, finished 1231 / 10000 episodes, average episode duration of last 100 episodes: 178.68\n",
            "Step 7100, finished 1243 / 10000 episodes, average episode duration of last 100 episodes: 181.36\n",
            "Step 7200, finished 1247 / 10000 episodes, average episode duration of last 100 episodes: 182.55\n",
            "Step 7300, finished 1259 / 10000 episodes, average episode duration of last 100 episodes: 186.37\n",
            "Step 7400, finished 1263 / 10000 episodes, average episode duration of last 100 episodes: 188.03\n",
            "Step 7500, finished 1276 / 10000 episodes, average episode duration of last 100 episodes: 196.8\n",
            "Step 7600, finished 1288 / 10000 episodes, average episode duration of last 100 episodes: 192.96\n",
            "Step 7700, finished 1292 / 10000 episodes, average episode duration of last 100 episodes: 191.05\n",
            "Step 7800, finished 1304 / 10000 episodes, average episode duration of last 100 episodes: 190.24\n",
            "Step 7900, finished 1308 / 10000 episodes, average episode duration of last 100 episodes: 190.24\n",
            "Step 8000, finished 1320 / 10000 episodes, average episode duration of last 100 episodes: 190.34\n",
            "Step 8100, finished 1324 / 10000 episodes, average episode duration of last 100 episodes: 190.35\n",
            "Step 8200, finished 1336 / 10000 episodes, average episode duration of last 100 episodes: 190.35\n",
            "Step 8300, finished 1340 / 10000 episodes, average episode duration of last 100 episodes: 190.35\n",
            "Step 8400, finished 1352 / 10000 episodes, average episode duration of last 100 episodes: 190.35\n",
            "Step 8500, finished 1356 / 10000 episodes, average episode duration of last 100 episodes: 190.35\n",
            "Step 8600, finished 1368 / 10000 episodes, average episode duration of last 100 episodes: 190.37\n",
            "Step 8700, finished 1372 / 10000 episodes, average episode duration of last 100 episodes: 190.37\n",
            "Step 8800, finished 1384 / 10000 episodes, average episode duration of last 100 episodes: 195.04\n",
            "Step 8900, finished 1388 / 10000 episodes, average episode duration of last 100 episodes: 197.28\n",
            "Step 9000, finished 1400 / 10000 episodes, average episode duration of last 100 episodes: 199.73\n",
            "Step 9100, finished 1404 / 10000 episodes, average episode duration of last 100 episodes: 199.96\n",
            "Step 9200, finished 1418 / 10000 episodes, average episode duration of last 100 episodes: 199.17\n",
            "Step 9300, finished 1423 / 10000 episodes, average episode duration of last 100 episodes: 196.38\n",
            "Step 9400, finished 1434 / 10000 episodes, average episode duration of last 100 episodes: 196.33\n",
            "Step 9500, finished 1439 / 10000 episodes, average episode duration of last 100 episodes: 196.33\n",
            "Step 9600, finished 1451 / 10000 episodes, average episode duration of last 100 episodes: 194.99\n",
            "Step 9700, finished 1456 / 10000 episodes, average episode duration of last 100 episodes: 193.55\n",
            "Step 9800, finished 1467 / 10000 episodes, average episode duration of last 100 episodes: 193.55\n",
            "Step 9900, finished 1472 / 10000 episodes, average episode duration of last 100 episodes: 193.55\n"
          ],
          "name": "stdout"
        }
      ]
    },
    {
      "metadata": {
        "id": "pEvlFwc3Bhr-",
        "colab_type": "code",
        "outputId": "030829ed-037f-45a2-d12c-8c168bd60510",
        "colab": {
          "base_uri": "https://localhost:8080/",
          "height": 806
        }
      },
      "cell_type": "code",
      "source": [
        "plt.plot(smooth(episode_durations, 100))\n",
        "plt.title('Episode durations')\n",
        "plt.show()\n",
        "loss, v_loss, a_loss = zip(*step_losses)\n",
        "\n",
        "plt.plot(smooth(v_loss, 100))\n",
        "plt.title('Value loss')\n",
        "plt.show()\n",
        "plt.plot(smooth(a_loss, 100))\n",
        "plt.title('Actor loss')\n",
        "plt.show()"
      ],
      "execution_count": 0,
      "outputs": [
        {
          "output_type": "display_data",
          "data": {
            "image/png": "[encoded data removed]",
            "text/plain": [
              "<matplotlib.figure.Figure at 0x7fe6a822af60>"
            ]
          },
          "metadata": {
            "tags": []
          }
        },
        {
          "output_type": "display_data",
          "data": {
            "image/png": "[encoded data removed]",
            "text/plain": [
              "<matplotlib.figure.Figure at 0x7fe6a80de1d0>"
            ]
          },
          "metadata": {
            "tags": []
          }
        },
        {
          "output_type": "display_data",
          "data": {
            "image/png": "[encoded data removed]",
            "text/plain": [
              "<matplotlib.figure.Figure at 0x7fe6a7dd3b70>"
            ]
          },
          "metadata": {
            "tags": []
          }
        }
      ]
    },
    {
      "metadata": {
        "deletable": false,
        "editable": false,
        "nbgrader": {
          "checksum": "de8c4cba2ebd1a8bba2236f92a0b550c",
          "grade": false,
          "grade_id": "cell-8d15d4c9c0310bec",
          "locked": true,
          "schema_version": 1,
          "solution": false
        },
        "id": "Fdjak6jdBhsB",
        "colab_type": "text"
      },
      "cell_type": "markdown",
      "source": [
        "What is the difficulty of training AC algorithms? What could you try to do to overcome these difficulties? Hint: look at some online implementations."
      ]
    },
    {
      "metadata": {
        "deletable": false,
        "nbgrader": {
          "checksum": "1e51e82a7730101dfd07b2f0e470d1b4",
          "grade": true,
          "grade_id": "cell-f68c6134a9df40b9",
          "locked": false,
          "points": 2,
          "schema_version": 1,
          "solution": true
        },
        "id": "IKxePk9wBhsC",
        "colab_type": "text"
      },
      "cell_type": "markdown",
      "source": [
        "YOUR ANSWER HERE"
      ]
    },
    {
      "metadata": {
        "deletable": false,
        "editable": false,
        "nbgrader": {
          "checksum": "5947c1e643f533003715ae8da659af9e",
          "grade": false,
          "grade_id": "cell-ad1138b69e6728a0",
          "locked": true,
          "schema_version": 1,
          "solution": false
        },
        "id": "gPOKwd9LBhsD",
        "colab_type": "text"
      },
      "cell_type": "markdown",
      "source": [
        "## Deep Reinforcement Learning (5 bonus points)\n",
        "Note that so far we used the state variables as input. However, the true power of Deep Learning is that we can directly learn from raw inputs, e.g. we can learn to balance the cart pole *by just looking at the screen*. This probably means that you need a deep(er) (convolutional) network, as well as tweaking some parameters, running for more iterations (perhaps on GPU) and do other tricks to stabilize learning. Can you get this to work? This will earn you bonus points!\n",
        "\n",
        "Hints:\n",
        "* You may want to use [Google Colab](https://colab.research.google.com/) such that you can benefit from GPU acceleration.\n",
        "* Even if you don't use Colab, save the weights of your final model and load it in the code here (see example below). Hand in the model file with the .ipynb in a .zip. We likely won't be able to run your training code during grading!\n",
        "* To run the code below, you need to install `torchvision`, for this uncomment the two lines in the cell below or run the command in a terminal. Note: you may need to restart the terminal after installing.\n",
        "* Preprocessing is already done for you, and the observation is the difference between two consequtive frames such that the model can 'see' (angular) speed from a single image. Now do you see why we (sometimes) use the word observation (and not state)?"
      ]
    },
    {
      "metadata": {
        "id": "1bWaim2aBhsF",
        "colab_type": "code",
        "colab": {}
      },
      "cell_type": "code",
      "source": [
        "# %%bash\n",
        "# conda install torchvision -c pytorch"
      ],
      "execution_count": 0,
      "outputs": []
    },
    {
      "metadata": {
        "deletable": false,
        "editable": false,
        "nbgrader": {
          "checksum": "f660e1484fe2bf60d66467326eacb1ba",
          "grade": false,
          "grade_id": "cell-9c9dfa80827c5680",
          "locked": true,
          "schema_version": 1,
          "solution": false
        },
        "id": "lCHmEyOMBhsS",
        "colab_type": "code",
        "colab": {}
      },
      "cell_type": "code",
      "source": [
        "import torchvision.transforms as T\n",
        "from PIL import Image\n",
        "\n",
        "\n",
        "resize = T.Compose([T.ToPILImage(),\n",
        "                    T.Resize(40, interpolation=Image.CUBIC),\n",
        "                    T.ToTensor()])\n",
        "\n",
        "class CartPoleRawEnv(gym.Env):\n",
        "    \n",
        "    def __init__(self, *args, **kwargs):\n",
        "        self._env = gym.make('CartPole-v0', *args, **kwargs)  #.unwrapped\n",
        "        self.action_space = self._env.action_space\n",
        "        screen_height, screen_width = 40, 80  # TODO\n",
        "        self.observation_space = gym.spaces.Box(\n",
        "            low=0, high=255, \n",
        "            shape=(screen_height, screen_width, 3), dtype=np.uint8)\n",
        "    \n",
        "    def seed(self, seed=None):\n",
        "        return self._env.seed(seed)\n",
        "    \n",
        "    def reset(self):\n",
        "        s = self._env.reset()\n",
        "        self.prev_screen = self.screen = self.get_screen()\n",
        "        return self._get_observation()\n",
        "    \n",
        "    def step(self, action):\n",
        "        s, r, done, info = self._env.step(action)\n",
        "        self.prev_screen = self.screen\n",
        "        self.screen = self.get_screen()\n",
        "        return self._get_observation(), r, done, info\n",
        "    \n",
        "    def _get_observation(self):\n",
        "        return self.screen - self.prev_screen\n",
        "    \n",
        "    def _get_cart_location(self, screen_width):\n",
        "        _env = self._env.unwrapped\n",
        "        world_width = _env.x_threshold * 2\n",
        "        scale = screen_width / world_width\n",
        "        return int(_env.state[0] * scale + screen_width / 2.0)  # MIDDLE OF CART\n",
        "\n",
        "    def get_screen(self):\n",
        "        screen = self._env.unwrapped.render(mode='rgb_array').transpose(\n",
        "            (2, 0, 1))  # transpose into torch order (CHW)\n",
        "        # Strip off the top and bottom of the screen\n",
        "        _, screen_height, screen_width = screen.shape\n",
        "        screen = screen[:, screen_height * 4 // 10:screen_height * 8 // 10]\n",
        "        view_width = screen_height * 8 // 10\n",
        "        cart_location = self._get_cart_location(screen_width)\n",
        "        if cart_location < view_width // 2:\n",
        "            slice_range = slice(view_width)\n",
        "        elif cart_location > (screen_width - view_width // 2):\n",
        "            slice_range = slice(-view_width, None)\n",
        "        else:\n",
        "            slice_range = slice(cart_location - view_width // 2,\n",
        "                                cart_location + view_width // 2)\n",
        "        # Strip off the edges, so that we have a square image centered on a cart\n",
        "        screen = screen[:, :, slice_range]\n",
        "        # Convert to float, rescare, convert to torch tensor\n",
        "        # (this doesn't require a copy)\n",
        "        screen = np.ascontiguousarray(screen, dtype=np.float32) / 255\n",
        "        screen = torch.from_numpy(screen)\n",
        "        # Resize, and add a batch dimension (BCHW)\n",
        "        #return screen.unsqueeze(0).to(device)\n",
        "        return resize(screen).unsqueeze(0)\n",
        "    \n",
        "    def close(self):\n",
        "        return self._env.close()\n",
        "\n",
        "raw_env = CartPoleRawEnv()\n",
        "s = raw_env.reset()\n",
        "\n",
        "# \n",
        "s, r, done, _ = raw_env.step(env.action_space.sample())\n",
        "\n",
        "raw_env.reset()\n",
        "plt.figure()\n",
        "plt.imshow(raw_env.get_screen().cpu().squeeze(0).permute(1, 2, 0).numpy(),\n",
        "           interpolation='none')\n",
        "plt.title('Example extracted screen')\n",
        "plt.show()\n",
        "\n",
        "# Observations are (-1, 1) while we need to plot (0, 1) so show (rgb + 1) / 2\n",
        "plt.figure()\n",
        "plt.imshow((s.cpu().squeeze(0).permute(1, 2, 0).numpy() + 1) / 2,\n",
        "           interpolation='none')\n",
        "plt.title('Example observation')\n",
        "plt.show()\n",
        "raw_env.close()"
      ],
      "execution_count": 0,
      "outputs": []
    },
    {
      "metadata": {
        "id": "B-4k-695BhsY",
        "colab_type": "code",
        "colab": {}
      },
      "cell_type": "code",
      "source": [
        "# Maybe you should make it a bit deeper?\n",
        "class DeepPolicy(nn.Module):\n",
        "    def __init__(self):\n",
        "        nn.Module.__init__(self)\n",
        "        self.l1 = nn.Linear(40 * 80 * 3, 2)\n",
        "\n",
        "    def forward(self, x):\n",
        "        # Flatten\n",
        "        return F.log_softmax(self.l1(x.view(x.size(0), -1)), -1)\n",
        "    \n",
        "policy = DeepPolicy()\n",
        "filename = 'weights.pt'\n",
        "\n",
        "if os.path.isfile(filename):\n",
        "    print(f\"Loading weights from {filename}\")\n",
        "    weights = torch.load(filename)\n",
        "    \n",
        "    policy.load_state_dict(weights['policy'])\n",
        "    \n",
        "else:\n",
        "    # Train\n",
        "    \n",
        "    ### TODO some training here, maybe? Or run this on a different machine?\n",
        "    torch.manual_seed(42)\n",
        "    \n",
        "    print(f\"Saving weights to {filename}\")\n",
        "    torch.save({\n",
        "        # You can add more here if you need, e.g. critic\n",
        "        'policy': policy.state_dict()  # Always save weights rather than objects\n",
        "    },\n",
        "    filename)\n",
        "    \n",
        "def bonus_get_action(x):\n",
        "    return policy(x).exp().multinomial(1)[:, 0]"
      ],
      "execution_count": 0,
      "outputs": []
    },
    {
      "metadata": {
        "deletable": false,
        "editable": false,
        "nbgrader": {
          "checksum": "b800bfb91f987f14e0c35bc0c41d538b",
          "grade": true,
          "grade_id": "cell-0d7bd58a23fdfabb",
          "locked": true,
          "points": 5,
          "schema_version": 1,
          "solution": false
        },
        "id": "TgDvaJexBhsf",
        "colab_type": "code",
        "colab": {}
      },
      "cell_type": "code",
      "source": [
        "seed = 42\n",
        "episode_durations = []\n",
        "for i in range(20):  # Not too many since it may take forever to render\n",
        "    test_env = CartPoleRawEnv()\n",
        "    test_env.seed(seed + i)\n",
        "    state = test_env.reset()\n",
        "    done = False\n",
        "    steps = 0\n",
        "    while not done:\n",
        "        steps += 1\n",
        "        with torch.no_grad():\n",
        "            action = bonus_get_action(state).item()\n",
        "        state, reward, done, _ = test_env.step(action)\n",
        "    episode_durations.append(steps)\n",
        "    test_env.close()\n",
        "    \n",
        "plt.plot(smooth(episode_durations, 100))\n",
        "plt.title('Episode durations')\n",
        "plt.show()\n"
      ],
      "execution_count": 0,
      "outputs": []
    },
    {
      "metadata": {
        "id": "XZBy1uROBhsn",
        "colab_type": "code",
        "colab": {}
      },
      "cell_type": "code",
      "source": [
        ""
      ],
      "execution_count": 0,
      "outputs": []
    }
  ]
}