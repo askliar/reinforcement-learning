{
  "nbformat": 4,
  "nbformat_minor": 0,
  "metadata": {
    "colab": {
      "name": "lab1_colab.ipynb",
      "version": "0.3.2",
      "provenance": [],
      "include_colab_link": true
    },
    "kernelspec": {
      "display_name": "Python 3",
      "language": "python",
      "name": "python3"
    }
  },
  "cells": [
    {
      "cell_type": "markdown",
      "metadata": {
        "id": "view-in-github",
        "colab_type": "text"
      },
      "source": [
        "<a href=\"https://colab.research.google.com/github/askliar/reinforcement-learning/blob/master/labs/lab1/lab1_colab.ipynb\" target=\"_parent\"><img src=\"https://colab.research.google.com/assets/colab-badge.svg\" alt=\"Open In Colab\"/></a>"
      ]
    },
    {
      "metadata": {
        "id": "DtMa9n6HlupL",
        "colab_type": "text"
      },
      "cell_type": "markdown",
      "source": [
        "Parts of this assignment will be **automatically graded**. Please take note of the following:\n",
        "- Before you turn this problem in, make sure everything runs as expected. First, **restart the kernel** (in the menubar, select Kernel$\\rightarrow$Restart) and then **run all cells** (in the menubar, select Cell$\\rightarrow$Run All).\n",
        "- You can add additional cells, but it is not recommended to (re)move cells. Cells required for autograding cannot be moved and cells containing tests cannot be edited.\n",
        "- You are allowed to use a service such as [Google Colaboratory](https://colab.research.google.com/) to work together. However, you **cannot** hand in the notebook that was hosted on Google Colaboratory, but you need to copy your answers into the original notebook and verify that it runs succesfully offline. This is because Google Colaboratory destroys the metadata required for grading.\n",
        "- Name your notebook **exactly** `{TA_name}_{student1_id}_{student2_id}_lab{i}.ipynb`, for example `wouter_12345_67890_lab1.ipynb` (or elise or stephan, depending on your TA), **otherwise your submission will be skipped by our regex and you will get 0 points** (but no penalty as we cannot parse your student ids ;)).\n",
        "\n",
        "Make sure you fill in any place that says `YOUR CODE HERE` or \"YOUR ANSWER HERE\", as well as your names below:"
      ]
    },
    {
      "metadata": {
        "id": "P3S3dsgklupe",
        "colab_type": "code",
        "colab": {}
      },
      "cell_type": "code",
      "source": [
        "NAMES = \"Andrii Skliar, Gabriele Bani\""
      ],
      "execution_count": 0,
      "outputs": []
    },
    {
      "metadata": {
        "id": "LEnS7YkCluqH",
        "colab_type": "text"
      },
      "cell_type": "markdown",
      "source": [
        "---"
      ]
    },
    {
      "metadata": {
        "deletable": false,
        "editable": false,
        "nbgrader": {
          "checksum": "4eed621d3748a44866956caa0de5247b",
          "grade": false,
          "grade_id": "cell-fc69f22067705372",
          "locked": true,
          "schema_version": 1,
          "solution": false
        },
        "id": "TqqjJ552luqS",
        "colab_type": "code",
        "colab": {}
      },
      "cell_type": "code",
      "source": [
        "import numpy as np\n",
        "import matplotlib.pyplot as plt\n",
        "import sys\n",
        "from tqdm import tqdm as _tqdm\n",
        "\n",
        "def tqdm(*args, **kwargs):\n",
        "    return _tqdm(*args, **kwargs, mininterval=1)  # Safety, do not overflow buffer\n",
        "\n",
        "%matplotlib inline\n",
        "\n",
        "assert sys.version_info[:3] >= (3, 6, 0), \"Make sure you have Python 3.6 installed!\""
      ],
      "execution_count": 0,
      "outputs": []
    },
    {
      "metadata": {
        "deletable": false,
        "editable": false,
        "nbgrader": {
          "checksum": "bab7b3976d6730a0739fd462766b1d42",
          "grade": false,
          "grade_id": "cell-9ebb0d5b306dbdea",
          "locked": true,
          "schema_version": 1,
          "solution": false
        },
        "id": "54Ynk8IBluqq",
        "colab_type": "text"
      },
      "cell_type": "markdown",
      "source": [
        "---\n",
        "## 1. Policy Evaluation (1 point)"
      ]
    },
    {
      "metadata": {
        "deletable": false,
        "editable": false,
        "nbgrader": {
          "checksum": "8d010aef9b5b288e694006a2aefe67e0",
          "grade": false,
          "grade_id": "cell-1078e8f0b90517ce",
          "locked": true,
          "schema_version": 1,
          "solution": false
        },
        "id": "H-f2_cfvluqy",
        "colab_type": "text"
      },
      "cell_type": "markdown",
      "source": [
        "In this exercise we will evaluate a policy, e.g. find the value function for a policy. The problem we consider is the gridworld from Example 4.1 in the book. The environment is implemented as `GridworldEnv`, which is a subclass of the `Env` class from [OpenAI Gym](https://github.com/openai/gym). This means that we can interact with the environment. We can look at the documentation to see how we can interact with the environment."
      ]
    },
    {
      "metadata": {
        "deletable": false,
        "editable": false,
        "nbgrader": {
          "checksum": "990081b68602e7e0c46f2edeab0fcb53",
          "grade": false,
          "grade_id": "cell-de586c5ac92d8d74",
          "locked": true,
          "schema_version": 1,
          "solution": false
        },
        "id": "Rxh9pLlPluq3",
        "colab_type": "code",
        "colab": {
          "resources": {
            "http://localhost:8080/nbextensions/google.colab/files.js": {
              "data": "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",
              "ok": true,
              "headers": [
                [
                  "content-type",
                  "application/javascript"
                ]
              ],
              "status": 200,
              "status_text": "OK"
            }
          },
          "base_uri": "https://localhost:8080/",
          "height": 294
        },
        "outputId": "1e65f2ee-bb33-4ae1-cee8-1fd77f140e06"
      },
      "cell_type": "code",
      "source": [
        "################# --- Just for Colab --- #################\n",
        "\n",
        "from google.colab import files\n",
        "src = list(files.upload().values())[0]\n",
        "open('gridworld.py','wb').write(src)\n",
        "\n",
        "!pip install gym\n",
        "\n",
        "################# --- Just for Colab --- #################\n",
        "\n",
        "from gridworld import GridworldEnv\n",
        "env = GridworldEnv()\n",
        "# Lets see what this is\n",
        "?env"
      ],
      "execution_count": 5,
      "outputs": [
        {
          "output_type": "display_data",
          "data": {
            "text/html": [
              "\n",
              "     <input type=\"file\" id=\"files-2c960e25-4128-403a-8e0b-f56094e73dcf\" name=\"files[]\" multiple disabled />\n",
              "     <output id=\"result-2c960e25-4128-403a-8e0b-f56094e73dcf\">\n",
              "      Upload widget is only available when the cell has been executed in the\n",
              "      current browser session. Please rerun this cell to enable.\n",
              "      </output>\n",
              "      <script src=\"/nbextensions/google.colab/files.js\"></script> "
            ],
            "text/plain": [
              "<IPython.core.display.HTML object>"
            ]
          },
          "metadata": {
            "tags": []
          }
        },
        {
          "output_type": "stream",
          "text": [
            "Saving gridworld.py to gridworld (1).py\n",
            "Requirement already satisfied: gym in /usr/local/lib/python3.6/dist-packages (0.10.8)\n",
            "Requirement already satisfied: numpy>=1.10.4 in /usr/local/lib/python3.6/dist-packages (from gym) (1.15.3)\n",
            "Requirement already satisfied: six in /usr/local/lib/python3.6/dist-packages (from gym) (1.11.0)\n",
            "Requirement already satisfied: requests>=2.0 in /usr/local/lib/python3.6/dist-packages (from gym) (2.18.4)\n",
            "Requirement already satisfied: scipy in /usr/local/lib/python3.6/dist-packages (from gym) (0.19.1)\n",
            "Requirement already satisfied: pyglet>=1.2.0 in /usr/local/lib/python3.6/dist-packages (from gym) (1.3.2)\n",
            "Requirement already satisfied: chardet<3.1.0,>=3.0.2 in /usr/local/lib/python3.6/dist-packages (from requests>=2.0->gym) (3.0.4)\n",
            "Requirement already satisfied: certifi>=2017.4.17 in /usr/local/lib/python3.6/dist-packages (from requests>=2.0->gym) (2018.10.15)\n",
            "Requirement already satisfied: urllib3<1.23,>=1.21.1 in /usr/local/lib/python3.6/dist-packages (from requests>=2.0->gym) (1.22)\n",
            "Requirement already satisfied: idna<2.7,>=2.5 in /usr/local/lib/python3.6/dist-packages (from requests>=2.0->gym) (2.6)\n",
            "Requirement already satisfied: future in /usr/local/lib/python3.6/dist-packages (from pyglet>=1.2.0->gym) (0.16.0)\n"
          ],
          "name": "stdout"
        }
      ]
    },
    {
      "metadata": {
        "deletable": false,
        "editable": false,
        "nbgrader": {
          "checksum": "814f4db75653991276d29ebff9d6ae37",
          "grade": false,
          "grade_id": "cell-b3a84dfb0e66a0c0",
          "locked": true,
          "schema_version": 1,
          "solution": false
        },
        "id": "xGEuZZQ2lura",
        "colab_type": "code",
        "colab": {}
      },
      "cell_type": "code",
      "source": [
        "# To have a quick look into the code\n",
        "??env"
      ],
      "execution_count": 0,
      "outputs": []
    },
    {
      "metadata": {
        "deletable": false,
        "editable": false,
        "nbgrader": {
          "checksum": "fe850a3b9a1be42ae79b895d206ac3b6",
          "grade": false,
          "grade_id": "cell-b2162d776f0c2014",
          "locked": true,
          "schema_version": 1,
          "solution": false
        },
        "id": "YToaPMGslurw",
        "colab_type": "text"
      },
      "cell_type": "markdown",
      "source": [
        "Now we want to evaluate a policy by using Dynamic Programming. For more information, see the [Intro to RL](https://drive.google.com/open?id=1opPSz5AZ_kVa1uWOdOiveNiBFiEOHjkG) book, section 4.1. This algorithm requires knowledge of the problem dynamics in the form of the transition probabilities $p(s',r|s,a)$. In general these are not available, but for our gridworld we know the dynamics and these can be accessed as `env.P`."
      ]
    },
    {
      "metadata": {
        "id": "0v5OUgn3lur6",
        "colab_type": "code",
        "colab": {
          "base_uri": "https://localhost:8080/",
          "height": 1192
        },
        "outputId": "fd81925f-5203-4051-f86b-612774178983"
      },
      "cell_type": "code",
      "source": [
        "# Take a moment to figure out what P represents. \n",
        "# Note that this is a deterministic environment. \n",
        "# What would a stochastic environment look like?\n",
        "env.P"
      ],
      "execution_count": 10,
      "outputs": [
        {
          "output_type": "execute_result",
          "data": {
            "text/plain": [
              "{0: {0: [(1.0, 0, 0.0, True)],\n",
              "  1: [(1.0, 0, 0.0, True)],\n",
              "  2: [(1.0, 0, 0.0, True)],\n",
              "  3: [(1.0, 0, 0.0, True)]},\n",
              " 1: {0: [(1.0, 1, -1.0, False)],\n",
              "  1: [(1.0, 2, -1.0, False)],\n",
              "  2: [(1.0, 5, -1.0, False)],\n",
              "  3: [(1.0, 0, -1.0, True)]},\n",
              " 2: {0: [(1.0, 2, -1.0, False)],\n",
              "  1: [(1.0, 3, -1.0, False)],\n",
              "  2: [(1.0, 6, -1.0, False)],\n",
              "  3: [(1.0, 1, -1.0, False)]},\n",
              " 3: {0: [(1.0, 3, -1.0, False)],\n",
              "  1: [(1.0, 3, -1.0, False)],\n",
              "  2: [(1.0, 7, -1.0, False)],\n",
              "  3: [(1.0, 2, -1.0, False)]},\n",
              " 4: {0: [(1.0, 0, -1.0, True)],\n",
              "  1: [(1.0, 5, -1.0, False)],\n",
              "  2: [(1.0, 8, -1.0, False)],\n",
              "  3: [(1.0, 4, -1.0, False)]},\n",
              " 5: {0: [(1.0, 1, -1.0, False)],\n",
              "  1: [(1.0, 6, -1.0, False)],\n",
              "  2: [(1.0, 9, -1.0, False)],\n",
              "  3: [(1.0, 4, -1.0, False)]},\n",
              " 6: {0: [(1.0, 2, -1.0, False)],\n",
              "  1: [(1.0, 7, -1.0, False)],\n",
              "  2: [(1.0, 10, -1.0, False)],\n",
              "  3: [(1.0, 5, -1.0, False)]},\n",
              " 7: {0: [(1.0, 3, -1.0, False)],\n",
              "  1: [(1.0, 7, -1.0, False)],\n",
              "  2: [(1.0, 11, -1.0, False)],\n",
              "  3: [(1.0, 6, -1.0, False)]},\n",
              " 8: {0: [(1.0, 4, -1.0, False)],\n",
              "  1: [(1.0, 9, -1.0, False)],\n",
              "  2: [(1.0, 12, -1.0, False)],\n",
              "  3: [(1.0, 8, -1.0, False)]},\n",
              " 9: {0: [(1.0, 5, -1.0, False)],\n",
              "  1: [(1.0, 10, -1.0, False)],\n",
              "  2: [(1.0, 13, -1.0, False)],\n",
              "  3: [(1.0, 8, -1.0, False)]},\n",
              " 10: {0: [(1.0, 6, -1.0, False)],\n",
              "  1: [(1.0, 11, -1.0, False)],\n",
              "  2: [(1.0, 14, -1.0, False)],\n",
              "  3: [(1.0, 9, -1.0, False)]},\n",
              " 11: {0: [(1.0, 7, -1.0, False)],\n",
              "  1: [(1.0, 11, -1.0, False)],\n",
              "  2: [(1.0, 15, -1.0, True)],\n",
              "  3: [(1.0, 10, -1.0, False)]},\n",
              " 12: {0: [(1.0, 8, -1.0, False)],\n",
              "  1: [(1.0, 13, -1.0, False)],\n",
              "  2: [(1.0, 12, -1.0, False)],\n",
              "  3: [(1.0, 12, -1.0, False)]},\n",
              " 13: {0: [(1.0, 9, -1.0, False)],\n",
              "  1: [(1.0, 14, -1.0, False)],\n",
              "  2: [(1.0, 13, -1.0, False)],\n",
              "  3: [(1.0, 12, -1.0, False)]},\n",
              " 14: {0: [(1.0, 10, -1.0, False)],\n",
              "  1: [(1.0, 15, -1.0, True)],\n",
              "  2: [(1.0, 14, -1.0, False)],\n",
              "  3: [(1.0, 13, -1.0, False)]},\n",
              " 15: {0: [(1.0, 15, 0.0, True)],\n",
              "  1: [(1.0, 15, 0.0, True)],\n",
              "  2: [(1.0, 15, 0.0, True)],\n",
              "  3: [(1.0, 15, 0.0, True)]}}"
            ]
          },
          "metadata": {
            "tags": []
          },
          "execution_count": 10
        }
      ]
    },
    {
      "metadata": {
        "deletable": false,
        "nbgrader": {
          "checksum": "d2d2b829d45d264cf8a6194dc8ccc132",
          "grade": false,
          "grade_id": "cell-209a484040bd874f",
          "locked": false,
          "schema_version": 1,
          "solution": true
        },
        "id": "Ka9dCBWOlusT",
        "colab_type": "code",
        "colab": {}
      },
      "cell_type": "code",
      "source": [
        "def policy_eval(policy, env, discount_factor=1.0, theta=0.00001):\n",
        "    \"\"\"\n",
        "    Evaluate a policy given an environment and a full description of the environment's dynamics.\n",
        "    \n",
        "    Args:\n",
        "        policy: [S, A] shaped matrix representing the policy.\n",
        "        env: OpenAI env. env.P represents the transition probabilities of the environment.\n",
        "            env.P[s][a] is a list of transition tuples (prob, next_state, reward, done).\n",
        "            env.nS is a numbear of states in the environment. \n",
        "            env.nA is a number of actions in the environment.\n",
        "        theta: We stop evaluation once our value function change is less than theta for all states.\n",
        "        discount_factor: Gamma discount factor.\n",
        "    \n",
        "    Returns:\n",
        "        Vector of length env.nS representing the value function.\n",
        "    \"\"\"\n",
        "    # Start with a random (all 0) value function\n",
        "    V = np.zeros(env.nS)\n",
        "    while True:\n",
        "      delta = 0\n",
        "      for state in env.P:\n",
        "        v_old = V[state]\n",
        "        v_new = 0.0\n",
        "        for action in env.P[state]:\n",
        "          q_value = 0.0\n",
        "          for transition_tuple in env.P[state][action]:\n",
        "            prob, next_state, reward, done = transition_tuple\n",
        "            q_value += prob * (reward + discount_factor * V[next_state])\n",
        "          v_new += policy[state][action] * q_value\n",
        "        V[state] = v_new\n",
        "        delta = np.maximum(delta, np.abs(v_new - v_old))\n",
        "      if delta < theta:\n",
        "        break\n",
        "    return np.array(V)"
      ],
      "execution_count": 0,
      "outputs": []
    },
    {
      "metadata": {
        "id": "IKpf2lFAlus2",
        "colab_type": "code",
        "colab": {
          "base_uri": "https://localhost:8080/",
          "height": 90
        },
        "outputId": "d04bccb1-3c08-470d-d34b-2ccb6b8259e7"
      },
      "cell_type": "code",
      "source": [
        "# Let's run your code, does it make sense?\n",
        "random_policy = np.ones([env.nS, env.nA]) / env.nA\n",
        "V = policy_eval(random_policy, env)\n",
        "V"
      ],
      "execution_count": 14,
      "outputs": [
        {
          "output_type": "execute_result",
          "data": {
            "text/plain": [
              "array([  0.        , -13.99993529, -19.99990698, -21.99989761,\n",
              "       -13.99993529, -17.9999206 , -19.99991379, -19.99991477,\n",
              "       -19.99990698, -19.99991379, -17.99992725, -13.99994569,\n",
              "       -21.99989761, -19.99991477, -13.99994569,   0.        ])"
            ]
          },
          "metadata": {
            "tags": []
          },
          "execution_count": 14
        }
      ]
    },
    {
      "metadata": {
        "id": "sYg0d5sKlutS",
        "colab_type": "code",
        "colab": {
          "base_uri": "https://localhost:8080/",
          "height": 269
        },
        "outputId": "b1e16361-bee5-4fb7-9443-76fd4e9757cf"
      },
      "cell_type": "code",
      "source": [
        "def plot_gridworld_value(V):\n",
        "    plt.figure()\n",
        "    c = plt.pcolormesh(V, cmap='gray')\n",
        "    plt.colorbar(c)\n",
        "    plt.gca().invert_yaxis()  # In the array, first row = 0 is on top\n",
        "\n",
        "# Making a plot always helps\n",
        "plot_gridworld_value(V.reshape(env.shape))"
      ],
      "execution_count": 15,
      "outputs": [
        {
          "output_type": "display_data",
          "data": {
            "image/png": "[encoded data removed]",
            "text/plain": [
              "<matplotlib.figure.Figure at 0x7f574757d630>"
            ]
          },
          "metadata": {
            "tags": []
          }
        }
      ]
    },
    {
      "metadata": {
        "deletable": false,
        "editable": false,
        "nbgrader": {
          "checksum": "5d879d65fc89af254883e1b68234e76e",
          "grade": true,
          "grade_id": "cell-b5c9d69b1731aff5",
          "locked": true,
          "points": 1,
          "schema_version": 1,
          "solution": false
        },
        "id": "ULfqpGfElutr",
        "colab_type": "code",
        "colab": {}
      },
      "cell_type": "code",
      "source": [
        "# Test: When you hand in the nodebook we will check that the value function is (approximately) what we expected\n",
        "# but we need to make sure it is at least of the correct shape\n",
        "v = policy_eval(random_policy, env)\n",
        "assert v.shape == (env.nS)"
      ],
      "execution_count": 0,
      "outputs": []
    },
    {
      "metadata": {
        "deletable": false,
        "editable": false,
        "nbgrader": {
          "checksum": "863ed58baecbbb4923162f40084e870d",
          "grade": false,
          "grade_id": "cell-b680e98c9ff204b8",
          "locked": true,
          "schema_version": 1,
          "solution": false
        },
        "id": "1MBaY93Jlut-",
        "colab_type": "text"
      },
      "cell_type": "markdown",
      "source": [
        "---\n",
        "## 2. Policy Iteration (2 points)\n",
        "Using the policy evaluation algorithm we can implement policy iteration to find a good policy for this problem. Note that we do not need to use a discount_factor for episodic tasks but make sure your implementation can handle this correctly!"
      ]
    },
    {
      "metadata": {
        "deletable": false,
        "nbgrader": {
          "checksum": "cfa494b2b437f9007f6b29b1ed5e0f78",
          "grade": false,
          "grade_id": "cell-383c54749617512c",
          "locked": false,
          "schema_version": 1,
          "solution": true
        },
        "id": "i1EsJqMxluuC",
        "colab_type": "code",
        "colab": {}
      },
      "cell_type": "code",
      "source": [
        "def policy_improvement(env, discount_factor=1.0):\n",
        "    \"\"\"\n",
        "    Policy Improvement Algorithm. Iteratively evaluates and improves a policy\n",
        "    until an optimal policy is found.\n",
        "    \n",
        "    Args:\n",
        "        env: The OpenAI envrionment.\n",
        "        policy_eval_fn: Policy Evaluation function that takes 3 arguments:\n",
        "            policy, env, discount_factor.\n",
        "        discount_factor: gamma discount factor.\n",
        "        \n",
        "    Returns:\n",
        "        A tuple (policy, V). \n",
        "        policy is the optimal policy, a matrix of shape [S, A] where each state s\n",
        "        contains a valid probability distribution over actions.\n",
        "        V is the value function for the optimal policy.\n",
        "        \n",
        "    \"\"\"\n",
        "    # Start with a random policy\n",
        "    policy = np.ones([env.nS, env.nA]) / env.nA\n",
        "    \n",
        "    while True:\n",
        "        \n",
        "        V = policy_eval(policy, env, discount_factor)\n",
        "        policy_stable = True\n",
        "        for state in env.P:\n",
        "          old_action = policy[state]\n",
        "          new_policies = np.zeros(env.nA)\n",
        "          for action in env.P[state]:\n",
        "            q_value = 0.0\n",
        "            for transition_tuple in env.P[state][action]:\n",
        "              prob, next_state, reward, done = transition_tuple\n",
        "              q_value += prob * (reward + discount_factor * V[next_state])\n",
        "            new_policies[action] = q_value\n",
        "          policy[state] *= 0.0\n",
        "          policy[state][np.argmax(new_policies)] = 1\n",
        "          if np.any(policy[state] != old_action):\n",
        "            policy_stable = false\n",
        "        if policy_stable:\n",
        "          break\n",
        "    \n",
        "    return policy, V"
      ],
      "execution_count": 0,
      "outputs": []
    },
    {
      "metadata": {
        "deletable": false,
        "editable": false,
        "nbgrader": {
          "checksum": "c4ab9c8d01a5902c276a3fbfbcc89e01",
          "grade": true,
          "grade_id": "cell-8c62e92d1f34720b",
          "locked": true,
          "points": 1,
          "schema_version": 1,
          "solution": false
        },
        "id": "0-l1bATnluuV",
        "colab_type": "code",
        "colab": {
          "base_uri": "https://localhost:8080/",
          "height": 1004
        },
        "outputId": "66ebc0ee-5e36-4a3c-fc3c-fa0e48920a88"
      },
      "cell_type": "code",
      "source": [
        "# Let's see what it does\n",
        "policy, v = policy_improvement(env)\n",
        "print(\"Policy Probability Distribution:\")\n",
        "print(policy)\n",
        "print(\"\")\n",
        "\n",
        "def print_grid_policy(policy, symbols=[\"^\", \">\", \"v\", \"<\"]):\n",
        "    symbols = np.array(symbols)\n",
        "    for row in policy:\n",
        "        print(\"\".join(symbols[row]))\n",
        "\n",
        "print(\"Reshaped Grid Policy (0=up, 1=right, 2=down, 3=left):\")\n",
        "print(np.reshape(np.argmax(policy, axis=1), env.shape))\n",
        "print_grid_policy(np.reshape(np.argmax(policy, axis=1), env.shape))\n",
        "print(\"\")\n",
        "\n",
        "print(\"Value Function:\")\n",
        "print(v)\n",
        "print(\"\")\n",
        "\n",
        "print(\"Reshaped Grid Value Function:\")\n",
        "print(v.reshape(env.shape))\n",
        "print(\"\")\n",
        "\n",
        "plot_gridworld_value(v.reshape(env.shape))"
      ],
      "execution_count": 45,
      "outputs": [
        {
          "output_type": "stream",
          "text": [
            "Policy Probability Distribution:\n",
            "[[1. 0. 0. 0.]\n",
            " [0. 0. 0. 1.]\n",
            " [0. 0. 0. 1.]\n",
            " [0. 0. 0. 1.]\n",
            " [1. 0. 0. 0.]\n",
            " [1. 0. 0. 0.]\n",
            " [0. 0. 0. 1.]\n",
            " [0. 0. 1. 0.]\n",
            " [1. 0. 0. 0.]\n",
            " [1. 0. 0. 0.]\n",
            " [0. 1. 0. 0.]\n",
            " [0. 0. 1. 0.]\n",
            " [1. 0. 0. 0.]\n",
            " [0. 1. 0. 0.]\n",
            " [0. 1. 0. 0.]\n",
            " [1. 0. 0. 0.]]\n",
            "\n",
            "Reshaped Grid Policy (0=up, 1=right, 2=down, 3=left):\n",
            "[[0 3 3 3]\n",
            " [0 0 3 2]\n",
            " [0 0 1 2]\n",
            " [0 1 1 0]]\n",
            "^<<<\n",
            "^^<v\n",
            "^^>v\n",
            "^>>^\n",
            "\n",
            "Value Function:\n",
            "[  0.         -13.99993529 -19.99990698 -21.99989761 -13.99993529\n",
            " -17.9999206  -19.99991379 -19.99991477 -19.99990698 -19.99991379\n",
            " -17.99992725 -13.99994569 -21.99989761 -19.99991477 -13.99994569\n",
            "   0.        ]\n",
            "\n",
            "Reshaped Grid Value Function:\n",
            "[[  0.         -13.99993529 -19.99990698 -21.99989761]\n",
            " [-13.99993529 -17.9999206  -19.99991379 -19.99991477]\n",
            " [-19.99990698 -19.99991379 -17.99992725 -13.99994569]\n",
            " [-21.99989761 -19.99991477 -13.99994569   0.        ]]\n",
            "\n"
          ],
          "name": "stdout"
        },
        {
          "output_type": "display_data",
          "data": {
            "image/png": "[encoded data removed]",
            "text/plain": [
              "<matplotlib.figure.Figure at 0x7f5744b7e588>"
            ]
          },
          "metadata": {
            "tags": []
          }
        }
      ]
    },
    {
      "metadata": {
        "deletable": false,
        "editable": false,
        "nbgrader": {
          "checksum": "eee712b931eb830cb89792ef30675558",
          "grade": true,
          "grade_id": "cell-695dc14dbc6a8f95",
          "locked": true,
          "points": 1,
          "schema_version": 1,
          "solution": false
        },
        "id": "4DKyvTTRluuz",
        "colab_type": "code",
        "colab": {}
      },
      "cell_type": "code",
      "source": [
        "# This is not an empty cell. It is needed for grading."
      ],
      "execution_count": 0,
      "outputs": []
    },
    {
      "metadata": {
        "deletable": false,
        "editable": false,
        "nbgrader": {
          "checksum": "c926edcbca292c79812c5b27eab63108",
          "grade": false,
          "grade_id": "cell-ceb755afcff43612",
          "locked": true,
          "schema_version": 1,
          "solution": false
        },
        "id": "E8OeONCTluvD",
        "colab_type": "text"
      },
      "cell_type": "markdown",
      "source": [
        "---\n",
        "## 3. Value Iteration (3 points)\n",
        "Now implement the value iteration algorithm."
      ]
    },
    {
      "metadata": {
        "deletable": false,
        "nbgrader": {
          "checksum": "87f515e22f7ad0ea461271479dff3f5e",
          "grade": false,
          "grade_id": "cell-574fc5f6932fa4cc",
          "locked": false,
          "schema_version": 1,
          "solution": true
        },
        "id": "czRZBHZiluvH",
        "colab_type": "code",
        "colab": {}
      },
      "cell_type": "code",
      "source": [
        "def value_iteration(env, theta=0.0001, discount_factor=1.0):\n",
        "    \"\"\"\n",
        "    Value Iteration Algorithm.\n",
        "    \n",
        "    Args:\n",
        "        env: OpenAI env. env.P represents the transition probabilities of the environment.\n",
        "            env.P[s][a] is a list of transition tuples (prob, next_state, reward, done).\n",
        "            env.nS is a number of states in the environment. \n",
        "            env.nA is a number of actions in the environment.\n",
        "        theta: We stop evaluation once our value function change is less than theta for all states.\n",
        "        discount_factor: Gamma discount factor.\n",
        "        \n",
        "    Returns:\n",
        "        A tuple (policy, V) of the optimal policy and the optimal value function.        \n",
        "    \"\"\"\n",
        "    \n",
        "\n",
        "    V = np.zeros(env.nS)\n",
        "    policy = np.ones([env.nS, env.nA]) / env.nA\n",
        "    \n",
        "    # Implement!\n",
        "    V = policy_eval(policy, env, discount_factor)\n",
        "    \n",
        "    for state in env.P:\n",
        "      new_policies = np.zeros(env.nA)\n",
        "      for action in env.P[state]:\n",
        "        q_value = 0.0\n",
        "        for transition_tuple in env.P[state][action]:\n",
        "          prob, next_state, reward, done = transition_tuple\n",
        "          q_value += prob * (reward + discount_factor * V[next_state])\n",
        "        new_policies[action] = q_value\n",
        "      policy[state] *= 0.0\n",
        "      policy[state][np.argmax(new_policies)] = 1\n",
        "    \n",
        "    return policy, V"
      ],
      "execution_count": 0,
      "outputs": []
    },
    {
      "metadata": {
        "deletable": false,
        "editable": false,
        "nbgrader": {
          "checksum": "d103427f5b98a8957ad486243f98e64c",
          "grade": true,
          "grade_id": "cell-b82ed3adfeecc757",
          "locked": true,
          "points": 1,
          "schema_version": 1,
          "solution": false
        },
        "id": "vmXB-nBCluvV",
        "colab_type": "code",
        "colab": {
          "base_uri": "https://localhost:8080/",
          "height": 752
        },
        "outputId": "b1c3117c-485d-4c55-fe25-dea96438ad7f"
      },
      "cell_type": "code",
      "source": [
        "# Oh let's test again\n",
        "# Let's see what it does\n",
        "policy, v = value_iteration(env)\n",
        "print(\"Policy Probability Distribution:\")\n",
        "print(policy)\n",
        "print(\"\")\n",
        "\n",
        "print(\"Reshaped Grid Policy (0=up, 1=right, 2=down, 3=left):\")\n",
        "print(np.reshape(np.argmax(policy, axis=1), env.shape))\n",
        "print_grid_policy(np.reshape(np.argmax(policy, axis=1), env.shape))\n",
        "print(\"\")\n",
        "\n",
        "print(\"Value Function:\")\n",
        "print(v)\n",
        "print(\"\")\n",
        "\n",
        "print(\"Reshaped Grid Value Function:\")\n",
        "print(v.reshape(env.shape))\n",
        "print(\"\")\n"
      ],
      "execution_count": 53,
      "outputs": [
        {
          "output_type": "stream",
          "text": [
            "Policy Probability Distribution:\n",
            "[[1. 0. 0. 0.]\n",
            " [0. 0. 0. 1.]\n",
            " [0. 0. 0. 1.]\n",
            " [0. 0. 0. 1.]\n",
            " [1. 0. 0. 0.]\n",
            " [1. 0. 0. 0.]\n",
            " [0. 0. 0. 1.]\n",
            " [0. 0. 1. 0.]\n",
            " [1. 0. 0. 0.]\n",
            " [1. 0. 0. 0.]\n",
            " [0. 1. 0. 0.]\n",
            " [0. 0. 1. 0.]\n",
            " [1. 0. 0. 0.]\n",
            " [0. 1. 0. 0.]\n",
            " [0. 1. 0. 0.]\n",
            " [1. 0. 0. 0.]]\n",
            "\n",
            "Reshaped Grid Policy (0=up, 1=right, 2=down, 3=left):\n",
            "[[0 3 3 3]\n",
            " [0 0 3 2]\n",
            " [0 0 1 2]\n",
            " [0 1 1 0]]\n",
            "^<<<\n",
            "^^<v\n",
            "^^>v\n",
            "^>>^\n",
            "\n",
            "Value Function:\n",
            "[  0.         -13.99993529 -19.99990698 -21.99989761 -13.99993529\n",
            " -17.9999206  -19.99991379 -19.99991477 -19.99990698 -19.99991379\n",
            " -17.99992725 -13.99994569 -21.99989761 -19.99991477 -13.99994569\n",
            "   0.        ]\n",
            "\n",
            "Reshaped Grid Value Function:\n",
            "[[  0.         -13.99993529 -19.99990698 -21.99989761]\n",
            " [-13.99993529 -17.9999206  -19.99991379 -19.99991477]\n",
            " [-19.99990698 -19.99991379 -17.99992725 -13.99994569]\n",
            " [-21.99989761 -19.99991477 -13.99994569   0.        ]]\n",
            "\n"
          ],
          "name": "stdout"
        }
      ]
    },
    {
      "metadata": {
        "deletable": false,
        "editable": false,
        "nbgrader": {
          "checksum": "3add7d8b6101d0e3b6250b6bb064566c",
          "grade": false,
          "grade_id": "cell-ded21ac846e244a3",
          "locked": true,
          "schema_version": 1,
          "solution": false
        },
        "id": "Jtcy5a5fluvn",
        "colab_type": "text"
      },
      "cell_type": "markdown",
      "source": [
        "What is the difference between value iteration and policy iteration? Which algorithm is most efficient (e.g. needs to perform the least *backup* operations)? Please answer *concisely* in the cell below."
      ]
    },
    {
      "metadata": {
        "deletable": false,
        "nbgrader": {
          "checksum": "078f713af4c6bf3af8fb31b8da772758",
          "grade": true,
          "grade_id": "cell-940a8d8e21f18f69",
          "locked": false,
          "points": 2,
          "schema_version": 1,
          "solution": true
        },
        "id": "d1Ck2qxoluvy",
        "colab_type": "text"
      },
      "cell_type": "markdown",
      "source": [
        "YOUR ANSWER HERE"
      ]
    },
    {
      "metadata": {
        "deletable": false,
        "editable": false,
        "nbgrader": {
          "checksum": "98ec4e85c09c116f6fe1658fa0451e33",
          "grade": false,
          "grade_id": "cell-7ab207a9f93cf4d3",
          "locked": true,
          "schema_version": 1,
          "solution": false
        },
        "id": "0zaJ_sPGluv2",
        "colab_type": "text"
      },
      "cell_type": "markdown",
      "source": [
        "## 4. Monte Carlo Prediction (7 points)\n",
        "What is the difference between Dynamic Programming and Monte Carlo? When would you use the one or the other algorithm?"
      ]
    },
    {
      "metadata": {
        "deletable": false,
        "nbgrader": {
          "checksum": "dba98a584a2d9c97735f96547ac7442a",
          "grade": true,
          "grade_id": "cell-74a904ed87b8e2cc",
          "locked": false,
          "points": 2,
          "schema_version": 1,
          "solution": true
        },
        "id": "-xy8hqrfluwv",
        "colab_type": "text"
      },
      "cell_type": "markdown",
      "source": [
        "YOUR ANSWER HERE"
      ]
    },
    {
      "metadata": {
        "deletable": false,
        "editable": false,
        "nbgrader": {
          "checksum": "0d826feda7dc9cab51ad9db8ccbdfadf",
          "grade": false,
          "grade_id": "cell-5f0c1d608436b67b",
          "locked": true,
          "schema_version": 1,
          "solution": false
        },
        "id": "PzKenBkMluwz",
        "colab_type": "text"
      },
      "cell_type": "markdown",
      "source": [
        "For the Monte Carlo Prediction we will look at the Blackjack game (Example 5.1 from the book), for which the `BlackjackEnv` is implemented in `blackjack.py`. Note that compared to the gridworld, the state is no longer a single integer, which is why we use a dictionary to represent the value function instead of a numpy array. By using `defaultdict`, each state gets a default value of 0."
      ]
    },
    {
      "metadata": {
        "deletable": false,
        "editable": false,
        "nbgrader": {
          "checksum": "fb7a884505c5973aff2fe9998cc104e2",
          "grade": false,
          "grade_id": "cell-a342b69fcfdea5b2",
          "locked": true,
          "schema_version": 1,
          "solution": false
        },
        "id": "YPhZ0WZqluw_",
        "colab_type": "code",
        "colab": {}
      },
      "cell_type": "code",
      "source": [
        "from blackjack import BlackjackEnv\n",
        "env = BlackjackEnv()"
      ],
      "execution_count": 0,
      "outputs": []
    },
    {
      "metadata": {
        "deletable": false,
        "editable": false,
        "nbgrader": {
          "checksum": "26ae90f402b5de7d07f23e776a525c4b",
          "grade": false,
          "grade_id": "cell-7366692dee80c32c",
          "locked": true,
          "schema_version": 1,
          "solution": false
        },
        "id": "Fco3tT-UluxW",
        "colab_type": "text"
      },
      "cell_type": "markdown",
      "source": [
        "For the Monte Carlo algorithm, we need to *interact* with the environment. This means that we start an episode by using `env.reset` and send the environment actions via `env.step` to observe the reward and next observation (state)."
      ]
    },
    {
      "metadata": {
        "deletable": false,
        "editable": false,
        "nbgrader": {
          "checksum": "ef5fc8c121d400f2192646c9201e7769",
          "grade": false,
          "grade_id": "cell-85356add2643980e",
          "locked": true,
          "schema_version": 1,
          "solution": false
        },
        "id": "2xTRlP1aluxd",
        "colab_type": "code",
        "colab": {}
      },
      "cell_type": "code",
      "source": [
        "# So let's have a look at what we can do in general with an environment...\n",
        "import gym\n",
        "?gym.Env"
      ],
      "execution_count": 0,
      "outputs": []
    },
    {
      "metadata": {
        "deletable": false,
        "editable": false,
        "nbgrader": {
          "checksum": "0433c9161cddc2d9171c8e87b1e9b444",
          "grade": false,
          "grade_id": "cell-251b7b17c5d08a24",
          "locked": true,
          "schema_version": 1,
          "solution": false
        },
        "id": "plwE7lpRluxp",
        "colab_type": "code",
        "colab": {}
      },
      "cell_type": "code",
      "source": [
        "# We can also look at the documentation/implementation of a method\n",
        "?env.step"
      ],
      "execution_count": 0,
      "outputs": []
    },
    {
      "metadata": {
        "deletable": false,
        "editable": false,
        "nbgrader": {
          "checksum": "42aceb4ea182a1aacfb40c5f201d4b01",
          "grade": false,
          "grade_id": "cell-6decb2ab83c5bcec",
          "locked": true,
          "schema_version": 1,
          "solution": false
        },
        "id": "XDgtb8SuluyL",
        "colab_type": "code",
        "colab": {}
      },
      "cell_type": "code",
      "source": [
        "??BlackjackEnv"
      ],
      "execution_count": 0,
      "outputs": []
    },
    {
      "metadata": {
        "deletable": false,
        "editable": false,
        "nbgrader": {
          "checksum": "8fa896a9ea64567134c861511cfa6011",
          "grade": false,
          "grade_id": "cell-ae161126d3cb1b7b",
          "locked": true,
          "schema_version": 1,
          "solution": false
        },
        "id": "LIL4NByXluyd",
        "colab_type": "text"
      },
      "cell_type": "markdown",
      "source": [
        "A very simple policy for Blackjack is to *stick* if we have 20 or 21 points and *hit* otherwise. We want to know how good this policy is. This policy is *deterministic* and therefore a function that maps an observation to a single action. Technically, we can implement this as a dictionary or as a function, where we use the latter. To get started, let's implement this simple policy for BlackJack."
      ]
    },
    {
      "metadata": {
        "deletable": false,
        "nbgrader": {
          "checksum": "0a51bbe0d24d711482d0d0770e955a16",
          "grade": false,
          "grade_id": "cell-9fdcb503df9cdb08",
          "locked": false,
          "schema_version": 1,
          "solution": true
        },
        "id": "shnszDjiluyi",
        "colab_type": "code",
        "colab": {}
      },
      "cell_type": "code",
      "source": [
        "def simple_policy(observation):\n",
        "    \"\"\"\n",
        "    A policy that sticks if the player score is > 20 and hits otherwise.\n",
        "    \"\"\"\n",
        "    # YOUR CODE HERE\n",
        "    raise NotImplementedError()"
      ],
      "execution_count": 0,
      "outputs": []
    },
    {
      "metadata": {
        "deletable": false,
        "editable": false,
        "nbgrader": {
          "checksum": "bf04382f012b102f2c5c360bb8da3241",
          "grade": true,
          "grade_id": "cell-99f02e2d9b338a5b",
          "locked": true,
          "points": 1,
          "schema_version": 1,
          "solution": false
        },
        "id": "qzYBgezoluy4",
        "colab_type": "code",
        "colab": {}
      },
      "cell_type": "code",
      "source": [
        "s = env.reset()\n",
        "print(s)\n",
        "a = simple_policy(s)\n",
        "print(env.step(a))"
      ],
      "execution_count": 0,
      "outputs": []
    },
    {
      "metadata": {
        "deletable": false,
        "editable": false,
        "nbgrader": {
          "checksum": "b5e33f6499dd4040071dc62a3e8fccb2",
          "grade": false,
          "grade_id": "cell-0184f4c719afb98c",
          "locked": true,
          "schema_version": 1,
          "solution": false
        },
        "id": "Sos71ndFluzE",
        "colab_type": "text"
      },
      "cell_type": "markdown",
      "source": [
        "Now implement either the MC prediction algorithm (either first visit or every visit). Hint: you can use `for i in tqdm(range(num_episodes))` to show a progress bar."
      ]
    },
    {
      "metadata": {
        "deletable": false,
        "nbgrader": {
          "checksum": "a90a42914d0f7ade801bee9a8bd04e19",
          "grade": true,
          "grade_id": "cell-b822e9d13cf1f65e",
          "locked": false,
          "points": 2,
          "schema_version": 1,
          "solution": true
        },
        "id": "IU5gUOyKluzT",
        "colab_type": "code",
        "colab": {}
      },
      "cell_type": "code",
      "source": [
        "from collections import defaultdict\n",
        "\n",
        "def mc_prediction(policy, env, num_episodes, discount_factor=1.0):\n",
        "    \"\"\"\n",
        "    Monte Carlo prediction algorithm. Calculates the value function\n",
        "    for a given policy using sampling.\n",
        "    \n",
        "    Args:\n",
        "        policy: A function that maps an observation to action probabilities.\n",
        "        env: OpenAI gym environment.\n",
        "        num_episodes: Number of episodes to sample.\n",
        "        discount_factor: Gamma discount factor.\n",
        "    \n",
        "    Returns:\n",
        "        A dictionary that maps from state -> value.\n",
        "        The state is a tuple and the value is a float.\n",
        "    \"\"\"\n",
        "\n",
        "    # Keeps track of sum and count of returns for each state\n",
        "    # to calculate an average. We could use an array to save all\n",
        "    # returns (like in the book) but that's memory inefficient.\n",
        "    returns_sum = defaultdict(float)\n",
        "    returns_count = defaultdict(float)\n",
        "    \n",
        "    # The final value function\n",
        "    V = defaultdict(float)\n",
        "    \n",
        "    # YOUR CODE HERE\n",
        "    raise NotImplementedError()\n",
        "    \n",
        "    return V"
      ],
      "execution_count": 0,
      "outputs": []
    },
    {
      "metadata": {
        "id": "0W6vWNKaluzn",
        "colab_type": "code",
        "colab": {}
      },
      "cell_type": "code",
      "source": [
        "V = mc_prediction(simple_policy, env, num_episodes=1000)\n",
        "print(V)"
      ],
      "execution_count": 0,
      "outputs": []
    },
    {
      "metadata": {
        "deletable": false,
        "editable": false,
        "nbgrader": {
          "checksum": "65fb9d8060a4c843e72474169396eb3e",
          "grade": false,
          "grade_id": "cell-9d32f907f180c088",
          "locked": true,
          "schema_version": 1,
          "solution": false
        },
        "id": "7O2G0zwjluzz",
        "colab_type": "text"
      },
      "cell_type": "markdown",
      "source": [
        "Now make *4 plots* like Figure 5.1 in the book. You can either make 3D plots or heatmaps. Make sure that your results look similar to the results in the book. Give your plots appropriate titles, axis labels, etc."
      ]
    },
    {
      "metadata": {
        "deletable": false,
        "editable": false,
        "nbgrader": {
          "checksum": "8a4eee824f088a6c13ee8c9296af4561",
          "grade": false,
          "grade_id": "cell-cbaf4d6a0e4c00fa",
          "locked": true,
          "schema_version": 1,
          "solution": false
        },
        "id": "SOF0i06aluz1",
        "colab_type": "code",
        "colab": {}
      },
      "cell_type": "code",
      "source": [
        "%%time\n",
        "# Let's run your code one time\n",
        "V_10k = mc_prediction(simple_policy, env, num_episodes=10000)\n",
        "V_500k = mc_prediction(simple_policy, env, num_episodes=500000)"
      ],
      "execution_count": 0,
      "outputs": []
    },
    {
      "metadata": {
        "deletable": false,
        "nbgrader": {
          "checksum": "84102d69cdad07cf0100d846346b65e6",
          "grade": true,
          "grade_id": "cell-ba046443478aa517",
          "locked": false,
          "points": 2,
          "schema_version": 1,
          "solution": true
        },
        "id": "zNrE5WNllu0C",
        "colab_type": "code",
        "colab": {}
      },
      "cell_type": "code",
      "source": [
        "# YOUR CODE HERE\n",
        "raise NotImplementedError()"
      ],
      "execution_count": 0,
      "outputs": []
    },
    {
      "metadata": {
        "deletable": false,
        "editable": false,
        "nbgrader": {
          "checksum": "a65fdcbe1c3c2a4f23b847a8dae03570",
          "grade": false,
          "grade_id": "cell-a5cc039e3d648855",
          "locked": true,
          "schema_version": 1,
          "solution": false
        },
        "id": "EmT1UWwIlu0T",
        "colab_type": "text"
      },
      "cell_type": "markdown",
      "source": [
        "## 5. Monte Carlo control with $\\epsilon$-greedy policy (5 points)\n",
        "Now we have a method to evaluate state-values given a policy. Take a moment to think whether we can use the value function to find a better policy? Assuming we do not know the dynamics of the environment, why is this not possible?\n",
        "\n",
        "We want a policy that selects _actions_ with maximum value, e.g. is _greedy_ with respect to the _action-value_ (or Q-value) function $Q(s,a)$. We need to keep exploring, so with probability $\\epsilon$ we will take a random action. First, lets implement a function `make_epsilon_greedy_policy` that takes the Q-value function and returns an $\\epsilon$-greedy policy."
      ]
    },
    {
      "metadata": {
        "deletable": false,
        "nbgrader": {
          "checksum": "ecd6cfa62fdf8463d6a97a865de84140",
          "grade": true,
          "grade_id": "cell-78eff3f4ca0f0e09",
          "locked": false,
          "points": 1,
          "schema_version": 1,
          "solution": true
        },
        "id": "_qsE4rkClu0c",
        "colab_type": "code",
        "colab": {}
      },
      "cell_type": "code",
      "source": [
        "def make_epsilon_greedy_policy(Q, epsilon, nA):\n",
        "    \"\"\"\n",
        "    Creates an epsilon-greedy policy based on a given Q-function and epsilon.\n",
        "    \n",
        "    Args:\n",
        "        Q: A dictionary that maps from state -> action-values.\n",
        "            Each value is a numpy array of length nA (see below)\n",
        "        epsilon: The probability to select a random action . float between 0 and 1.\n",
        "        nA: Number of actions in the environment.\n",
        "    \n",
        "    Returns:\n",
        "        A function that takes the observation as an argument and returns\n",
        "        the probabilities for each action in the form of a numpy array of length nA.\n",
        "    \n",
        "    \"\"\"\n",
        "    def policy_fn(observation):\n",
        "        # YOUR CODE HERE\n",
        "        raise NotImplementedError()\n",
        "    return policy_fn"
      ],
      "execution_count": 0,
      "outputs": []
    },
    {
      "metadata": {
        "deletable": false,
        "nbgrader": {
          "checksum": "12a7f4ab3c649a1d768ce80d4573cf28",
          "grade": true,
          "grade_id": "cell-2fc0baa87f31ab98",
          "locked": false,
          "points": 2,
          "schema_version": 1,
          "solution": true
        },
        "id": "I_KdIu65lu0q",
        "colab_type": "code",
        "colab": {}
      },
      "cell_type": "code",
      "source": [
        "def mc_control_epsilon_greedy(env, num_episodes, discount_factor=1.0, epsilon=0.1):\n",
        "    \"\"\"\n",
        "    Monte Carlo Control using Epsilon-Greedy policies.\n",
        "    Finds an optimal epsilon-greedy policy.\n",
        "    \n",
        "    Args:\n",
        "        env: OpenAI gym environment.\n",
        "        num_episodes: Number of episodes to sample.\n",
        "        discount_factor: Gamma discount factor.\n",
        "        epsilon: Chance the sample a random action. Float betwen 0 and 1.\n",
        "    \n",
        "    Returns:\n",
        "        A tuple (Q, policy).\n",
        "        Q is a dictionary mapping state -> action values.\n",
        "        policy is a function that takes an observation as an argument and returns\n",
        "        action probabilities\n",
        "    \"\"\"\n",
        "    \n",
        "    # Again, keep track of counts for efficiency\n",
        "    # returns_sum, returns_count and Q are \n",
        "    # nested dictionaries that map state -> (action -> action-value).\n",
        "    # We could also use tuples (s, a) as keys in a 1d dictionary, but this\n",
        "    # way Q is in the format that works with make_epsilon_greedy_policy\n",
        "    \n",
        "    returns_sum = defaultdict(lambda: np.zeros(env.action_space.n))\n",
        "    returns_count = defaultdict(lambda: np.zeros(env.action_space.n, dtype=int))\n",
        "    \n",
        "    # The final action-value function.\n",
        "    Q = defaultdict(lambda: np.zeros(env.action_space.n))\n",
        "    \n",
        "    # The policy we're following\n",
        "    policy = make_epsilon_greedy_policy(Q, epsilon, env.action_space.n)\n",
        "    \n",
        "    # YOUR CODE HERE\n",
        "    raise NotImplementedError()\n",
        "    \n",
        "    return Q, policy\n",
        "\n",
        "# Test it quickly\n",
        "Q, policy = mc_control_epsilon_greedy(env, num_episodes=10000, epsilon=0.1)"
      ],
      "execution_count": 0,
      "outputs": []
    },
    {
      "metadata": {
        "deletable": false,
        "editable": false,
        "nbgrader": {
          "checksum": "9ea50e12589ce430405fa2e92ee0c108",
          "grade": false,
          "grade_id": "cell-e6170d8979ca2a9c",
          "locked": true,
          "schema_version": 1,
          "solution": false
        },
        "id": "LBuw3Lxnlu04",
        "colab_type": "code",
        "colab": {}
      },
      "cell_type": "code",
      "source": [
        "%%time\n",
        "Q, policy = mc_control_epsilon_greedy(env, num_episodes=500000, epsilon=0.1)"
      ],
      "execution_count": 0,
      "outputs": []
    },
    {
      "metadata": {
        "deletable": false,
        "editable": false,
        "nbgrader": {
          "checksum": "94d3f0aecbe1b5ebfed94e7b1379f617",
          "grade": false,
          "grade_id": "cell-449e36eb98369942",
          "locked": true,
          "schema_version": 1,
          "solution": false
        },
        "id": "ctOWT0Q6lu1D",
        "colab_type": "text"
      },
      "cell_type": "markdown",
      "source": [
        "How can you obtain the (V-)value function from the Q-value function? Plot the (V-)value function that is the result of 500K iterations. Additionally, visualize the greedy policy similar to Figure 5.2 in the book. Use a white square for hitting, black for sticking."
      ]
    },
    {
      "metadata": {
        "deletable": false,
        "nbgrader": {
          "checksum": "ef932ff88d976ffefc0338822d7d2af9",
          "grade": true,
          "grade_id": "cell-7d797248a3b132f5",
          "locked": false,
          "points": 2,
          "schema_version": 1,
          "solution": true
        },
        "id": "8TAqF4-nlu1G",
        "colab_type": "code",
        "colab": {}
      },
      "cell_type": "code",
      "source": [
        "# YOUR CODE HERE\n",
        "raise NotImplementedError()"
      ],
      "execution_count": 0,
      "outputs": []
    },
    {
      "metadata": {
        "deletable": false,
        "editable": false,
        "nbgrader": {
          "checksum": "1fd18efb629e87209d1db4236553de73",
          "grade": false,
          "grade_id": "cell-eecfd6fb626abfae",
          "locked": true,
          "schema_version": 1,
          "solution": false
        },
        "id": "0LM6xEcdlu1b",
        "colab_type": "text"
      },
      "cell_type": "markdown",
      "source": [
        "## 6. Temporal Difference (TD) learning (8 points)\n",
        "Mention one advantage and one disadvantage of Monte Carlo methods. Mention an example where you would prefer to use TD learning."
      ]
    },
    {
      "metadata": {
        "deletable": false,
        "nbgrader": {
          "checksum": "4b81bcd51404511164971c110ffa838f",
          "grade": true,
          "grade_id": "cell-cac4639044ba9074",
          "locked": false,
          "points": 1,
          "schema_version": 1,
          "solution": true
        },
        "id": "qCqyj4Rilu1i",
        "colab_type": "text"
      },
      "cell_type": "markdown",
      "source": [
        "YOUR ANSWER HERE"
      ]
    },
    {
      "metadata": {
        "deletable": false,
        "editable": false,
        "nbgrader": {
          "checksum": "e61bd7837d3b364741b4c3aa43597a10",
          "grade": false,
          "grade_id": "cell-21ca38ffcbe1c3ca",
          "locked": true,
          "schema_version": 1,
          "solution": false
        },
        "id": "dUkJhVA-lu1s",
        "colab_type": "text"
      },
      "cell_type": "markdown",
      "source": [
        "For the TD algorithms, we will skip the prediction algorithm and go straight for the control setting where we optimize the policy that we are using. In other words: implement SARSA. To keep it dynamic, we will use the windy gridworld environment (Example 6.5)."
      ]
    },
    {
      "metadata": {
        "deletable": false,
        "editable": false,
        "nbgrader": {
          "checksum": "609d0f1e1ef6ad89c8dcd96dd43aa798",
          "grade": false,
          "grade_id": "cell-c046fd0377cee46d",
          "locked": true,
          "schema_version": 1,
          "solution": false
        },
        "id": "mEUALF0_lu16",
        "colab_type": "code",
        "colab": {}
      },
      "cell_type": "code",
      "source": [
        "from windy_gridworld import WindyGridworldEnv\n",
        "env = WindyGridworldEnv()"
      ],
      "execution_count": 0,
      "outputs": []
    },
    {
      "metadata": {
        "deletable": false,
        "nbgrader": {
          "checksum": "42b89f13768d1cd3b41fb52cddef0d97",
          "grade": true,
          "grade_id": "cell-6b662771f3762bb1",
          "locked": false,
          "points": 2,
          "schema_version": 1,
          "solution": true
        },
        "id": "bdJQ8Py7lu2T",
        "colab_type": "code",
        "colab": {}
      },
      "cell_type": "code",
      "source": [
        "def sarsa(env, num_episodes, discount_factor=1.0, alpha=0.5, epsilon=0.1, Q=None):\n",
        "    \"\"\"\n",
        "    SARSA algorithm: On-policy TD control. Finds the optimal epsilon-greedy policy.\n",
        "    \n",
        "    Args:\n",
        "        env: OpenAI environment.\n",
        "        num_episodes: Number of episodes to run for.\n",
        "        discount_factor: Gamma discount factor.\n",
        "        alpha: TD learning rate.\n",
        "        epsilon: Probability to sample a random action. Float between 0 and 1.\n",
        "        Q: hot-start the algorithm with a Q value function (optional)\n",
        "    \n",
        "    Returns:\n",
        "        A tuple (Q, stats).\n",
        "        Q is the optimal action-value function, a dictionary mapping state -> action values.\n",
        "        stats is a list of tuples giving the episode lengths and rewards.\n",
        "    \"\"\"\n",
        "    \n",
        "    # The final action-value function.\n",
        "    # A nested dictionary that maps state -> (action -> action-value).\n",
        "    if Q is None:\n",
        "        Q = defaultdict(lambda: np.zeros(env.action_space.n))\n",
        "    \n",
        "    # Keeps track of useful statistics\n",
        "    stats = []\n",
        "    \n",
        "    # The policy we're following\n",
        "    policy = make_epsilon_greedy_policy(Q, epsilon, env.action_space.n)\n",
        "    \n",
        "\n",
        "    for i_episode in tqdm(range(num_episodes)):\n",
        "        i = 0\n",
        "        R = 0\n",
        "        \n",
        "        # YOUR CODE HERE\n",
        "        raise NotImplementedError()\n",
        "        \n",
        "        stats.append((i, R))\n",
        "    episode_lengths, episode_returns = zip(*stats)\n",
        "    return Q, (episode_lengths, episode_returns)\n",
        "\n",
        "Q_sarsa, (episode_lengths_sarsa, episode_returns_sarsa) = sarsa(env, 1000)\n",
        "\n",
        "# We will help you with plotting this time\n",
        "plt.plot(episode_lengths_sarsa)\n",
        "plt.title('Episode lengths SARSA')\n",
        "plt.show()\n",
        "plt.plot(episode_returns_sarsa)\n",
        "plt.title('Episode returns SARSA')\n",
        "plt.show()"
      ],
      "execution_count": 0,
      "outputs": []
    },
    {
      "metadata": {
        "deletable": false,
        "editable": false,
        "nbgrader": {
          "checksum": "6d2e2b63d4428913ca84b62fb4384ef9",
          "grade": false,
          "grade_id": "cell-0eaf4b925ab3ea34",
          "locked": true,
          "schema_version": 1,
          "solution": false
        },
        "id": "zAqJbYv6lu2k",
        "colab_type": "text"
      },
      "cell_type": "markdown",
      "source": [
        "Since we might not be interested in falling off the cliff all the time, we can find another person to do this 'exploration' for us (in the name of science). Still, we would like to learn ourselfs from this persons policy, which is where we arrive at _off-policy_ learning. In the simplest variant, we learn our own value by bootstrapping based on the action value corresponding to the best action we could take, while the exploration policy actual follows the $\\epsilon$-greedy strategy. This is known as Q-learning."
      ]
    },
    {
      "metadata": {
        "deletable": false,
        "nbgrader": {
          "checksum": "954556134388a34f8d4b9a07834180c5",
          "grade": true,
          "grade_id": "cell-a87637d2e582fec0",
          "locked": false,
          "points": 1,
          "schema_version": 1,
          "solution": true
        },
        "id": "0YsonuQOlu2q",
        "colab_type": "code",
        "colab": {}
      },
      "cell_type": "code",
      "source": [
        "def q_learning(env, num_episodes, discount_factor=1.0, alpha=0.5, epsilon=0.1, Q=None):\n",
        "    \"\"\"\n",
        "    Q-Learning algorithm: Off-policy TD control. Finds the optimal greedy policy\n",
        "    while following an epsilon-greedy policy\n",
        "    \n",
        "    \n",
        "    Args:\n",
        "        env: OpenAI environment.\n",
        "        num_episodes: Number of episodes to run for.\n",
        "        discount_factor: Gamma discount factor.\n",
        "        alpha: TD learning rate.\n",
        "        epsilon: Probability to sample a random action. Float between 0 and 1.\n",
        "        Q: hot-start the algorithm with a Q value function (optional)\n",
        "    \n",
        "    Returns:\n",
        "        A tuple (Q, stats).\n",
        "        Q is the optimal action-value function, a dictionary mapping state -> action values.\n",
        "        stats is a list of tuples giving the episode lengths and rewards.\n",
        "    \"\"\"\n",
        "    \n",
        "    # The final action-value function.\n",
        "    # A nested dictionary that maps state -> (action -> action-value).\n",
        "    if Q is None:\n",
        "        Q = defaultdict(lambda: np.zeros(env.action_space.n))\n",
        "    \n",
        "    # Keeps track of useful statistics\n",
        "    stats = []\n",
        "    \n",
        "    # The policy we're following\n",
        "    policy = make_epsilon_greedy_policy(Q, epsilon, env.action_space.n)\n",
        "    \n",
        "\n",
        "    for i_episode in tqdm(range(num_episodes)):\n",
        "        i = 0\n",
        "        R = 0\n",
        "        \n",
        "        # YOUR CODE HERE\n",
        "        raise NotImplementedError()\n",
        "        \n",
        "        stats.append((i, R))\n",
        "    episode_lengths, episode_returns = zip(*stats)\n",
        "    return Q, (episode_lengths, episode_returns)\n",
        "\n",
        "Q_q_learning, (episode_lengths_q_learning, episode_returns_q_learning) = q_learning(env, 1000)\n",
        "\n",
        "# We will help you with plotting this time\n",
        "plt.plot(episode_lengths_q_learning)\n",
        "plt.title('Episode lengths Q-learning')\n",
        "plt.show()\n",
        "plt.plot(episode_returns_q_learning)\n",
        "plt.title('Episode returns Q-learning')\n",
        "plt.show()"
      ],
      "execution_count": 0,
      "outputs": []
    },
    {
      "metadata": {
        "deletable": false,
        "editable": false,
        "nbgrader": {
          "checksum": "829728d6b5eea5b47885e984a7faa416",
          "grade": false,
          "grade_id": "cell-9f1fcee44ba712c2",
          "locked": true,
          "schema_version": 1,
          "solution": false
        },
        "id": "hHrl3axhlu2y",
        "colab_type": "text"
      },
      "cell_type": "markdown",
      "source": [
        "Now compare the episode returns while learning for Q-learning and Sarsa (maybe run some more iterations?), by plotting the returns for both algorithms in a single plot, like in the book, Example 6.6. In order to be able to compare them, you may want to zoom in on the y-axis and smooth the returns (e.g. plotting the $n$ episode average instead). Which algorithm achieves higher return during learning? How does this compare to Example 6.6 from the book? Try to explain your observations."
      ]
    },
    {
      "metadata": {
        "deletable": false,
        "nbgrader": {
          "checksum": "3c1a110fe85c38220afed145a8cf09bc",
          "grade": true,
          "grade_id": "cell-69ed62a52a44dd78",
          "locked": false,
          "points": 1,
          "schema_version": 1,
          "solution": true
        },
        "id": "JAwtuBzPlu24",
        "colab_type": "code",
        "colab": {}
      },
      "cell_type": "code",
      "source": [
        "# YOUR CODE HERE\n",
        "raise NotImplementedError()"
      ],
      "execution_count": 0,
      "outputs": []
    },
    {
      "metadata": {
        "deletable": false,
        "nbgrader": {
          "checksum": "a3357293c326223f2a02cae0f38ca24a",
          "grade": true,
          "grade_id": "cell-7acf9de8c94a171f",
          "locked": false,
          "points": 1,
          "schema_version": 1,
          "solution": true
        },
        "id": "k2F6oI7Alu3C",
        "colab_type": "text"
      },
      "cell_type": "markdown",
      "source": [
        "YOUR ANSWER HERE"
      ]
    },
    {
      "metadata": {
        "deletable": false,
        "editable": false,
        "nbgrader": {
          "checksum": "f2f954f745662334010f6fb0fcfd9896",
          "grade": false,
          "grade_id": "cell-316d3cfd35d55387",
          "locked": true,
          "schema_version": 1,
          "solution": false
        },
        "id": "4VkREsIUlu3G",
        "colab_type": "text"
      },
      "cell_type": "markdown",
      "source": [
        "After we have learned the policy, we do not care about exploration any more and we may switch to a deterministic (greedy) policy instead. If we evaluate this for both Sarsa and Q-learning (actually, for Q-learning the learned policy is already deterministic), which policy would you expect to perform better? Why?"
      ]
    },
    {
      "metadata": {
        "deletable": false,
        "nbgrader": {
          "checksum": "011f8038ac100bfdc5e40b78c1bdc2f8",
          "grade": true,
          "grade_id": "cell-ea5058e6f352d717",
          "locked": false,
          "points": 1,
          "schema_version": 1,
          "solution": true
        },
        "id": "Vz09dtvXlu3I",
        "colab_type": "text"
      },
      "cell_type": "markdown",
      "source": [
        "YOUR ANSWER HERE"
      ]
    },
    {
      "metadata": {
        "deletable": false,
        "editable": false,
        "nbgrader": {
          "checksum": "57ab54058d433e24421d1e1224a9bc87",
          "grade": false,
          "grade_id": "cell-8bcc6f5839a36860",
          "locked": true,
          "schema_version": 1,
          "solution": false
        },
        "id": "Z05TZ7odlu3S",
        "colab_type": "text"
      },
      "cell_type": "markdown",
      "source": [
        "Please run the experiments to test your hypothesis (print or plot your results). How many runs do you need to evaluate the policy? Note: without learning, the order of the episodes is not relevant so a normal `plt.plot` may not be the most appropriate choice."
      ]
    },
    {
      "metadata": {
        "deletable": false,
        "nbgrader": {
          "checksum": "149c39efef43f1807d2b06e6bc50bf95",
          "grade": true,
          "grade_id": "cell-55f9d1767bb7c011",
          "locked": false,
          "points": 1,
          "schema_version": 1,
          "solution": true
        },
        "id": "125FnCbtlu3U",
        "colab_type": "code",
        "colab": {}
      },
      "cell_type": "code",
      "source": [
        "# YOUR CODE HERE\n",
        "raise NotImplementedError()"
      ],
      "execution_count": 0,
      "outputs": []
    },
    {
      "metadata": {
        "id": "9UMtH2Illu3d",
        "colab_type": "code",
        "colab": {}
      },
      "cell_type": "code",
      "source": [
        ""
      ],
      "execution_count": 0,
      "outputs": []
    }
  ]
}